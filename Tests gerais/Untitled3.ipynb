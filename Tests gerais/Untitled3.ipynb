{
 "cells": [
  {
   "cell_type": "code",
   "execution_count": 8,
   "id": "770104ba",
   "metadata": {},
   "outputs": [
    {
     "name": "stdout",
     "output_type": "stream",
     "text": [
      ":: loading settings :: url = jar:file:/home/saulos_pires/.local/lib/python3.9/site-packages/pyspark/jars/ivy-2.5.0.jar!/org/apache/ivy/core/settings/ivysettings.xml\n"
     ]
    },
    {
     "name": "stderr",
     "output_type": "stream",
     "text": [
      "Ivy Default Cache set to: /home/saulos_pires/.ivy2/cache\n",
      "The jars for the packages stored in: /home/saulos_pires/.ivy2/jars\n",
      "io.delta#delta-core_2.12 added as a dependency\n",
      ":: resolving dependencies :: org.apache.spark#spark-submit-parent-84dbcbb6-e51d-4a71-bea5-07312d5cd76c;1.0\n",
      "\tconfs: [default]\n",
      "\tfound io.delta#delta-core_2.12;1.2.1 in central\n",
      "\tfound io.delta#delta-storage;1.2.1 in central\n",
      "\tfound org.antlr#antlr4-runtime;4.8 in central\n",
      "\tfound org.codehaus.jackson#jackson-core-asl;1.9.13 in central\n",
      ":: resolution report :: resolve 231ms :: artifacts dl 12ms\n",
      "\t:: modules in use:\n",
      "\tio.delta#delta-core_2.12;1.2.1 from central in [default]\n",
      "\tio.delta#delta-storage;1.2.1 from central in [default]\n",
      "\torg.antlr#antlr4-runtime;4.8 from central in [default]\n",
      "\torg.codehaus.jackson#jackson-core-asl;1.9.13 from central in [default]\n",
      "\t---------------------------------------------------------------------\n",
      "\t|                  |            modules            ||   artifacts   |\n",
      "\t|       conf       | number| search|dwnlded|evicted|| number|dwnlded|\n",
      "\t---------------------------------------------------------------------\n",
      "\t|      default     |   4   |   0   |   0   |   0   ||   4   |   0   |\n",
      "\t---------------------------------------------------------------------\n",
      ":: retrieving :: org.apache.spark#spark-submit-parent-84dbcbb6-e51d-4a71-bea5-07312d5cd76c\n",
      "\tconfs: [default]\n",
      "\t0 artifacts copied, 4 already retrieved (0kB/12ms)\n",
      "22/08/02 09:47:35 WARN NativeCodeLoader: Unable to load native-hadoop library for your platform... using builtin-java classes where applicable\n",
      "Using Spark's default log4j profile: org/apache/spark/log4j-defaults.properties\n",
      "Setting default log level to \"WARN\".\n",
      "To adjust logging level use sc.setLogLevel(newLevel). For SparkR, use setLogLevel(newLevel).\n",
      "22/08/02 09:47:36 WARN Utils: Service 'SparkUI' could not bind on port 4040. Attempting port 4041.\n"
     ]
    }
   ],
   "source": [
    "\n",
    "import pyspark\n",
    "\n",
    "builder = pyspark.sql.SparkSession.builder.appName(\"AppSaulo\") \\\n",
    "    .config(\"spark.sql.extensions\", \"io.delta.sql.DeltaSparkSessionExtension\") \\\n",
    "    .config(\"spark.sql.catalog.spark_catalog\", \"org.apache.spark.sql.delta.catalog.DeltaCatalog\") \\\n",
    "    .config(\"spark.sql.debug.maxToStringFields\", 100000)\n",
    "\n",
    "spark = configure_spark_with_delta_pip(builder).getOrCreate()\n"
   ]
  },
  {
   "cell_type": "code",
   "execution_count": 9,
   "id": "8226cb4a",
   "metadata": {},
   "outputs": [
    {
     "name": "stderr",
     "output_type": "stream",
     "text": [
      "                                                                                \r"
     ]
    }
   ],
   "source": [
    "df = spark.read.parquet('/home/saulos_pires/parquet/ds_zz_Product')\n",
    "df.createOrReplaceTempView('produto')\n"
   ]
  },
  {
   "cell_type": "code",
   "execution_count": 20,
   "id": "177f848b",
   "metadata": {},
   "outputs": [
    {
     "name": "stdout",
     "output_type": "stream",
     "text": [
      "+------------------+-----+-------+--------------+\n",
      "|      product_code|linha|produto|          data|\n",
      "+------------------+-----+-------+--------------+\n",
      "|000000000002000283|    1|    172|20220310144545|\n",
      "|000000000004012113|    1|    172|20220310144545|\n",
      "|000000000004049729|    1|    172|20220310144545|\n",
      "|000000000004162198|    1|    172|20220310144545|\n",
      "|000000000004177789|    1|    172|20220310144545|\n",
      "|000000000004181347|    1|    172|20220310144545|\n",
      "|000000000004183108|    1|    172|20220310144545|\n",
      "|000000000004183432|    1|    172|20220310144545|\n",
      "|000000000004192688|    1|    172|20220310144545|\n",
      "|000000000004192689|    1|    172|20220310144545|\n",
      "|000000000004218034|    1|    172|20220310144545|\n",
      "|000000000004218046|    1|    172|20220310144545|\n",
      "|000000000004219296|    1|    172|20220310144545|\n",
      "|000000000004219444|    1|    172|20220310144545|\n",
      "|000000000004219723|    1|    172|20220310144545|\n",
      "|000000000004220083|    1|    172|20220310144545|\n",
      "|000000000004220553|    1|    172|20220310144545|\n",
      "|000000000004225075|    1|    172|20220310144545|\n",
      "|000000000004246616|    1|    172|20220310144545|\n",
      "|000000000004246626|    1|    172|20220310144545|\n",
      "+------------------+-----+-------+--------------+\n",
      "only showing top 20 rows\n",
      "\n"
     ]
    }
   ],
   "source": [
    "df_resultado = spark.sql('select product_code \\\n",
    "                          , row_number() over(partition by product_code order by ins_gmt_ts desc ) as linha \\\n",
    "                          , count(product_code) over(partition by category_code ) as produto \\\n",
    "                          , max(ins_gmt_ts) over(partition by category_code ) as data \\\n",
    "                         from produto ')\n",
    "df_resultado.show()"
   ]
  },
  {
   "cell_type": "code",
   "execution_count": null,
   "id": "12533dab",
   "metadata": {},
   "outputs": [],
   "source": []
  }
 ],
 "metadata": {
  "kernelspec": {
   "display_name": "Python 3 (ipykernel)",
   "language": "python",
   "name": "python3"
  },
  "language_info": {
   "codemirror_mode": {
    "name": "ipython",
    "version": 3
   },
   "file_extension": ".py",
   "mimetype": "text/x-python",
   "name": "python",
   "nbconvert_exporter": "python",
   "pygments_lexer": "ipython3",
   "version": "3.9.7"
  }
 },
 "nbformat": 4,
 "nbformat_minor": 5
}
