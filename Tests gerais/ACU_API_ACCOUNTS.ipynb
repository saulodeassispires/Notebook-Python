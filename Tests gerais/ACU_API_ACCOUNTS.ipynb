{
 "cells": [
  {
   "cell_type": "code",
   "execution_count": 2,
   "metadata": {},
   "outputs": [
    {
     "name": "stdout",
     "output_type": "stream",
     "text": [
      "Fetched 42 accounts.\n",
      "\n",
      "[['1'], ['8'], ['9'], ['26'], ['38'], ['215'], ['27'], ['78'], ['218'], ['28'], ['36'], ['75'], ['77'], ['207'], ['213'], ['214'], ['11'], ['14'], ['35'], ['42'], ['83'], ['84'], ['85'], ['86'], ['192'], ['193'], ['194'], ['195'], ['196'], ['197'], ['79'], ['80'], ['81'], ['82'], ['201'], ['210'], ['191'], ['205'], ['206'], ['211'], ['212'], ['217']]\n"
     ]
    }
   ],
   "source": [
    "import json\n",
    "import requests\n",
    "import yaml\n",
    "\n",
    "from pathlib import Path\n",
    "\n",
    "class BearerAuth(requests.auth.AuthBase):\n",
    "    def __init__(self, token):\n",
    "        self.token = token\n",
    "    def __call__(self, r):\n",
    "        r.headers[\"Authorization\"] = self.token\n",
    "        return r\n",
    "\n",
    "class CanvasData:\n",
    "\n",
    "    def __init__(self, rest_url, headers, auth):\n",
    "        self.rest_url = rest_url\n",
    "        self.headers = headers\n",
    "        self.auth = auth\n",
    "        self.accounts = []\n",
    "\n",
    "    def delete_all_files(self, directory: Path):   \n",
    "        for x in directory.iterdir():\n",
    "            if x.is_file():\n",
    "                Path(x).unlink()\n",
    "\n",
    "    def fetch_account(self, account_id=None, collector=None):\n",
    "        try:\n",
    "            if not collector:\n",
    "                collector = []\n",
    "\n",
    "            endpoint = '/accounts'\n",
    "\n",
    "            if account_id:\n",
    "                endpoint = f\"{endpoint}/{account_id}/sub_accounts\"\n",
    "\n",
    "            resp = requests.get(f\"{self.rest_url}{endpoint}\", headers=self.headers, auth=BearerAuth(self.auth))\n",
    "            resp_json = resp.json()\n",
    "            for account in resp_json:\n",
    "                collector.append(str(account[\"id\"]))\n",
    "                self.fetch_account(account[\"id\"], collector)\n",
    "            return collector\n",
    "        except Exception as e:\n",
    "            raise(e)\n",
    "\n",
    "rest_url = \"https://acuonline.instructure.com/api/v1\"\n",
    "auth = \"Bearer 9251~9e8Po9eCqhziTYRUQnmczdqaltCwMQTG7iKOxITuX9PwV9p3CFrJC7YaFg35G4rd\"\n",
    "\n",
    "try:\n",
    "    cdata = CanvasData(rest_url=rest_url, auth=auth, headers={'Content-Type': 'application/json',})\n",
    "\n",
    "    accounts = cdata.fetch_account()\n",
    "    gv = []\n",
    "\n",
    "    print(\"Fetched {} accounts.\\n\".format(len(accounts)))\n",
    "    \n",
    "    for data in accounts:\n",
    "      g = []\n",
    "      g.append(data)\n",
    "      gv.append(g)\n",
    "    \n",
    "    ##context.updateGridVariable('master_account_list', gv)\n",
    "    print(gv)\n",
    "\n",
    "except requests.exceptions.RequestException as e:\n",
    "    print(e)"
   ]
  },
  {
   "cell_type": "code",
   "execution_count": null,
   "metadata": {},
   "outputs": [],
   "source": []
  }
 ],
 "metadata": {
  "kernelspec": {
   "display_name": "Python 3",
   "language": "python",
   "name": "python3"
  },
  "language_info": {
   "codemirror_mode": {
    "name": "ipython",
    "version": 3
   },
   "file_extension": ".py",
   "mimetype": "text/x-python",
   "name": "python",
   "nbconvert_exporter": "python",
   "pygments_lexer": "ipython3",
   "version": "3.10.9"
  },
  "orig_nbformat": 4,
  "vscode": {
   "interpreter": {
    "hash": "3e1126f69b12426fabfff4565b96e0dd44e92144004490e8b71b048a33ded346"
   }
  }
 },
 "nbformat": 4,
 "nbformat_minor": 2
}
