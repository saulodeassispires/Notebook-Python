{
 "cells": [
  {
   "cell_type": "code",
   "execution_count": null,
   "metadata": {},
   "outputs": [
    {
     "ename": "",
     "evalue": "",
     "output_type": "error",
     "traceback": [
      "\u001b[1;31mFalha ao iniciar o Kernel. \n",
      "\u001b[1;31mJupyter server crashed. Unable to connect. \n",
      "\u001b[1;31mError code from Jupyter: 1\n",
      "\u001b[1;31musage: jupyter.py [-h] [--version] [--config-dir] [--data-dir] [--runtime-dir]\n",
      "\u001b[1;31m                  [--paths] [--json] [--debug]\n",
      "\u001b[1;31m                  [subcommand]\n",
      "\u001b[1;31m\n",
      "\u001b[1;31mJupyter: Interactive Computing\n",
      "\u001b[1;31m\n",
      "\u001b[1;31mpositional arguments:\n",
      "\u001b[1;31m  subcommand     the subcommand to launch\n",
      "\u001b[1;31m\n",
      "\u001b[1;31moptions:\n",
      "\u001b[1;31m  -h, --help     show this help message and exit\n",
      "\u001b[1;31m  --version      show the versions of core jupyter packages and exit\n",
      "\u001b[1;31m  --config-dir   show Jupyter config dir\n",
      "\u001b[1;31m  --data-dir     show Jupyter data dir\n",
      "\u001b[1;31m  --runtime-dir  show Jupyter runtime dir\n",
      "\u001b[1;31m  --paths        show all Jupyter paths. Add --json for machine-readable\n",
      "\u001b[1;31m                 format.\n",
      "\u001b[1;31m  --json         output paths as machine-readable json\n",
      "\u001b[1;31m  --debug        output debug information about paths\n",
      "\u001b[1;31m\n",
      "\u001b[1;31mAvailable subcommands: 1.0.0\n",
      "\u001b[1;31m\n",
      "\u001b[1;31mJupyter command `jupyter-notebook` not found. \n",
      "\u001b[1;31mConsulte o <a href='command:jupyter.viewOutput'>log</a> do Jupyter para obter mais detalhes."
     ]
    }
   ],
   "source": [
    "# Import Required Module\n",
    "import requests\n",
    "from bs4 import BeautifulSoup\n",
    "\n",
    "# Web URL\n",
    "Web_url = \"https://www.facebook.com/ads/library/?active_status=all&ad_type=all&country=US&q=course&publisher_platforms[0]=facebook&search_type=keyword_unordered&media_type=all\" ## com dados\n",
    "#Web_url = \"https://www.facebook.com/ads/library/?active_status=all&ad_type=all&country=US&q=tobemagnetic.com&search_type=keyword_unordered&media_type=all\" ### sem dados\n",
    "\n",
    "# Get URL Content\n",
    "r = requests.get(Web_url)\n",
    "\n",
    "# Parse HTML Code\n",
    "soup = BeautifulSoup(r.content, 'html.parser')\n",
    "#print(soup.prettify())\n",
    "arquivo = soup.prettify()\n",
    "\n",
    "\n",
    "f = open(\"c:/Saulo/exemplo2.txt\", \"w\")\n",
    "f.write(arquivo)\n",
    "f.close()\n"
   ]
  },
  {
   "cell_type": "code",
   "execution_count": 8,
   "metadata": {},
   "outputs": [],
   "source": [
    "import requests\n",
    "import html_to_json\n",
    "#pagina = 'https://www.facebook.com/ads/library/?active_status=all&ad_type=all&country=BR&q=course&sort_data[direction]=desc&sort_data[mode]=relevancy_monthly_grouped&search_type=keyword_unordered&media_type=all&content_languages[0]=pt'\n",
    "#pagina = 'https://stlouissocomo.clothesmentor.com'\n",
    "pagina = 'https://www.facebook.com/ads/library/?active_status=all&ad_type=all&country=US&q=tobemagnetic.com&search_type=keyword_unordered&media_type=all'\n",
    "html_string = requests.get(pagina).content\n",
    "#soup = BeautifulSoup(html, 'html.parser')\n",
    "\n",
    "\n",
    "#html_string = \"\"\"<head>\n",
    "#    <title>Test site</title>\n",
    "#    <meta charset=\"UTF-8\"></head>\"\"\"\n",
    "output_json = html_to_json.convert(html_string)\n",
    "#print(output_json)\n",
    "\n",
    "#print(html_string)"
   ]
  },
  {
   "cell_type": "code",
   "execution_count": 10,
   "metadata": {},
   "outputs": [],
   "source": [
    "#print(html_string)\n",
    "\n",
    "\n",
    "f = open(\"c:/Saulo/lixo_dados.txt\", \"w\")\n",
    "f.write(arquivo)\n",
    "f.close()"
   ]
  },
  {
   "cell_type": "code",
   "execution_count": 15,
   "metadata": {},
   "outputs": [],
   "source": [
    "# first import the module\n",
    "import webbrowser\n",
    "\n",
    "sites = open('c:/Saulo/apagar.txt', 'r')\n",
    "\n",
    "for url in sites:\n",
    "    webbrowser.open(url)\n",
    "# then make a url variable\n",
    "#url = \"https://www.geeksforgeeks.org\"\n",
    "\n",
    "# then call the default open method described above\n",
    "#webbrowser.open(url)\n"
   ]
  },
  {
   "cell_type": "code",
   "execution_count": 14,
   "metadata": {},
   "outputs": [
    {
     "name": "stdout",
     "output_type": "stream",
     "text": [
      "https://www.facebook.com/ads/library/?active_status=all&ad_type=all&country=US&q=ramseysolutions.com&sort_data[direction]=desc&sort_data[mode]=relevancy_monthly_grouped&search_type=keyword_unordered&media_type=all\n",
      "\n",
      "https://www.facebook.com/ads/library/?active_status=all&ad_type=all&country=US&q=newscientist.com&sort_data[direction]=desc&sort_data[mode]=relevancy_monthly_grouped&search_type=keyword_unordered&media_type=all\n",
      "\n",
      "https://www.facebook.com/ads/library/?active_status=all&ad_type=all&country=US&q=lifehack.org&sort_data[direction]=desc&sort_data[mode]=relevancy_monthly_grouped&search_type=keyword_unordered&media_type=all\n",
      "\n",
      "https://www.facebook.com/ads/library/?active_status=all&ad_type=all&country=US&q=fullscript.com&sort_data[direction]=desc&sort_data[mode]=relevancy_monthly_grouped&search_type=keyword_unordered&media_type=all\n",
      "\n",
      "https://www.facebook.com/ads/library/?active_status=all&ad_type=all&country=US&q=baeldung.com&sort_data[direction]=desc&sort_data[mode]=relevancy_monthly_grouped&search_type=keyword_unordered&media_type=all\n",
      "\n",
      "https://www.facebook.com/ads/library/?active_status=all&ad_type=all&country=US&q=appsumo.com&sort_data[direction]=desc&sort_data[mode]=relevancy_monthly_grouped&search_type=keyword_unordered&media_type=all\n",
      "\n",
      "https://www.facebook.com/ads/library/?active_status=all&ad_type=all&country=US&q=mindvalley.com&sort_data[direction]=desc&sort_data[mode]=relevancy_monthly_grouped&search_type=keyword_unordered&media_type=all\n",
      "\n",
      "https://www.facebook.com/ads/library/?active_status=all&ad_type=all&country=US&q=positivepsychology.com&sort_data[direction]=desc&sort_data[mode]=relevancy_monthly_grouped&search_type=keyword_unordered&media_type=all\n",
      "\n",
      "https://www.facebook.com/ads/library/?active_status=all&ad_type=all&country=US&q=ascensionpress.com&sort_data[direction]=desc&sort_data[mode]=relevancy_monthly_grouped&search_type=keyword_unordered&media_type=all\n",
      "\n",
      "https://www.facebook.com/ads/library/?active_status=all&ad_type=all&country=US&q=tonyrobbins.com&sort_data[direction]=desc&sort_data[mode]=relevancy_monthly_grouped&search_type=keyword_unordered&media_type=all\n",
      "\n",
      "https://www.facebook.com/ads/library/?active_status=all&ad_type=all&country=US&q=lightspeedvt.com&sort_data[direction]=desc&sort_data[mode]=relevancy_monthly_grouped&search_type=keyword_unordered&media_type=all\n",
      "\n",
      "https://www.facebook.com/ads/library/?active_status=all&ad_type=all&country=US&q=careerkarma.com&sort_data[direction]=desc&sort_data[mode]=relevancy_monthly_grouped&search_type=keyword_unordered&media_type=all\n",
      "\n",
      "https://www.facebook.com/ads/library/?active_status=all&ad_type=all&country=US&q=publishinglife.com&sort_data[direction]=desc&sort_data[mode]=relevancy_monthly_grouped&search_type=keyword_unordered&media_type=all\n",
      "\n",
      "https://www.facebook.com/ads/library/?active_status=all&ad_type=all&country=US&q=therealworld.ai&sort_data[direction]=desc&sort_data[mode]=relevancy_monthly_grouped&search_type=keyword_unordered&media_type=all\n",
      "\n",
      "https://www.facebook.com/ads/library/?active_status=all&ad_type=all&country=US&q=junglescout.com&sort_data[direction]=desc&sort_data[mode]=relevancy_monthly_grouped&search_type=keyword_unordered&media_type=all\n",
      "\n",
      "https://www.facebook.com/ads/library/?active_status=all&ad_type=all&country=US&q=whitecoatinvestor.com&sort_data[direction]=desc&sort_data[mode]=relevancy_monthly_grouped&search_type=keyword_unordered&media_type=all\n",
      "\n",
      "https://www.facebook.com/ads/library/?active_status=all&ad_type=all&country=US&q=fortunebuilders.com&sort_data[direction]=desc&sort_data[mode]=relevancy_monthly_grouped&search_type=keyword_unordered&media_type=all\n",
      "\n",
      "https://www.facebook.com/ads/library/?active_status=all&ad_type=all&country=US&q=springboard.com&sort_data[direction]=desc&sort_data[mode]=relevancy_monthly_grouped&search_type=keyword_unordered&media_type=all\n",
      "\n",
      "https://www.facebook.com/ads/library/?active_status=all&ad_type=all&country=US&q=collegeessayguy.com&sort_data[direction]=desc&sort_data[mode]=relevancy_monthly_grouped&search_type=keyword_unordered&media_type=all\n",
      "\n",
      "https://www.facebook.com/ads/library/?active_status=all&ad_type=all&country=US&q=jamesclear.com&sort_data[direction]=desc&sort_data[mode]=relevancy_monthly_grouped&search_type=keyword_unordered&media_type=all\n",
      "\n",
      "https://www.facebook.com/ads/library/?active_status=all&ad_type=all&country=US&q=pilotinstitute.com&sort_data[direction]=desc&sort_data[mode]=relevancy_monthly_grouped&search_type=keyword_unordered&media_type=all\n",
      "\n",
      "https://www.facebook.com/ads/library/?active_status=all&ad_type=all&country=US&q=awmi.net&sort_data[direction]=desc&sort_data[mode]=relevancy_monthly_grouped&search_type=keyword_unordered&media_type=all\n",
      "\n",
      "https://www.facebook.com/ads/library/?active_status=all&ad_type=all&country=US&q=jennifermaker.com&sort_data[direction]=desc&sort_data[mode]=relevancy_monthly_grouped&search_type=keyword_unordered&media_type=all\n",
      "\n",
      "https://www.facebook.com/ads/library/?active_status=all&ad_type=all&country=US&q=vaclaimsinsider.com&sort_data[direction]=desc&sort_data[mode]=relevancy_monthly_grouped&search_type=keyword_unordered&media_type=all\n",
      "\n",
      "https://www.facebook.com/ads/library/?active_status=all&ad_type=all&country=US&q=warriortrading.com&sort_data[direction]=desc&sort_data[mode]=relevancy_monthly_grouped&search_type=keyword_unordered&media_type=all\n",
      "\n",
      "https://www.facebook.com/ads/library/?active_status=all&ad_type=all&country=US&q=darrenhardy.com&sort_data[direction]=desc&sort_data[mode]=relevancy_monthly_grouped&search_type=keyword_unordered&media_type=all\n",
      "\n",
      "https://www.facebook.com/ads/library/?active_status=all&ad_type=all&country=US&q=performancegolfzone.com&sort_data[direction]=desc&sort_data[mode]=relevancy_monthly_grouped&search_type=keyword_unordered&media_type=all\n",
      "\n",
      "https://www.facebook.com/ads/library/?active_status=all&ad_type=all&country=US&q=fluentin3months.com&sort_data[direction]=desc&sort_data[mode]=relevancy_monthly_grouped&search_type=keyword_unordered&media_type=all\n",
      "\n",
      "https://www.facebook.com/ads/library/?active_status=all&ad_type=all&country=US&q=timetothrivechallenge.com&sort_data[direction]=desc&sort_data[mode]=relevancy_monthly_grouped&search_type=keyword_unordered&media_type=all\n",
      "\n",
      "https://www.facebook.com/ads/library/?active_status=all&ad_type=all&country=US&q=creditrepaircloud.com&sort_data[direction]=desc&sort_data[mode]=relevancy_monthly_grouped&search_type=keyword_unordered&media_type=all\n",
      "\n",
      "https://www.facebook.com/ads/library/?active_status=all&ad_type=all&country=US&q=cobratate.com&sort_data[direction]=desc&sort_data[mode]=relevancy_monthly_grouped&search_type=keyword_unordered&media_type=all\n",
      "\n",
      "https://www.facebook.com/ads/library/?active_status=all&ad_type=all&country=US&q=passionforsavings.com&sort_data[direction]=desc&sort_data[mode]=relevancy_monthly_grouped&search_type=keyword_unordered&media_type=all\n",
      "\n",
      "https://www.facebook.com/ads/library/?active_status=all&ad_type=all&country=US&q=builtwithscience.com&sort_data[direction]=desc&sort_data[mode]=relevancy_monthly_grouped&search_type=keyword_unordered&media_type=all\n",
      "\n",
      "https://www.facebook.com/ads/library/?active_status=all&ad_type=all&country=US&q=mindful.org&sort_data[direction]=desc&sort_data[mode]=relevancy_monthly_grouped&search_type=keyword_unordered&media_type=all\n",
      "\n",
      "https://www.facebook.com/ads/library/?active_status=all&ad_type=all&country=US&q=awai.com&sort_data[direction]=desc&sort_data[mode]=relevancy_monthly_grouped&search_type=keyword_unordered&media_type=all\n",
      "\n",
      "https://www.facebook.com/ads/library/?active_status=all&ad_type=all&country=US&q=studio.com&sort_data[direction]=desc&sort_data[mode]=relevancy_monthly_grouped&search_type=keyword_unordered&media_type=all\n",
      "\n",
      "https://www.facebook.com/ads/library/?active_status=all&ad_type=all&country=US&q=soundstrue.com&sort_data[direction]=desc&sort_data[mode]=relevancy_monthly_grouped&search_type=keyword_unordered&media_type=all\n"
     ]
    }
   ],
   "source": [
    "sites = open('c:/Saulo/apagar.txt', 'r')\n",
    "\n",
    "for linha in sites:\n",
    "    print(linha)\n",
    "#print(sites)"
   ]
  },
  {
   "cell_type": "code",
   "execution_count": null,
   "metadata": {},
   "outputs": [],
   "source": []
  }
 ],
 "metadata": {
  "kernelspec": {
   "display_name": "Python 3",
   "language": "python",
   "name": "python3"
  },
  "language_info": {
   "codemirror_mode": {
    "name": "ipython",
    "version": 3
   },
   "file_extension": ".py",
   "mimetype": "text/x-python",
   "name": "python",
   "nbconvert_exporter": "python",
   "pygments_lexer": "ipython3",
   "version": "3.10.10"
  },
  "orig_nbformat": 4,
  "vscode": {
   "interpreter": {
    "hash": "3e1126f69b12426fabfff4565b96e0dd44e92144004490e8b71b048a33ded346"
   }
  }
 },
 "nbformat": 4,
 "nbformat_minor": 2
}
