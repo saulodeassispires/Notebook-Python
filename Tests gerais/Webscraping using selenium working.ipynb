{
 "cells": [
  {
   "cell_type": "code",
   "execution_count": 35,
   "metadata": {},
   "outputs": [],
   "source": [
    "### identifica onde esta a instalação do python \n",
    "#import os\n",
    "#import sys\n",
    "#os.path.dirname(sys.executable)\n",
    "\n",
    "from selenium import webdriver\n",
    "from selenium.webdriver.common.keys import Keys\n",
    "from selenium.webdriver.chrome.options import Options\n",
    "\n",
    "chrome_options = Options()\n",
    "chrome_options.headless = True\n",
    "\n",
    "#navegador = webdriver.Chrome(options=chrome_options)\n",
    "navegador = webdriver.Chrome()\n",
    "\n",
    "navegador.get('https://www.facebook.com/ads/library/?active_status=all&ad_type=all&country=BR&q=course&publisher_platforms[0]=facebook&search_type=keyword_unordered&media_type=all')"
   ]
  },
  {
   "cell_type": "code",
   "execution_count": 37,
   "metadata": {},
   "outputs": [
    {
     "data": {
      "text/plain": [
       "'⭐⭐⭐⭐⭐ - \"I just started this course a few days ago and I\\'m already infinitely better than when I started with ZERO skill. I\\'m grateful for the easy to follow steps and almost daily improvement.\" Christopher M.\\n\\n👉 Learn how to draw as a PRO for $10!\\n\\nNot a member of TFC! Yet? Learn to draw with the best artists side by side. With a system created by these experts, based on their experience and years as professional illustrators.\\n\\nToday we give you all the need to learn how to draw well!\\n\\n✅ Online platform exclusively dedicated to learning to draw - Better and Faster! - (Like Netflix, but for illustrators)\\n✅ Drawing and Illustration course with annual certification\\n✅ Smart plan to improve 300% faster. Don\\'t waste your\\ntime anymore. See consistent results really fast applying this method!\\n✅ Get a library of more than 200 practice sheets\\n✅ Printable books in one click, to practice and collect.\\n✅ All the best artists in one place teaching you. Like Ariel Olivetti (Seen at Marvel Comics and DC Comics), Horacio Lalia (Master of chiaroscuro), Daniel Kopalek, and more artists soon...!\\n\\nLearn how to draw as a PRO for only $10!\\n\\nGet it here 👉👉'"
      ]
     },
     "execution_count": 37,
     "metadata": {},
     "output_type": "execute_result"
    }
   ],
   "source": [
    "#navegador.find_element('xpath', '//*[@id=\"content\"]/div/div/div/div[5]/div[2]/div[2]/div[4]/div[1]/div[1]/div/div[1]/div/div[1]/div[1]/span').text\n",
    "\n",
    "navegador.find_element('xpath', '//*[@id=\"content\"]/div/div/div/div[5]/div[2]/div[2]/div[4]/div[1]/div[1]/div/div[3]/div/div/div[2]/div/span/div/div/div').text\n"
   ]
  },
  {
   "cell_type": "code",
   "execution_count": null,
   "metadata": {},
   "outputs": [],
   "source": []
  }
 ],
 "metadata": {
  "kernelspec": {
   "display_name": "Python 3",
   "language": "python",
   "name": "python3"
  },
  "language_info": {
   "codemirror_mode": {
    "name": "ipython",
    "version": 3
   },
   "file_extension": ".py",
   "mimetype": "text/x-python",
   "name": "python",
   "nbconvert_exporter": "python",
   "pygments_lexer": "ipython3",
   "version": "3.10.9"
  },
  "orig_nbformat": 4,
  "vscode": {
   "interpreter": {
    "hash": "3e1126f69b12426fabfff4565b96e0dd44e92144004490e8b71b048a33ded346"
   }
  }
 },
 "nbformat": 4,
 "nbformat_minor": 2
}
