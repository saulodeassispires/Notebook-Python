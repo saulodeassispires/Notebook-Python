{
 "cells": [
  {
   "cell_type": "code",
   "execution_count": 22,
   "id": "2e6866c8",
   "metadata": {},
   "outputs": [],
   "source": [
    "####import pandas as pd \n",
    "import requests\n",
    "import httpx\n",
    "import asyncio\n",
    "import aiohttp\n"
   ]
  },
  {
   "cell_type": "code",
   "execution_count": 23,
   "id": "a6d4819e",
   "metadata": {},
   "outputs": [],
   "source": [
    "auth_token='9251~zv5qY9mCJfdLgJofQMg1YEwhjaa7kPTDTaEOoi4I951wCcdTX6ElGjoLmOP7GjE5'\n",
    "hed = {'Authorization': 'Bearer ' + auth_token}\n",
    "\n",
    "url = 'https://acuonline.instructure.com:443/api/v1/accounts/1/users?per_page=100'\n",
    "symbol = [3329,1095,4424]"
   ]
  },
  {
   "cell_type": "code",
   "execution_count": 24,
   "id": "8dc846c2",
   "metadata": {},
   "outputs": [
    {
     "ename": "RuntimeError",
     "evalue": "asyncio.run() cannot be called from a running event loop",
     "output_type": "error",
     "traceback": [
      "\u001b[0;31m---------------------------------------------------------------------------\u001b[0m",
      "\u001b[0;31mRuntimeError\u001b[0m                              Traceback (most recent call last)",
      "\u001b[0;32m/tmp/ipykernel_18848/1267052686.py\u001b[0m in \u001b[0;36m<module>\u001b[0;34m\u001b[0m\n\u001b[1;32m     13\u001b[0m \u001b[0;34m\u001b[0m\u001b[0m\n\u001b[1;32m     14\u001b[0m \u001b[0;34m\u001b[0m\u001b[0m\n\u001b[0;32m---> 15\u001b[0;31m \u001b[0masyncio\u001b[0m\u001b[0;34m.\u001b[0m\u001b[0mrun\u001b[0m\u001b[0;34m(\u001b[0m\u001b[0mget_symbols\u001b[0m\u001b[0;34m(\u001b[0m\u001b[0;34m)\u001b[0m\u001b[0;34m)\u001b[0m\u001b[0;34m\u001b[0m\u001b[0;34m\u001b[0m\u001b[0m\n\u001b[0m",
      "\u001b[0;32m/opt/anaconda3/lib/python3.9/asyncio/runners.py\u001b[0m in \u001b[0;36mrun\u001b[0;34m(main, debug)\u001b[0m\n\u001b[1;32m     31\u001b[0m     \"\"\"\n\u001b[1;32m     32\u001b[0m     \u001b[0;32mif\u001b[0m \u001b[0mevents\u001b[0m\u001b[0;34m.\u001b[0m\u001b[0m_get_running_loop\u001b[0m\u001b[0;34m(\u001b[0m\u001b[0;34m)\u001b[0m \u001b[0;32mis\u001b[0m \u001b[0;32mnot\u001b[0m \u001b[0;32mNone\u001b[0m\u001b[0;34m:\u001b[0m\u001b[0;34m\u001b[0m\u001b[0;34m\u001b[0m\u001b[0m\n\u001b[0;32m---> 33\u001b[0;31m         raise RuntimeError(\n\u001b[0m\u001b[1;32m     34\u001b[0m             \"asyncio.run() cannot be called from a running event loop\")\n\u001b[1;32m     35\u001b[0m \u001b[0;34m\u001b[0m\u001b[0m\n",
      "\u001b[0;31mRuntimeError\u001b[0m: asyncio.run() cannot be called from a running event loop"
     ]
    }
   ],
   "source": [
    "def get_tasks(session):\n",
    "    tasks = []\n",
    "    for symbol in symbols:\n",
    "        tasks.append(session.get(url.format(symbol,api_key),ssl=False))\n",
    "    return tasks\n",
    "\n",
    "async def get_symbols():\n",
    "    async with aiohttp.ClientSession() as session:\n",
    "        tasks = get_tasks(session)\n",
    "        responses = await asyncio.gather(*tasks)\n",
    "        for response in responses:\n",
    "            results.append(await response.json())\n",
    "\n",
    "\n",
    "asyncio.run(get_symbols())\n"
   ]
  },
  {
   "cell_type": "code",
   "execution_count": 6,
   "id": "3e7a161d",
   "metadata": {},
   "outputs": [],
   "source": [
    "async def log_request(request):\n",
    "    print(f\"Response: {request.method} {request.url} )\n",
    "\n",
    "async def log_request(request):\n",
    "    request = response.request\n",
    "    print(f\"Response: {request.method} {request.url} - Status {response.status_code}\")\n"
   ]
  },
  {
   "cell_type": "code",
   "execution_count": 10,
   "id": "163a3624",
   "metadata": {},
   "outputs": [
    {
     "name": "stdout",
     "output_type": "stream",
     "text": [
      "[{\"id\":5291,\"name\":\"Elizabeth Aaron\",\"created_at\":\"2020-03-20T18:26:25-05:00\",\"sortable_name\":\"Aaron, Elizabeth\",\"short_name\":\"Beth Aaron\",\"sis_user_id\":\"000585894\",\"integration_id\":null,\"sis_import_id\":null,\"login_id\":\"exa20a\"},{\"id\":3807,\"name\":\"Nancy Abbene\",\"created_at\":\"2019-02-21T01:16:08-06:00\",\"sortable_name\":\"Abbene, Nancy\",\"short_name\":\"Nancy Abbene\",\"sis_user_id\":\"000568072\",\"integration_id\":null,\"sis_import_id\":null,\"login_id\":\"nxa19b\"},{\"id\":8760,\"name\":\"Lauren Abbott\",\"created_at\":\"2021-10-08T00:26:37-05:00\",\"sortable_name\":\"Abbott, Lauren\",\"short_name\":\"Lauren Abbott\",\"sis_user_id\":\"000602951\",\"integration_id\":null,\"sis_import_id\":null,\"login_id\":\"lea21a\"},{\"id\":8135,\"name\":\"Zachary Abbott\",\"created_at\":\"2021-08-20T18:26:23-05:00\",\"sortable_name\":\"Abbott, Zachary\",\"short_name\":\"Zachary Abbott\",\"sis_user_id\":\"000599899\",\"integration_id\":null,\"sis_import_id\":null,\"login_id\":\"zta21a\"},{\"id\":9961,\"name\":\"Thea Abeita\",\"created_at\":\"2022-02-01T14:03:43-06:00\",\"sortable_name\":\"Abeita, Thea\",\"short_name\":\"Thea\",\"sis_user_id\":\"000610075\",\"integration_id\":null,\"sis_import_id\":null,\"login_id\":\"txa22a\"},{\"id\":5490,\"name\":\"Chad Abel\",\"created_at\":\"2020-04-20T11:16:47-05:00\",\"sortable_name\":\"Abel, Chad\",\"short_name\":\"Chad Abel\",\"sis_user_id\":\"000573360\",\"integration_id\":null,\"sis_import_id\":null,\"login_id\":\"cma19a\"},{\"id\":11604,\"name\":\"Rebecca Abel\",\"created_at\":\"2022-08-30T15:24:09-05:00\",\"sortable_name\":\"Abel, Rebecca\",\"short_name\":\"Rebecca Abel\",\"sis_user_id\":\"000614243\",\"integration_id\":null,\"sis_import_id\":null,\"login_id\":\"rsa22a@acu.edu\"},{\"id\":6994,\"name\":\"Sara Abelaye\",\"created_at\":\"2021-02-01T17:26:29-06:00\",\"sortable_name\":\"Abelaye, Sara\",\"short_name\":\"Sara Abelaye\",\"sis_user_id\":\"000596792\",\"integration_id\":null,\"sis_import_id\":null,\"login_id\":\"sxa21a\"},{\"id\":11363,\"name\":\"Tristian Abell\",\"created_at\":\"2022-08-08T16:55:46-05:00\",\"sortable_name\":\"Abell, Tristian\",\"short_name\":\"Tris Abell\",\"sis_user_id\":\"000613915\",\"integration_id\":null,\"sis_import_id\":null,\"login_id\":\"tra22a\"},{\"id\":6487,\"name\":\"Hiwot Aberra\",\"created_at\":\"2020-10-08T18:26:41-05:00\",\"sortable_name\":\"Aberra, Hiwot\",\"short_name\":\"Hiwot Aberra\",\"sis_user_id\":\"000591134\",\"integration_id\":null,\"sis_import_id\":null,\"login_id\":\"hxa20b\"},{\"id\":7058,\"name\":\"Edward Abili\",\"created_at\":\"2021-02-18T14:26:32-06:00\",\"sortable_name\":\"Abili, Edward\",\"short_name\":\"Edward Abili\",\"sis_user_id\":\"000594819\",\"integration_id\":null,\"sis_import_id\":null,\"login_id\":\"exa21a\"},{\"id\":6507,\"name\":\"Tomeco Abner\",\"created_at\":\"2020-10-12T18:26:42-05:00\",\"sortable_name\":\"Abner, Tomeco\",\"short_name\":\"Tomeka Abner\",\"sis_user_id\":\"000591206\",\"integration_id\":null,\"sis_import_id\":null,\"login_id\":\"tla20a\"},{\"id\":5416,\"name\":\"Martin Aborah\",\"created_at\":\"2020-04-08T09:16:51-05:00\",\"sortable_name\":\"Aborah, Martin\",\"short_name\":\"Martin Aborah\",\"sis_user_id\":\"000586574\",\"integration_id\":null,\"sis_import_id\":null,\"login_id\":\"mxa20b\"},{\"id\":950,\"name\":\"Faisal Aboul-Enein\",\"created_at\":\"2016-11-29T09:53:57-06:00\",\"sortable_name\":\"Aboul-Enein, Faisal\",\"short_name\":\"Faisal Aboul-Enein\",\"sis_user_id\":\"000524876\",\"integration_id\":null,\"sis_import_id\":null,\"login_id\":\"fha16a\"},{\"id\":733,\"name\":\"Marqueta Abraham\",\"created_at\":\"2016-10-06T16:16:41-05:00\",\"sortable_name\":\"Abraham, Marqueta\",\"short_name\":\"Marqueta Abraham\",\"sis_user_id\":\"000521314\",\"integration_id\":null,\"sis_import_id\":null,\"login_id\":\"mva16a\"},{\"id\":11104,\"name\":\"Wendy Abraham\",\"created_at\":\"2022-07-06T17:27:06-05:00\",\"sortable_name\":\"Abraham, Wendy\",\"short_name\":\"Wendy Abraham\",\"sis_user_id\":\"000613709\",\"integration_id\":null,\"sis_import_id\":null,\"login_id\":\"wxa22a\"},{\"id\":10590,\"name\":\"Chardnae Abrams\",\"created_at\":\"2022-05-03T11:28:09-05:00\",\"sortable_name\":\"Abrams, Chardnae\",\"short_name\":\"Chardnae Abrams\",\"sis_user_id\":\"000612036\",\"integration_id\":null,\"sis_import_id\":null,\"login_id\":\"chardnae.abrams\"},{\"id\":1712,\"name\":\"Sandra Abreo\",\"created_at\":\"2017-06-06T17:02:22-05:00\",\"sortable_name\":\"Abreo, Sandra\",\"short_name\":\"Sandi Abreo\",\"sis_user_id\":\"000535813\",\"integration_id\":null,\"sis_import_id\":null,\"login_id\":\"sda17a\"},{\"id\":4221,\"name\":\"Test Student Account\",\"created_at\":\"2019-06-03T14:06:50-05:00\",\"sortable_name\":\"Account, Test Student\",\"short_name\":\"Test Student Account\",\"sis_user_id\":null,\"integration_id\":null,\"sis_import_id\":null,\"login_id\":\"akorkow@outlook.com\"},{\"id\":183,\"name\":\"Lauren Accurso Wang\",\"created_at\":\"2016-10-06T16:10:46-05:00\",\"sortable_name\":\"Accurso Wang, Lauren\",\"short_name\":\"Lauren Accurso Wang\",\"sis_user_id\":\"000474817\",\"integration_id\":null,\"sis_import_id\":null,\"login_id\":\"lca12a\"},{\"id\":1457,\"name\":\"Krystal Acevedo\",\"created_at\":\"2017-04-24T16:02:24-05:00\",\"sortable_name\":\"Acevedo, Krystal\",\"short_name\":\"Krystal Acevedo\",\"sis_user_id\":\"000536406\",\"integration_id\":null,\"sis_import_id\":null,\"login_id\":\"kca17a\"},{\"id\":2172,\"name\":\"Ludivina Acevedo\",\"created_at\":\"2017-09-06T12:15:34-05:00\",\"sortable_name\":\"Acevedo, Ludivina\",\"short_name\":\"Ludivina Acevedo\",\"sis_user_id\":\"000537000\",\"integration_id\":null,\"sis_import_id\":null,\"login_id\":\"lxa17b\"},{\"id\":8724,\"name\":\"Bernardo Aceves\",\"created_at\":\"2021-10-04T17:26:42-05:00\",\"sortable_name\":\"Aceves, Bernardo\",\"short_name\":\"Bernardo Aceves\",\"sis_user_id\":\"000602599\",\"integration_id\":null,\"sis_import_id\":null,\"login_id\":\"bxa21c\"},{\"id\":8072,\"name\":\"Brandi Acker\",\"created_at\":\"2021-08-13T14:26:34-05:00\",\"sortable_name\":\"Acker, Brandi\",\"short_name\":\"Brandi Fort\",\"sis_user_id\":\"000599731\",\"integration_id\":null,\"sis_import_id\":null,\"login_id\":\"bja21a\"},{\"id\":4422,\"name\":\"Judith Ackerman\",\"created_at\":\"2019-07-31T14:25:34-05:00\",\"sortable_name\":\"Ackerman, Judith\",\"short_name\":\"Judith Ackerman\",\"sis_user_id\":\"000452093\",\"integration_id\":null,\"sis_import_id\":null,\"login_id\":\"jid11a\"},{\"id\":9927,\"name\":\"Abby Acosta\",\"created_at\":\"2022-01-26T14:03:35-06:00\",\"sortable_name\":\"Acosta, Abby\",\"short_name\":\"Abby\",\"sis_user_id\":\"000529280\",\"integration_id\":null,\"sis_import_id\":null,\"login_id\":\"axa22b\"},{\"id\":10616,\"name\":\"Alexis Acosta\",\"created_at\":\"2022-05-03T18:03:41-05:00\",\"sortable_name\":\"Acosta, Alexis\",\"short_name\":\"Alexis\",\"sis_user_id\":\"000612852\",\"integration_id\":null,\"sis_import_id\":null,\"login_id\":\"ara22c\"},{\"id\":693,\"name\":\"Rachel Acosta\",\"created_at\":\"2016-10-06T16:16:14-05:00\",\"sortable_name\":\"Acosta, Rachel\",\"short_name\":\"Rachel Acosta\",\"sis_user_id\":\"000520696\",\"integration_id\":null,\"sis_import_id\":null,\"login_id\":\"rxa16c\"},{\"id\":2672,\"name\":\"Rosa Acosta\",\"created_at\":\"2018-03-01T13:04:48-06:00\",\"sortable_name\":\"Acosta, Rosa\",\"short_name\":\"Rosa Acosta\",\"sis_user_id\":\"000551705\",\"integration_id\":null,\"sis_import_id\":null,\"login_id\":\"rxa18a\"},{\"id\":7290,\"name\":\"Mcclintock Acsmhour\",\"created_at\":\"2021-04-09T10:16:35-05:00\",\"sortable_name\":\"Acsmhour, Mcclintock\",\"short_name\":\"McClintock AcSmhour\",\"sis_user_id\":\"000598179\",\"integration_id\":null,\"sis_import_id\":null,\"login_id\":\"mxa21b\"},{\"id\":10612,\"name\":\"Erika Acuna\",\"created_at\":\"2022-05-03T17:27:09-05:00\",\"sortable_name\":\"Acuna, Erika\",\"short_name\":\"Erika Acuna\",\"sis_user_id\":\"000612819\",\"integration_id\":null,\"sis_import_id\":null,\"login_id\":\"eaa22b\"},{\"id\":10209,\"name\":\"Ashley Adair\",\"created_at\":\"2022-03-09T18:03:30-06:00\",\"sortable_name\":\"Adair, Ashley\",\"short_name\":\"Ashley\",\"sis_user_id\":\"000611605\",\"integration_id\":null,\"sis_import_id\":null,\"login_id\":\"ana22a\"},{\"id\":6141,\"name\":\"Caroline Adair\",\"created_at\":\"2020-08-05T17:37:11-05:00\",\"sortable_name\":\"Adair, Caroline\",\"short_name\":\"Caroline Adair\",\"sis_user_id\":\"000511080\",\"integration_id\":null,\"sis_import_id\":null,\"login_id\":\"cja15a\"},{\"id\":217,\"name\":\"Elizabeth Adamik\",\"created_at\":\"2016-10-06T16:11:11-05:00\",\"sortable_name\":\"Adamik, Elizabeth\",\"short_name\":\"Elizabeth Adamik\",\"sis_user_id\":\"000506991\",\"integration_id\":null,\"sis_import_id\":null,\"login_id\":\"eaa15b\"},{\"id\":6834,\"name\":\"Bethany Adams\",\"created_at\":\"2020-12-29T17:26:10-06:00\",\"sortable_name\":\"Adams, Bethany\",\"short_name\":\"Bethany Adams\",\"sis_user_id\":\"000595778\",\"integration_id\":null,\"sis_import_id\":null,\"login_id\":\"bla20a\"},{\"id\":5849,\"name\":\"Charity Adams\",\"created_at\":\"2020-06-30T18:26:39-05:00\",\"sortable_name\":\"Adams, Charity\",\"short_name\":\"Charity Adams\",\"sis_user_id\":\"000587833\",\"integration_id\":null,\"sis_import_id\":null,\"login_id\":\"csa20b\"},{\"id\":10280,\"name\":\"Falana Adams\",\"created_at\":\"2022-03-23T00:26:44-05:00\",\"sortable_name\":\"Adams, Falana\",\"short_name\":\"Falana Adams\",\"sis_user_id\":\"000611937\",\"integration_id\":null,\"sis_import_id\":null,\"login_id\":\"fxa22a\"},{\"id\":4464,\"name\":\"Jacqueline Adams\",\"created_at\":\"2019-08-13T07:15:59-05:00\",\"sortable_name\":\"Adams, Jacqueline\",\"short_name\":\"JLA Adams\",\"sis_user_id\":\"000572915\",\"integration_id\":null,\"sis_import_id\":null,\"login_id\":\"jla19a\"},{\"id\":4939,\"name\":\"James Adams\",\"created_at\":\"2019-12-27T07:16:09-06:00\",\"sortable_name\":\"Adams, James\",\"short_name\":\"Jim Adams\",\"sis_user_id\":\"000574183\",\"integration_id\":null,\"sis_import_id\":null,\"login_id\":\"jja19b\"},{\"id\":6654,\"name\":\"Jonathan Adams\",\"created_at\":\"2020-11-16T14:27:03-06:00\",\"sortable_name\":\"Adams, Jonathan\",\"short_name\":\"Jonathan Adams\",\"sis_user_id\":\"000594213\",\"integration_id\":null,\"sis_import_id\":null,\"login_id\":\"jxa20h\"},{\"id\":3387,\"name\":\"Kendyl Adams\",\"created_at\":\"2018-10-12T13:15:43-05:00\",\"sortable_name\":\"Adams, Kendyl\",\"short_name\":\"Kendyl Adams\",\"sis_user_id\":\"000558937\",\"integration_id\":null,\"sis_import_id\":null,\"login_id\":\"kma18c\"},{\"id\":1247,\"name\":\"Kimberly Adams\",\"created_at\":\"2017-02-24T15:02:19-06:00\",\"sortable_name\":\"Adams, Kimberly\",\"short_name\":\"Kimberly Adams\",\"sis_user_id\":\"000534298\",\"integration_id\":null,\"sis_import_id\":null,\"login_id\":\"kda17b\"},{\"id\":7311,\"name\":\"Patrick Adams\",\"created_at\":\"2021-04-13T14:26:53-05:00\",\"sortable_name\":\"Adams, Patrick\",\"short_name\":\"Pastor Pat Adams\",\"sis_user_id\":\"000597364\",\"integration_id\":null,\"sis_import_id\":null,\"login_id\":\"pba21a\"},{\"id\":5502,\"name\":\"Rachel Adams\",\"created_at\":\"2020-04-21T15:26:48-05:00\",\"sortable_name\":\"Adams, Rachel\",\"short_name\":\"Brooke Adams\",\"sis_user_id\":\"000586771\",\"integration_id\":null,\"sis_import_id\":null,\"login_id\":\"rba20b\"},{\"id\":7528,\"name\":\"Trey Adams\",\"created_at\":\"2021-05-17T14:26:19-05:00\",\"sortable_name\":\"Adams, Trey\",\"short_name\":\"Trey Adams\",\"sis_user_id\":\"000598741\",\"integration_id\":null,\"sis_import_id\":null,\"login_id\":\"twa21a\"},{\"id\":4255,\"name\":\"Vuyo Adams\",\"created_at\":\"2019-06-11T02:16:04-05:00\",\"sortable_name\":\"Adams, Vuyo\",\"short_name\":\"Vuyo Adams\",\"sis_user_id\":\"000571593\",\"integration_id\":null,\"sis_import_id\":null,\"login_id\":\"vya19a\"},{\"id\":849,\"name\":\"Adepeju Adedeji\",\"created_at\":\"2016-10-27T15:05:14-05:00\",\"sortable_name\":\"Adedeji, Adepeju\",\"short_name\":\"Peju Adedeji\",\"sis_user_id\":\"000525582\",\"integration_id\":null,\"sis_import_id\":null,\"login_id\":\"aoa16a\"},{\"id\":1168,\"name\":\"Olufunmilola Adedipe\",\"created_at\":\"2017-01-24T10:02:20-06:00\",\"sortable_name\":\"Adedipe, Olufunmilola\",\"short_name\":\"Catherine Adedipe\",\"sis_user_id\":\"000532103\",\"integration_id\":null,\"sis_import_id\":null,\"login_id\":\"oca16b\"},{\"id\":4080,\"name\":\"Catherine Adedokun\",\"created_at\":\"2019-04-25T02:16:19-05:00\",\"sortable_name\":\"Adedokun, Catherine\",\"short_name\":\"Catherine Adedokun\",\"sis_user_id\":\"000570294\",\"integration_id\":null,\"sis_import_id\":null,\"login_id\":\"cwa19a\"},{\"id\":6973,\"name\":\"Josh Adedokun\",\"created_at\":\"2021-01-27T10:59:31-06:00\",\"sortable_name\":\"Adedokun, Josh\",\"short_name\":\"Josh Adedokun\",\"sis_user_id\":\"000596513\",\"integration_id\":null,\"sis_import_id\":null,\"login_id\":\"joa21a\"},{\"id\":5515,\"name\":\"Omololu Adelaja\",\"created_at\":\"2020-04-22T18:26:34-05:00\",\"sortable_name\":\"Adelaja, Omololu\",\"short_name\":\"Omololu Adelaja\",\"sis_user_id\":\"000586839\",\"integration_id\":null,\"sis_import_id\":null,\"login_id\":\"ota20a\"},{\"id\":4003,\"name\":\"Olusesan Adeniyi\",\"created_at\":\"2019-04-13T02:16:16-05:00\",\"sortable_name\":\"Adeniyi, Olusesan\",\"short_name\":\"Gabriel Adeniyi\",\"sis_user_id\":\"000535693\",\"integration_id\":null,\"sis_import_id\":null,\"login_id\":\"oga17a\"},{\"id\":2227,\"name\":\"Emmanuel Adesanya\",\"created_at\":\"2017-09-26T02:15:30-05:00\",\"sortable_name\":\"Adesanya, Emmanuel\",\"short_name\":\"Emmanuel Adesanya\",\"sis_user_id\":\"000542598\",\"integration_id\":null,\"sis_import_id\":null,\"login_id\":\"eoa17a\"},{\"id\":6455,\"name\":\"Helen Adewole\",\"created_at\":\"2020-10-02T18:26:38-05:00\",\"sortable_name\":\"Adewole, Helen\",\"short_name\":\"Helen Adewole\",\"sis_user_id\":\"000590941\",\"integration_id\":null,\"sis_import_id\":null,\"login_id\":\"hxa20a\"},{\"id\":10215,\"name\":\"Henry Adewole\",\"created_at\":\"2022-03-10T17:26:47-06:00\",\"sortable_name\":\"Adewole, Henry-Ayodele\",\"short_name\":\"Henry Adewole\",\"sis_user_id\":\"000611771\",\"integration_id\":null,\"sis_import_id\":null,\"login_id\":\"haa22b\"},{\"id\":5508,\"name\":\"Mistura Adeyemi\",\"created_at\":\"2020-04-22T00:26:33-05:00\",\"sortable_name\":\"Adeyemi, Mistura\",\"short_name\":\"Mistura Adeyemi\",\"sis_user_id\":\"000586792\",\"integration_id\":null,\"sis_import_id\":null,\"login_id\":\"mxa20c\"},{\"id\":2923,\"name\":\"Godsway Adika\",\"created_at\":\"2018-05-24T12:15:31-05:00\",\"sortable_name\":\"Adika, Godsway\",\"short_name\":\"Adika Adika\",\"sis_user_id\":\"000502090\",\"integration_id\":null,\"sis_import_id\":null,\"login_id\":\"gka15a\"},{\"id\":9127,\"name\":\"Eden Adkins\",\"created_at\":\"2021-11-05T13:51:46-05:00\",\"sortable_name\":\"Adkins, Eden\",\"short_name\":\"Eden\",\"sis_user_id\":\"000008966\",\"integration_id\":null,\"sis_import_id\":null,\"login_id\":\"eba00a\"},{\"id\":10571,\"name\":\"Felicia Adkins\",\"created_at\":\"2022-05-02T14:03:39-05:00\",\"sortable_name\":\"Adkins, Felicia\",\"short_name\":\"Felicia Adkins\",\"sis_user_id\":\"000612815\",\"integration_id\":null,\"sis_import_id\":null,\"login_id\":\"fna22a\"},{\"id\":9090,\"name\":\"Laurie Adkins\",\"created_at\":\"2021-11-05T13:49:57-05:00\",\"sortable_name\":\"Adkins, Laurie\",\"short_name\":\"Laurie\",\"sis_user_id\":\"000466311\",\"integration_id\":null,\"sis_import_id\":null,\"login_id\":\"lxa12a\"},{\"id\":287,\"name\":\"Monique Adkins\",\"created_at\":\"2016-10-06T16:11:56-05:00\",\"sortable_name\":\"Adkins, Monique\",\"short_name\":\"Monique Adkins\",\"sis_user_id\":\"000515636\",\"integration_id\":null,\"sis_import_id\":null,\"login_id\":\"mba16a\"},{\"id\":9108,\"name\":\"Stephanie Adkins\",\"created_at\":\"2021-11-05T13:50:26-05:00\",\"sortable_name\":\"Adkins, Stephanie\",\"short_name\":\"Stephanie\",\"sis_user_id\":\"000485449\",\"integration_id\":null,\"sis_import_id\":null,\"login_id\":\"sga13a\"},{\"id\":2664,\"name\":\"Abraham Torralba ADMIN\",\"created_at\":\"2018-03-01T10:50:20-06:00\",\"sortable_name\":\"ADMIN, Abraham Torralba\",\"short_name\":\"Abraham Torralba ADMIN\",\"sis_user_id\":null,\"integration_id\":null,\"sis_import_id\":null,\"login_id\":\"abraham.torralba@acu.edu\"},{\"id\":3260,\"name\":\"Amanda Korkow ADMIN\",\"created_at\":\"2018-08-27T08:05:54-05:00\",\"sortable_name\":\"ADMIN, Amanda Korkow\",\"short_name\":\"Amanda Korkow ADMIN\",\"sis_user_id\":\"amanda.korkow@acu.edu\",\"integration_id\":null,\"sis_import_id\":null,\"login_id\":\"amanda.korkow@acu.edu\"},{\"id\":6558,\"name\":\"Annie Bailey ADMIN\",\"created_at\":\"2020-10-26T14:15:33-05:00\",\"sortable_name\":\"ADMIN, Annie Bailey\",\"short_name\":\"Annie Bailey ADMIN\",\"sis_user_id\":null,\"integration_id\":null,\"sis_import_id\":null,\"login_id\":\"annie.bailey@acu.edu\"},{\"id\":3795,\"name\":\"April Henry ADMIN\",\"created_at\":\"2019-02-19T11:08:56-06:00\",\"sortable_name\":\"ADMIN, April Henry\",\"short_name\":\"April Henry ADMIN\",\"sis_user_id\":null,\"integration_id\":null,\"sis_import_id\":null,\"login_id\":\"april.henry@acu.edu\"},{\"id\":10020,\"name\":\"Bree Ray ADMIN\",\"created_at\":\"2022-02-14T16:56:11-06:00\",\"sortable_name\":\"ADMIN, Bree Ray\",\"short_name\":\"Bree Ray ADMIN\",\"sis_user_id\":null,\"integration_id\":null,\"sis_import_id\":null,\"login_id\":\"bree.ray@acu.edu\"},{\"id\":7379,\"name\":\"Chenoa Worthington ADMIN\",\"created_at\":\"2021-04-23T08:10:29-05:00\",\"sortable_name\":\"ADMIN, Chenoa Worthington\",\"short_name\":\"Chenoa Worthington ADMIN\",\"sis_user_id\":null,\"integration_id\":null,\"sis_import_id\":null,\"login_id\":\"chenoa.worthington@acu.edu\"},{\"id\":3246,\"name\":\"Dylan Hillard ADMIN\",\"created_at\":\"2018-08-20T12:58:14-05:00\",\"sortable_name\":\"ADMIN, Dylan Hillard\",\"short_name\":\"Dylan Hillard ADMIN\",\"sis_user_id\":null,\"integration_id\":null,\"sis_import_id\":null,\"login_id\":\"dylan.hillard@acu.edu\"},{\"id\":2123,\"name\":\"Elisabeth Evan ADMIN\",\"created_at\":\"2017-08-17T18:22:56-05:00\",\"sortable_name\":\"ADMIN, Elisabeth Evan\",\"short_name\":\"Elisabeth Evan ADMIN\",\"sis_user_id\":null,\"integration_id\":null,\"sis_import_id\":null,\"login_id\":\"elisabeth.evan@acu.edu\"},{\"id\":10140,\"name\":\"Elizabeth Brentzel ADMIN\",\"created_at\":\"2022-03-02T09:07:54-06:00\",\"sortable_name\":\"ADMIN, Elizabeth Brentzel\",\"short_name\":\"Elizabeth Brentzel ADMIN\",\"sis_user_id\":null,\"integration_id\":null,\"sis_import_id\":null,\"login_id\":\"Elizabeth.Brentzel@acu.edu\"},{\"id\":9829,\"name\":\"Erica Laborde ADMIN\",\"created_at\":\"2022-01-13T06:08:03-06:00\",\"sortable_name\":\"ADMIN, Erica Laborde\",\"short_name\":\"Erica Laborde [ADMIN]\",\"sis_user_id\":null,\"integration_id\":null,\"sis_import_id\":null,\"login_id\":\"erica.laborde@acu.edu\"},{\"id\":10119,\"name\":\"Kai Evangelista ADMIN\",\"created_at\":\"2022-02-28T03:38:46-06:00\",\"sortable_name\":\"ADMIN, Kai Evangelista\",\"short_name\":\"Kai Evangelista ADMIN\",\"sis_user_id\":null,\"integration_id\":null,\"sis_import_id\":null,\"login_id\":\"kai.evangelista@acu.edu\"},{\"id\":1132,\"name\":\"Kaileb Holland ADMIN\",\"created_at\":\"2017-01-04T17:03:23-06:00\",\"sortable_name\":\"ADMIN, Kaileb Holland\",\"short_name\":\"Kaileb Holland ADMIN\",\"sis_user_id\":null,\"integration_id\":null,\"sis_import_id\":null,\"login_id\":\"Kaileb.Holland@acu.edu\"},{\"id\":6733,\"name\":\"Lori Anne Shaw ADMIN\",\"created_at\":\"2020-12-04T10:30:52-06:00\",\"sortable_name\":\"ADMIN, Lori Anne Shaw\",\"short_name\":\"Lori Anne Shaw ADMIN\",\"sis_user_id\":null,\"integration_id\":null,\"sis_import_id\":null,\"login_id\":\"lorianne.shaw@acu.edu\"},{\"id\":10534,\"name\":\"Ola Mae Bulkley ADMIN\",\"created_at\":\"2022-04-27T03:24:21-05:00\",\"sortable_name\":\"ADMIN, Ola Mae Bulkley\",\"short_name\":\"Ola Mae Bulkley ADMIN\",\"sis_user_id\":null,\"integration_id\":null,\"sis_import_id\":null,\"login_id\":\"olamae.bulkley@acu.edu\"},{\"id\":6361,\"name\":\"Rob Robitaille ADMIN\",\"created_at\":\"2020-09-14T09:53:08-05:00\",\"sortable_name\":\"ADMIN, Rob Robitaille\",\"short_name\":\"Rob Robitaille ADMIN\",\"sis_user_id\":null,\"integration_id\":null,\"sis_import_id\":null,\"login_id\":\"rob.robitaille@acu.edu\"},{\"id\":7599,\"name\":\"Ryan Randolph ADMIN\",\"created_at\":\"2021-06-02T04:53:25-05:00\",\"sortable_name\":\"ADMIN, Ryan Randolph\",\"short_name\":\"Ryan Randolph ADMIN\",\"sis_user_id\":null,\"integration_id\":null,\"sis_import_id\":null,\"login_id\":\"ryan.randolph@acu.edu\"},{\"id\":3779,\"name\":\"Stacey Hays ADMIN\",\"created_at\":\"2019-02-13T12:45:34-06:00\",\"sortable_name\":\"ADMIN, Stacey Hays\",\"short_name\":\"Stacey Hays ADMIN\",\"sis_user_id\":null,\"integration_id\":null,\"sis_import_id\":null,\"login_id\":\"stacey.hays@acu.edu\"},{\"id\":3646,\"name\":\"Stephen Rektenwald ADMIN\",\"created_at\":\"2019-01-02T14:59:07-06:00\",\"sortable_name\":\"ADMIN, Stephen Rektenwald\",\"short_name\":\"Stephen Rektenwald ADMIN\",\"sis_user_id\":null,\"integration_id\":null,\"sis_import_id\":null,\"login_id\":\"stephen.rektenwald@acu.edu\"},{\"id\":3727,\"name\":\"Tara Wilkinson ADMIN\",\"created_at\":\"2019-01-29T13:14:25-06:00\",\"sortable_name\":\"ADMIN, Tara Wilkinson\",\"short_name\":\"Tara Wilkinson ADMIN\",\"sis_user_id\":null,\"integration_id\":null,\"sis_import_id\":null,\"login_id\":\"tara.wilkinson@acu.edu\"},{\"id\":3294,\"name\":\"Turnitin Admin\",\"created_at\":\"2018-09-06T08:42:39-05:00\",\"sortable_name\":\"Admin, Turnitin\",\"short_name\":\"Turnitin Admin\",\"sis_user_id\":null,\"integration_id\":null,\"sis_import_id\":null,\"login_id\":\"turnitin-admins@acu.edu\"},{\"id\":11096,\"name\":\"Zachary Shackleford ADMIN\",\"created_at\":\"2022-07-06T14:34:00-05:00\",\"sortable_name\":\"ADMIN, Zachary Shackleford\",\"short_name\":\"Zachary Shackleford ADMIN\",\"sis_user_id\":null,\"integration_id\":null,\"sis_import_id\":null,\"login_id\":\"zachary.shackleford@acu.edu\"},{\"id\":8613,\"name\":\"Barbara Adomakomensah Sarpong\",\"created_at\":\"2021-09-13T14:26:34-05:00\",\"sortable_name\":\"Adomakomensah Sarpong, Barbara\",\"short_name\":\"Barbara Adomakomensah Sarpong\",\"sis_user_id\":\"000600052\",\"integration_id\":null,\"sis_import_id\":null,\"login_id\":\"bxa21a\"},{\"id\":407,\"name\":\"Alfred Adongo\",\"created_at\":\"2016-10-06T16:13:15-05:00\",\"sortable_name\":\"Adongo, Alfred\",\"short_name\":\"Alfred Adongo\",\"sis_user_id\":\"000495586\",\"integration_id\":null,\"sis_import_id\":null,\"login_id\":\"aaa14c\"},{\"id\":4151,\"name\":\"Sibusiso Adontsi\",\"created_at\":\"2019-05-16T02:16:10-05:00\",\"sortable_name\":\"Adontsi, Sibusiso\",\"short_name\":\"Sibusiso Adontsi\",\"sis_user_id\":\"000570893\",\"integration_id\":null,\"sis_import_id\":null,\"login_id\":\"ssa19a\"},{\"id\":261,\"name\":\"Eric Agbenyo\",\"created_at\":\"2016-10-06T16:11:40-05:00\",\"sortable_name\":\"Agbenyo, Eric\",\"short_name\":\"Akuafo Agbenyo\",\"sis_user_id\":\"000496426\",\"integration_id\":null,\"sis_import_id\":null,\"login_id\":\"eaa14b\"},{\"id\":1196,\"name\":\"Aimee Agee\",\"created_at\":\"2017-02-02T10:02:17-06:00\",\"sortable_name\":\"Agee, Aimee\",\"short_name\":\"Aimee Agee\",\"sis_user_id\":\"000499235\",\"integration_id\":null,\"sis_import_id\":null,\"login_id\":\"axa14g\"},{\"id\":5789,\"name\":\"Andrea Aguero\",\"created_at\":\"2020-06-17T14:26:33-05:00\",\"sortable_name\":\"Aguero, Andrea\",\"short_name\":\"Andrea Aguero\",\"sis_user_id\":\"000587678\",\"integration_id\":null,\"sis_import_id\":null,\"login_id\":\"ana20c\"},{\"id\":11189,\"name\":\"Richard Aguila\",\"created_at\":\"2022-07-19T14:04:36-05:00\",\"sortable_name\":\"Aguila, Richard\",\"short_name\":\"Richard\",\"sis_user_id\":\"000613837\",\"integration_id\":null,\"sis_import_id\":null,\"login_id\":\"rxa22e\"},{\"id\":10304,\"name\":\"Mimi Aguilar-Garcia\",\"created_at\":\"2022-03-24T16:06:16-05:00\",\"sortable_name\":\"Aguilar-Garcia, Mimi\",\"short_name\":\"Mimi\",\"sis_user_id\":\"000610838\",\"integration_id\":null,\"sis_import_id\":null,\"login_id\":\"mea22a\"},{\"id\":2597,\"name\":\"Arthur Aguilar\",\"created_at\":\"2018-02-28T10:15:35-06:00\",\"sortable_name\":\"Aguilar, Arthur\",\"short_name\":\"Arthur Aguilar\",\"sis_user_id\":\"000077109\",\"integration_id\":null,\"sis_import_id\":null,\"login_id\":\"axa15e\"},{\"id\":5089,\"name\":\"Cynthia Aguilar\",\"created_at\":\"2020-02-04T18:26:12-06:00\",\"sortable_name\":\"Aguilar, Cynthia\",\"short_name\":\"Cynthia Aguilar\",\"sis_user_id\":\"000584261\",\"integration_id\":null,\"sis_import_id\":null,\"login_id\":\"cxa20b\"},{\"id\":10822,\"name\":\"Rebecca Aguilar\",\"created_at\":\"2022-05-26T00:26:28-05:00\",\"sortable_name\":\"Aguilar, Rebecca\",\"short_name\":\"Rebecca Aguilar\",\"sis_user_id\":\"000613038\",\"integration_id\":null,\"sis_import_id\":null,\"login_id\":\"rxa22c\"},{\"id\":9680,\"name\":\"Ruby Aguilar\",\"created_at\":\"2021-12-17T14:02:54-06:00\",\"sortable_name\":\"Aguilar, Ruby\",\"short_name\":\"Ruby Aguilar\",\"sis_user_id\":\"000608756\",\"integration_id\":null,\"sis_import_id\":null,\"login_id\":\"rca21a\"},{\"id\":7945,\"name\":\"Bryanna Aguilar\",\"created_at\":\"2021-08-03T16:17:32-05:00\",\"sortable_name\":\"Aguilar,Bryanna\",\"short_name\":\"Bryanna\",\"sis_user_id\":\"000547508\",\"integration_id\":null,\"sis_import_id\":null,\"login_id\":\"bma18a\"},{\"id\":5176,\"name\":\"Anthony Aguilera\",\"created_at\":\"2020-02-27T17:26:19-06:00\",\"sortable_name\":\"Aguilera, Anthony\",\"short_name\":\"Tony Aguilera\",\"sis_user_id\":\"000584817\",\"integration_id\":null,\"sis_import_id\":null,\"login_id\":\"axa20g\"},{\"id\":6346,\"name\":\"Elizabeth Aguilera\",\"created_at\":\"2020-09-09T17:26:20-05:00\",\"sortable_name\":\"Aguilera, Elizabeth\",\"short_name\":\"Beth Aguilera\",\"sis_user_id\":\"000588559\",\"integration_id\":null,\"sis_import_id\":null,\"login_id\":\"eka20a\"},{\"id\":11373,\"name\":\"Lisa Aguirre\",\"created_at\":\"2022-08-08T19:24:57-05:00\",\"sortable_name\":\"Aguirre, Lisa\",\"short_name\":\"Lisa\",\"sis_user_id\":\"000614182\",\"integration_id\":null,\"sis_import_id\":null,\"login_id\":\"eda22a\"},{\"id\":215,\"name\":\"Bernard Agyei\",\"created_at\":\"2016-10-06T16:11:10-05:00\",\"sortable_name\":\"Agyei, Bernard\",\"short_name\":\"Agyeman Agyei\",\"sis_user_id\":\"000508243\",\"integration_id\":null,\"sis_import_id\":null,\"login_id\":\"baa15a\"}]\n"
     ]
    }
   ],
   "source": [
    "auth_token='9251~zv5qY9mCJfdLgJofQMg1YEwhjaa7kPTDTaEOoi4I951wCcdTX6ElGjoLmOP7GjE5'\n",
    "hed = {'Authorization': 'Bearer ' + auth_token}\n",
    "\n",
    "url = 'https://acuonline.instructure.com:443/api/v1/accounts/1/users?per_page=100'\n",
    "\n",
    "with requests.Session() as s:\n",
    "    response = s.get(url, headers=hed)\n",
    "    print(response.text)\n",
    "\n"
   ]
  },
  {
   "cell_type": "code",
   "execution_count": 12,
   "id": "c45f88ec",
   "metadata": {},
   "outputs": [
    {
     "name": "stdout",
     "output_type": "stream",
     "text": [
      "Defaulting to user installation because normal site-packages is not writeable\n",
      "Collecting aiohttp\n",
      "  Downloading aiohttp-3.8.1-cp39-cp39-manylinux_2_5_x86_64.manylinux1_x86_64.manylinux_2_12_x86_64.manylinux2010_x86_64.whl (1.2 MB)\n",
      "\u001b[K     |████████████████████████████████| 1.2 MB 3.3 MB/s eta 0:00:01\n",
      "\u001b[?25hRequirement already satisfied: attrs>=17.3.0 in /opt/anaconda3/lib/python3.9/site-packages (from aiohttp) (21.2.0)\n",
      "Collecting frozenlist>=1.1.1\n",
      "  Downloading frozenlist-1.3.1-cp39-cp39-manylinux_2_5_x86_64.manylinux1_x86_64.manylinux_2_17_x86_64.manylinux2014_x86_64.whl (158 kB)\n",
      "\u001b[K     |████████████████████████████████| 158 kB 5.4 MB/s eta 0:00:01\n",
      "\u001b[?25hCollecting yarl<2.0,>=1.0\n",
      "  Downloading yarl-1.8.1-cp39-cp39-manylinux_2_17_x86_64.manylinux2014_x86_64.whl (264 kB)\n",
      "\u001b[K     |████████████████████████████████| 264 kB 6.8 MB/s eta 0:00:01\n",
      "\u001b[?25hCollecting aiosignal>=1.1.2\n",
      "  Downloading aiosignal-1.2.0-py3-none-any.whl (8.2 kB)\n",
      "Collecting multidict<7.0,>=4.5\n",
      "  Downloading multidict-6.0.2-cp39-cp39-manylinux_2_17_x86_64.manylinux2014_x86_64.whl (114 kB)\n",
      "\u001b[K     |████████████████████████████████| 114 kB 5.0 MB/s eta 0:00:01\n",
      "\u001b[?25hCollecting async-timeout<5.0,>=4.0.0a3\n",
      "  Downloading async_timeout-4.0.2-py3-none-any.whl (5.8 kB)\n",
      "Requirement already satisfied: charset-normalizer<3.0,>=2.0 in /opt/anaconda3/lib/python3.9/site-packages (from aiohttp) (2.0.4)\n",
      "Requirement already satisfied: idna>=2.0 in /opt/anaconda3/lib/python3.9/site-packages (from yarl<2.0,>=1.0->aiohttp) (3.2)\n",
      "Installing collected packages: multidict, frozenlist, yarl, async-timeout, aiosignal, aiohttp\n",
      "Successfully installed aiohttp-3.8.1 aiosignal-1.2.0 async-timeout-4.0.2 frozenlist-1.3.1 multidict-6.0.2 yarl-1.8.1\n",
      "Note: you may need to restart the kernel to use updated packages.\n"
     ]
    }
   ],
   "source": [
    "pip install aiohttp"
   ]
  },
  {
   "cell_type": "code",
   "execution_count": null,
   "id": "ddc770a6",
   "metadata": {},
   "outputs": [],
   "source": []
  }
 ],
 "metadata": {
  "kernelspec": {
   "display_name": "Python 3 (ipykernel)",
   "language": "python",
   "name": "python3"
  },
  "language_info": {
   "codemirror_mode": {
    "name": "ipython",
    "version": 3
   },
   "file_extension": ".py",
   "mimetype": "text/x-python",
   "name": "python",
   "nbconvert_exporter": "python",
   "pygments_lexer": "ipython3",
   "version": "3.10.11"
  }
 },
 "nbformat": 4,
 "nbformat_minor": 5
}
