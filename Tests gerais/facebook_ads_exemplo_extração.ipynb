{
 "cells": [
  {
   "cell_type": "code",
   "execution_count": null,
   "metadata": {},
   "outputs": [
    {
     "ename": "",
     "evalue": "",
     "output_type": "error",
     "traceback": [
      "\u001b[1;31mFalha ao iniciar o Kernel. \n",
      "\u001b[1;31mJupyter server crashed. Unable to connect. \n",
      "\u001b[1;31mError code from Jupyter: 1\n",
      "\u001b[1;31musage: jupyter.py [-h] [--version] [--config-dir] [--data-dir] [--runtime-dir]\n",
      "\u001b[1;31m                  [--paths] [--json] [--debug]\n",
      "\u001b[1;31m                  [subcommand]\n",
      "\u001b[1;31m\n",
      "\u001b[1;31mJupyter: Interactive Computing\n",
      "\u001b[1;31m\n",
      "\u001b[1;31mpositional arguments:\n",
      "\u001b[1;31m  subcommand     the subcommand to launch\n",
      "\u001b[1;31m\n",
      "\u001b[1;31moptions:\n",
      "\u001b[1;31m  -h, --help     show this help message and exit\n",
      "\u001b[1;31m  --version      show the versions of core jupyter packages and exit\n",
      "\u001b[1;31m  --config-dir   show Jupyter config dir\n",
      "\u001b[1;31m  --data-dir     show Jupyter data dir\n",
      "\u001b[1;31m  --runtime-dir  show Jupyter runtime dir\n",
      "\u001b[1;31m  --paths        show all Jupyter paths. Add --json for machine-readable\n",
      "\u001b[1;31m                 format.\n",
      "\u001b[1;31m  --json         output paths as machine-readable json\n",
      "\u001b[1;31m  --debug        output debug information about paths\n",
      "\u001b[1;31m\n",
      "\u001b[1;31mAvailable subcommands: 1.0.0\n",
      "\u001b[1;31m\n",
      "\u001b[1;31mJupyter command `jupyter-notebook` not found. \n",
      "\u001b[1;31mConsulte o <a href='command:jupyter.viewOutput'>log</a> do Jupyter para obter mais detalhes."
     ]
    }
   ],
   "source": [
    "from facebook_business.api import FacebookAdsApi\n",
    "from facebook_business.adobjects.adsinsights import AdsInsights\n",
    "from facebook_business.adobjects.adaccount import AdAccount\n",
    "import pandas as pd\n",
    "from facebook_business.adobjects.user import User\n",
    "from datetime import date\n",
    "from datetime import timedelta\n",
    "from google.cloud import storage\n",
    "import os\n",
    "\n",
    "start = '2021-04-24'\n",
    "end = '2021-04-24'\n",
    "FacebookAdsApi.init(my_app_id, my_app_secret, my_access_token, api_version='v9.0')\n",
    "me = User(fbid=\"me\")\n",
    "my_account = me.get_ad_accounts()\n",
    "account_list = pd.DataFrame(my_account)\n",
    "appended_data = []\n",
    "live_accounts = ['21XXX478XXX279X', '25XX93XXX763XXX']\n",
    "for i in live_accounts:\n",
    "    print(i)\n",
    "    act = AdAccount('act_{}'.format(i))\n",
    "    async_job = act.get_insights(params={'time_range': {'since': start, 'until': end},\n",
    "                                         'breakdowns': ['publisher_platform', 'platform_position'],\n",
    "                                         'action_breakdowns': ['action_type'], 'level': 'ad', 'time_increment': 1,\n",
    "                                         'limit': 1,\n",
    "                                         },\n",
    "                                 # is_async=True,\n",
    "                                 fields=[AdsInsights.Field.adset_name,\n",
    "                                         AdsInsights.Field.ad_name,\n",
    "                                         AdsInsights.Field.campaign_name,\n",
    "                                         AdsInsights.Field.account_name,\n",
    "                                         AdsInsights.Field.impressions,\n",
    "                                         AdsInsights.Field.account_currency,\n",
    "                                         AdsInsights.Field.video_p25_watched_actions,\n",
    "                                         AdsInsights.Field.video_p50_watched_actions,\n",
    "                                         AdsInsights.Field.video_p75_watched_actions,\n",
    "                                         AdsInsights.Field.video_p100_watched_actions,\n",
    "                                         AdsInsights.Field.inline_link_clicks,\n",
    "                                         AdsInsights.Field.spend,\n",
    "                                         AdsInsights.Field.actions,\n",
    "                                         AdsInsights.Field.action_values,\n",
    "                                         ])\n",
    "                                         \n",
    "    results = []\n",
    "    for item in async_job:\n",
    "        print(item, type(item), async_job)\n",
    "        data = dict(item)\n",
    "        results.append(data)\n",
    "        "
   ]
  },
  {
   "cell_type": "code",
   "execution_count": null,
   "metadata": {},
   "outputs": [],
   "source": []
  }
 ],
 "metadata": {
  "kernelspec": {
   "display_name": "Python 3",
   "language": "python",
   "name": "python3"
  },
  "language_info": {
   "name": "python",
   "version": "3.10.10"
  },
  "orig_nbformat": 4,
  "vscode": {
   "interpreter": {
    "hash": "3e1126f69b12426fabfff4565b96e0dd44e92144004490e8b71b048a33ded346"
   }
  }
 },
 "nbformat": 4,
 "nbformat_minor": 2
}
