{
 "cells": [
  {
   "cell_type": "code",
   "execution_count": 1,
   "metadata": {},
   "outputs": [
    {
     "name": "stdout",
     "output_type": "stream",
     "text": [
      "<span auto-subscribe=\"true\" central=\"geral\" channel-name=\"www.uol.com.br\" class=\"uol-notifications-widget\" data-container=\".webalert_parent_container\" service-worker-path=\"index.jsx?loadComponent=Media&amp;contentType=js&amp;scope=assets/dist&amp;asset=firebase-messaging-sw.js\" style=\"display:none\" themes=\"geral\"></span>\n"
     ]
    }
   ],
   "source": [
    "import requests\n",
    "from datetime import datetime, time, timedelta, timezone\n",
    "import os\n",
    "import re\n",
    "#from apify_client import ApifyClient\n",
    "from bs4 import BeautifulSoup\n",
    "\n",
    " \n",
    "#webpage = requests.get('https://www.codecademy.com/articles/http-requests')\n",
    "#print(webpage.text)\n",
    "#webpage_response = requests.get('https://content.codecademy.com/courses/beautifulsoup/shellter.html')\n",
    "\n",
    "response = requests.get('https://www.uol.com.br')\n",
    "webpage = response.content\n",
    "#print(webpage)\n",
    "soup = BeautifulSoup(response.content, 'html.parser')\n",
    "\n",
    "#day_carousel_item = soup.find(title='UOL')\n",
    "\n",
    "localiza_class = soup.find(class_=\"uol-notifications-widget\")\n",
    "print(localiza_class)\n",
    "\n",
    "\n",
    "#print(day_carousel_item)\n",
    "\n",
    "#item = int(re.search(r'\\d{1,2}', soup).group(0))\n",
    "\n",
    "#tz_description = soup.find_all(class_='wr-c-footer-timezone__item')[1].text"
   ]
  },
  {
   "cell_type": "code",
   "execution_count": null,
   "metadata": {},
   "outputs": [],
   "source": []
  }
 ],
 "metadata": {
  "kernelspec": {
   "display_name": "Python 3",
   "language": "python",
   "name": "python3"
  },
  "language_info": {
   "codemirror_mode": {
    "name": "ipython",
    "version": 3
   },
   "file_extension": ".py",
   "mimetype": "text/x-python",
   "name": "python",
   "nbconvert_exporter": "python",
   "pygments_lexer": "ipython3",
   "version": "3.10.9"
  },
  "orig_nbformat": 4,
  "vscode": {
   "interpreter": {
    "hash": "3e1126f69b12426fabfff4565b96e0dd44e92144004490e8b71b048a33ded346"
   }
  }
 },
 "nbformat": 4,
 "nbformat_minor": 2
}
