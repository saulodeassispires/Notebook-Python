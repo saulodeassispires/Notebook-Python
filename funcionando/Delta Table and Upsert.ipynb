{
 "cells": [
  {
   "cell_type": "code",
   "execution_count": 1,
   "id": "33070df0",
   "metadata": {},
   "outputs": [
    {
     "name": "stdout",
     "output_type": "stream",
     "text": [
      ":: loading settings :: url = jar:file:/home/saulos_pires/.local/lib/python3.9/site-packages/pyspark/jars/ivy-2.5.0.jar!/org/apache/ivy/core/settings/ivysettings.xml\n"
     ]
    },
    {
     "name": "stderr",
     "output_type": "stream",
     "text": [
      "Ivy Default Cache set to: /home/saulos_pires/.ivy2/cache\n",
      "The jars for the packages stored in: /home/saulos_pires/.ivy2/jars\n",
      "io.delta#delta-core_2.12 added as a dependency\n",
      ":: resolving dependencies :: org.apache.spark#spark-submit-parent-bb985cec-a9af-494c-96aa-fde78a1133f8;1.0\n",
      "\tconfs: [default]\n",
      "\tfound io.delta#delta-core_2.12;1.2.1 in central\n",
      "\tfound io.delta#delta-storage;1.2.1 in central\n",
      "\tfound org.antlr#antlr4-runtime;4.8 in central\n",
      "\tfound org.codehaus.jackson#jackson-core-asl;1.9.13 in central\n",
      ":: resolution report :: resolve 241ms :: artifacts dl 12ms\n",
      "\t:: modules in use:\n",
      "\tio.delta#delta-core_2.12;1.2.1 from central in [default]\n",
      "\tio.delta#delta-storage;1.2.1 from central in [default]\n",
      "\torg.antlr#antlr4-runtime;4.8 from central in [default]\n",
      "\torg.codehaus.jackson#jackson-core-asl;1.9.13 from central in [default]\n",
      "\t---------------------------------------------------------------------\n",
      "\t|                  |            modules            ||   artifacts   |\n",
      "\t|       conf       | number| search|dwnlded|evicted|| number|dwnlded|\n",
      "\t---------------------------------------------------------------------\n",
      "\t|      default     |   4   |   0   |   0   |   0   ||   4   |   0   |\n",
      "\t---------------------------------------------------------------------\n",
      ":: retrieving :: org.apache.spark#spark-submit-parent-bb985cec-a9af-494c-96aa-fde78a1133f8\n",
      "\tconfs: [default]\n",
      "\t0 artifacts copied, 4 already retrieved (0kB/6ms)\n",
      "22/08/03 14:45:03 WARN NativeCodeLoader: Unable to load native-hadoop library for your platform... using builtin-java classes where applicable\n",
      "Using Spark's default log4j profile: org/apache/spark/log4j-defaults.properties\n",
      "Setting default log level to \"WARN\".\n",
      "To adjust logging level use sc.setLogLevel(newLevel). For SparkR, use setLogLevel(newLevel).\n"
     ]
    }
   ],
   "source": [
    "#### cria ambiente spark e delta tables \n",
    "import pyspark\n",
    "from delta import *\n",
    "\n",
    "builder = pyspark.sql.SparkSession.builder.appName(\"AppSaulo\") \\\n",
    "    .config(\"spark.sql.extensions\", \"io.delta.sql.DeltaSparkSessionExtension\") \\\n",
    "    .config(\"spark.sql.catalog.spark_catalog\", \"org.apache.spark.sql.delta.catalog.DeltaCatalog\") \\\n",
    "    .config(\"spark.sql.debug.maxToStringFields\", 100000)\n",
    "\n",
    "spark = configure_spark_with_delta_pip(builder).getOrCreate()\n",
    "\n"
   ]
  },
  {
   "cell_type": "code",
   "execution_count": 26,
   "id": "bd58aca1",
   "metadata": {},
   "outputs": [
    {
     "name": "stdout",
     "output_type": "stream",
     "text": [
      "+------+--------+----------+--------------------+-----+\n",
      "|   _c0|     _c1|       _c2|                 _c3|value|\n",
      "+------+--------+----------+--------------------+-----+\n",
      "|Banner|Multiple|  Multiple|COURSE_MASTER_COU...| null|\n",
      "|Banner|Multiple|  Multiple|COURSE_MASTER_COU...| null|\n",
      "|Banner| SBRPERS|BN_SBRPERS|STUDENT_PIDM_PERS...| null|\n",
      "|Banner| SGRADVR|BN_SGRADVR| STUDENT_ADVISOR_LNK| null|\n",
      "|Banner| SGRADVR|BN_SGRADVR| STUDENT_ADVISOR_SAT| null|\n",
      "|Banner| SGRCHRT|BN_SGRCHRT|STUDENT_PIDM_COHO...| null|\n",
      "|Banner| SGRCHRT|BN_SGRCHRT|STUDENT_PIDM_COHO...| null|\n",
      "+------+--------+----------+--------------------+-----+\n",
      "\n"
     ]
    }
   ],
   "source": [
    "#df = spark.read.csv('/tmp/map.csv')\n",
    "#df.createOrReplaceTempView('planilha')\n",
    "#df = spark.sql('select * from planilha')\n",
    "#df.show()\n",
    "\n",
    "#df2 = spark.read.format(\"text\").load(\"/tmp/mapped.txt\")\n",
    "#df2.createOrReplaceTempView('mapeado')\n",
    "df2 = spark.sql('select a.*, b.* from planilha as a left join mapeado as b on a._c2 = b.value where b.value is null')\n",
    "df2.show()\n",
    "\n",
    "#df3 = spark.sql('select count(*) from (select distinct _c2 from planilha) as a ')\n",
    "#df3.show()\n",
    "\n",
    "#df4 = spark.sql('select count(*) from (select distinct value from mapeado) as a ')\n",
    "#df4.show()\n",
    "\n",
    "#df5 = spark.sql('select a.*, b.* from planilha as a right join mapeado as b on a._c2 = b.value where a._c2 is null')\n",
    "#df5.show()\n",
    "\n",
    "\n"
   ]
  },
  {
   "cell_type": "code",
   "execution_count": 17,
   "id": "131a18ad",
   "metadata": {},
   "outputs": [
    {
     "name": "stdout",
     "output_type": "stream",
     "text": [
      "+-------------+\n",
      "|InvoiceNumber|\n",
      "+-------------+\n",
      "|   0536913516|\n",
      "|   0536885915|\n",
      "|   0536889340|\n",
      "|   0536858651|\n",
      "|   0536920352|\n",
      "|   0536820814|\n",
      "|   0603818755|\n",
      "|   0536829121|\n",
      "|   0536856582|\n",
      "|   0536919708|\n",
      "|   0536918130|\n",
      "|   0536839307|\n",
      "|   0536910428|\n",
      "|   0536819051|\n",
      "|   0536894469|\n",
      "|   0536878221|\n",
      "|   0536842104|\n",
      "|   0536883930|\n",
      "|   0536911917|\n",
      "|   0536827362|\n",
      "+-------------+\n",
      "only showing top 20 rows\n",
      "\n"
     ]
    }
   ],
   "source": [
    "df_parquet = spark.sql('''create database if not exists db_parquet ''')\n",
    "df_parquet = spark.sql('''create table if not exists db_parquet.InvoiceParquet using parquet location \"/home/saulos_pires/parquet/ds_zz_Invoice_folder\"''')\n",
    "df_parquet = spark.sql('''select distinct InvoiceNumber from db_parquet.InvoiceParquet  where InvoiceNumber <> 0536884625''')\n",
    "df_parquet.show()\n",
    "\n",
    "#0536884625"
   ]
  },
  {
   "cell_type": "code",
   "execution_count": 21,
   "id": "0398a439",
   "metadata": {},
   "outputs": [
    {
     "name": "stderr",
     "output_type": "stream",
     "text": [
      "                                                                                \r"
     ]
    }
   ],
   "source": [
    "df_parquet.write \\\n",
    "    .format(\"delta\") \\\n",
    "    .mode(\"overwrite\") \\\n",
    "    .option(\"overwriteSchema\", \"true\") \\\n",
    "    .save(\"/home/saulos_pires/dt_tables/InvoiceDelta\") \n",
    "\n",
    "\n"
   ]
  },
  {
   "cell_type": "code",
   "execution_count": 3,
   "id": "8ad2552a",
   "metadata": {},
   "outputs": [
    {
     "name": "stderr",
     "output_type": "stream",
     "text": [
      "                                                                                \r"
     ]
    },
    {
     "name": "stdout",
     "output_type": "stream",
     "text": [
      "+-------------+\n",
      "|InvoiceNumber|\n",
      "+-------------+\n",
      "|   0536884625|\n",
      "+-------------+\n",
      "\n"
     ]
    }
   ],
   "source": [
    "df_delta = spark.sql('''create database if not exists db_delta ''')\n",
    "df_delta = spark.sql('''create table if not exists db_delta.InvoiceDelta using delta location \"/home/saulos_pires/dt_tables/InvoiceDelta\"''')\n",
    "df_delta = spark.sql('''select * from db_delta.InvoiceDelta where InvoiceNumber = 0536884625''')\n",
    "df_delta.show()"
   ]
  },
  {
   "cell_type": "code",
   "execution_count": 6,
   "id": "c098e273",
   "metadata": {},
   "outputs": [
    {
     "name": "stdout",
     "output_type": "stream",
     "text": [
      "+-------------+\n",
      "|InvoiceNumber|\n",
      "+-------------+\n",
      "|   0536884625|\n",
      "+-------------+\n",
      "\n"
     ]
    }
   ],
   "source": [
    "df_insert = spark.sql('''select distinct InvoiceNumber from db_parquet.InvoiceParquet  where InvoiceNumber = 0536884625''')\n",
    "df_insert.show()"
   ]
  },
  {
   "cell_type": "code",
   "execution_count": 7,
   "id": "96cf3752",
   "metadata": {},
   "outputs": [
    {
     "name": "stderr",
     "output_type": "stream",
     "text": [
      "                                                                                \r"
     ]
    }
   ],
   "source": [
    "deltaTablePeople = DeltaTable.forPath(spark, '/home/saulos_pires/dt_tables/InvoiceDelta')\n",
    "#deltaTablePeopleUpdates = DeltaTable.forPath(spark, '/tmp/delta/people-10m-updates')\n",
    "\n",
    "dfUpdates = df_insert\n",
    "\n",
    "deltaTablePeople.alias('people') \\\n",
    "  .merge(\n",
    "    dfUpdates.alias('updates'),\n",
    "    'people.InvoiceNumber = updates.InvoiceNumber'\n",
    "  ) \\\n",
    "  .whenMatchedUpdate(set =\n",
    "    {\n",
    "      \"InvoiceNumber\": \"updates.InvoiceNumber\"\n",
    "    }\n",
    "  ) \\\n",
    "  .whenNotMatchedInsert(values =\n",
    "    {\n",
    "      \"InvoiceNumber\": \"updates.InvoiceNumber\"\n",
    "    }\n",
    "  ) \\\n",
    "  .execute()"
   ]
  },
  {
   "cell_type": "code",
   "execution_count": 34,
   "id": "bb1aaece",
   "metadata": {},
   "outputs": [],
   "source": [
    "df = spark.read.parquet('/home/saulos_pires/parquet/ds_zz_Invoice_folder/ds_zz_Invoice')\n",
    "df.createOrReplaceTempView('produto')"
   ]
  },
  {
   "cell_type": "code",
   "execution_count": 48,
   "id": "bdd60934",
   "metadata": {},
   "outputs": [],
   "source": [
    "###df_resultado = spark.sql('select product_code, row_number() over(partition by product_code order by ins_gmt_ts desc ) as linha from produto ')\n",
    "df_teste = spark.sql(\"select * from (select SKU, row_number() over(partition by SKU order by InvoiceDate desc ) as linha from produto ) where linha = 1 order by 1 desc\")"
   ]
  },
  {
   "cell_type": "code",
   "execution_count": 49,
   "id": "597f4e76",
   "metadata": {},
   "outputs": [
    {
     "name": "stdout",
     "output_type": "stream",
     "text": [
      "+-------+-----+\n",
      "|    SKU|linha|\n",
      "+-------+-----+\n",
      "|7006263|    1|\n",
      "|7006262|    1|\n",
      "|7006242|    1|\n",
      "|7001862|    1|\n",
      "|7001695|    1|\n",
      "|7001692|    1|\n",
      "|7001685|    1|\n",
      "|7000281|    1|\n",
      "|7000278|    1|\n",
      "|6018052|    1|\n",
      "|6017353|    1|\n",
      "|6017352|    1|\n",
      "|6017351|    1|\n",
      "|6017350|    1|\n",
      "|6017349|    1|\n",
      "|6017348|    1|\n",
      "|6017345|    1|\n",
      "|6017344|    1|\n",
      "|6017343|    1|\n",
      "|6017342|    1|\n",
      "+-------+-----+\n",
      "only showing top 20 rows\n",
      "\n"
     ]
    }
   ],
   "source": [
    "df_teste.show()"
   ]
  },
  {
   "cell_type": "code",
   "execution_count": 5,
   "id": "7d865f33",
   "metadata": {},
   "outputs": [
    {
     "name": "stdout",
     "output_type": "stream",
     "text": [
      "+------------------+--------------------+-------------+-------------+----------------------+-----------------+---------------+----------+------------+------------+-----------------+------------+--------------------------+---------------------+---------------+------------------+-------------+--------------+----------------+------+----------+----------+--------------+----------+--------------+-----------------+-----------------+-------+\n",
      "|      product_code|        product_name|category_code|category_name|brand_family_name_code|brand_family_name|brand_name_code|brand_name|package_code|package_name|package_type_code|package_type|package_material_type_code|package_material_type|pack_volumetric|price_segment_code|price_segment|product_volume|marketplace_flag|status|src_sys_id|ins_usr_id|    ins_gmt_ts|upd_usr_id|    upd_gmt_ts|      load_job_nr|src_sys_region_nm|act_flg|\n",
      "+------------------+--------------------+-------------+-------------+----------------------+-----------------+---------------+----------+------------+------------+-----------------+------------+--------------------------+---------------------+---------------+------------------+-------------+--------------+----------------+------+----------+----------+--------------+----------+--------------+-----------------+-----------------+-------+\n",
      "|000000000005002392|MICROALAMBRE A.I....|            6|        Otros|                     x|             null|               |          |            |            |                 |        null|                          |                     |               |                  |             |           0.0|               N|Active|      9050|talenduser|20220310144545|talenduser|20220310144545|22031014454513336|               mx|      Y|\n",
      "|000000000005002393|MICROALAMBRE 0.03...|            6|        Otros|                     x|             null|               |          |            |            |                 |        null|                          |                     |               |                  |             |           0.0|               N|Active|      9050|talenduser|20220310144545|talenduser|20220310144545|22031014454513336|               mx|      Y|\n",
      "|000000000005002394|MICROALAMBRE 0.04...|            6|        Otros|                     x|             null|               |          |            |            |                 |        null|                          |                     |               |                  |             |           0.0|               N|Active|      9050|talenduser|20220310144545|talenduser|20220310144545|22031014454513336|               mx|      Y|\n",
      "|000000000005002395|MICROALAMBRE 1 MM...|            6|        Otros|                     x|             null|               |          |            |            |                 |        null|                          |                     |               |                  |             |           0.0|               N|Active|      9050|talenduser|20220310144545|talenduser|20220310144545|22031014454513336|               mx|      Y|\n",
      "|000000000005002396|ELECTRODO A.C. DE...|            6|        Otros|                     x|             null|               |          |            |            |                 |        null|                          |                     |               |                  |             |           0.0|               N|Active|      9050|talenduser|20220310144545|talenduser|20220310144545|22031014454513336|               mx|      Y|\n",
      "|000000000005002397|ELECTRODO A.C. DE...|            6|        Otros|                     x|             null|               |          |            |            |                 |        null|                          |                     |               |                  |             |           0.0|               N|Active|      9050|talenduser|20220310144545|talenduser|20220310144545|22031014454513336|               mx|      Y|\n",
      "|000000000005002398|ELECTRODO A.C. DE...|            6|        Otros|                     x|             null|               |          |            |            |                 |        null|                          |                     |               |                  |             |           0.0|               N|Active|      9050|talenduser|20220310144545|talenduser|20220310144545|22031014454513336|               mx|      Y|\n",
      "|000000000005002399|ELECTRODO A.C. DE...|            6|        Otros|                     x|             null|               |          |            |            |                 |        null|                          |                     |               |                  |             |           0.0|               N|Active|      9050|talenduser|20220310144545|talenduser|20220310144545|22031014454513336|               mx|      Y|\n",
      "|000000000005002400|ELECTRODO A.C. DE...|            6|        Otros|                     x|             null|               |          |            |            |                 |        null|                          |                     |               |                  |             |           0.0|               N|Active|      9050|talenduser|20220310144545|talenduser|20220310144545|22031014454513336|               mx|      Y|\n",
      "|000000000005002401|ELECTRODO A.C. DE...|            6|        Otros|                     x|             null|               |          |            |            |                 |        null|                          |                     |               |                  |             |           0.0|               N|Active|      9050|talenduser|20220310144545|talenduser|20220310144545|22031014454513336|               mx|      Y|\n",
      "|000000000005002402|ELECTRODO A.C. DE...|            6|        Otros|                     x|             null|               |          |            |            |                 |        null|                          |                     |               |                  |             |           0.0|               N|Active|      9050|talenduser|20220310144545|talenduser|20220310144545|22031014454513336|               mx|      Y|\n",
      "|000000000005002403|ELECTRODO A.C. DE...|            6|        Otros|                     x|             null|               |          |            |            |                 |        null|                          |                     |               |                  |             |           0.0|               N|Active|      9050|talenduser|20220310144545|talenduser|20220310144545|22031014454513336|               mx|      Y|\n",
      "|000000000005002404|ELECTRODO A.C. DE...|            6|        Otros|                     x|             null|               |          |            |            |                 |        null|                          |                     |               |                  |             |           0.0|               N|Active|      9050|talenduser|20220310144545|talenduser|20220310144545|22031014454513336|               mx|      Y|\n",
      "|000000000005002405|ELECTRODO A.C. DE...|            6|        Otros|                     x|             null|               |          |            |            |                 |        null|                          |                     |               |                  |             |           0.0|               N|Active|      9050|talenduser|20220310144545|talenduser|20220310144545|22031014454513336|               mx|      Y|\n",
      "|000000000005002406|ELECTRODO A.I.DE ...|            6|        Otros|                     x|             null|               |          |            |            |                 |        null|                          |                     |               |                  |             |           0.0|               N|Active|      9050|talenduser|20220310144545|talenduser|20220310144545|22031014454513336|               mx|      Y|\n",
      "|000000000005002407|ELECTRODO A.I. DE...|            6|        Otros|                     x|             null|               |          |            |            |                 |        null|                          |                     |               |                  |             |           0.0|               N|Active|      9050|talenduser|20220310144545|talenduser|20220310144545|22031014454513336|               mx|      Y|\n",
      "|000000000005002408|ELECTRODO A.I. DE...|            6|        Otros|                     x|             null|               |          |            |            |                 |        null|                          |                     |               |                  |             |           0.0|               N|Active|      9050|talenduser|20220310144545|talenduser|20220310144545|22031014454513336|               mx|      Y|\n",
      "|000000000005002409|ELECTRODO A.I. DE...|            6|        Otros|                     x|             null|               |          |            |            |                 |        null|                          |                     |               |                  |             |           0.0|               N|Active|      9050|talenduser|20220310144545|talenduser|20220310144545|22031014454513336|               mx|      Y|\n",
      "|000000000005002410|ELECTRODO A.I. DE...|            6|        Otros|                     x|             null|               |          |            |            |                 |        null|                          |                     |               |                  |             |           0.0|               N|Active|      9050|talenduser|20220310144545|talenduser|20220310144545|22031014454513336|               mx|      Y|\n",
      "|000000000005002411|ELECTRODO A.I. DE...|            6|        Otros|                     x|             null|               |          |            |            |                 |        null|                          |                     |               |                  |             |           0.0|               N|Active|      9050|talenduser|20220310144545|talenduser|20220310144545|22031014454513336|               mx|      Y|\n",
      "+------------------+--------------------+-------------+-------------+----------------------+-----------------+---------------+----------+------------+------------+-----------------+------------+--------------------------+---------------------+---------------+------------------+-------------+--------------+----------------+------+----------+----------+--------------+----------+--------------+-----------------+-----------------+-------+\n",
      "only showing top 20 rows\n",
      "\n"
     ]
    }
   ],
   "source": [
    "df.show()"
   ]
  },
  {
   "cell_type": "code",
   "execution_count": null,
   "id": "4b7edaaf",
   "metadata": {},
   "outputs": [],
   "source": []
  }
 ],
 "metadata": {
  "kernelspec": {
   "display_name": "Python 3 (ipykernel)",
   "language": "python",
   "name": "python3"
  },
  "language_info": {
   "codemirror_mode": {
    "name": "ipython",
    "version": 3
   },
   "file_extension": ".py",
   "mimetype": "text/x-python",
   "name": "python",
   "nbconvert_exporter": "python",
   "pygments_lexer": "ipython3",
   "version": "3.9.7"
  }
 },
 "nbformat": 4,
 "nbformat_minor": 5
}
