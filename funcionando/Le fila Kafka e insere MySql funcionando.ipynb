{
 "cells": [
  {
   "cell_type": "code",
   "execution_count": 4,
   "id": "732c9935",
   "metadata": {},
   "outputs": [],
   "source": [
    "from kafka import KafkaConsumer\n",
    "import pandas as pd\n",
    "import pyarrow\n",
    "import pyspark\n",
    "import mysql.connector as mysql \n",
    "\n",
    "### abre conexão com MySQL   \n",
    "con = mysql.connect(host='localhost',database='teste',user='saulo',password='Olivetti@5!', auth_plugin='mysql_native_password')\n",
    "cursor = con.cursor()\n"
   ]
  },
  {
   "cell_type": "code",
   "execution_count": 5,
   "id": "ab99fedc",
   "metadata": {},
   "outputs": [],
   "source": [
    "### extrai coluna valor do dictionary e grava arquivo .csv  \n",
    "def ProcessaLinha(df_grava):\n",
    "    df_montado = pd.DataFrame([df_grava])\n",
    "    ##df_montado.columns = ['topic','partition','offset','timestamp','timestamp_type','key','value','coluna8','coluna9','coluna10','coluna11','coluna12'] \n",
    "    valor = str(df_montado)               \n",
    "    ##df_montado.to_csv('/tmp/people.csv', mode='a', index=False, sep='|', header=False)\n",
    "    comando = f'''insert into kafka values (\"{valor}\")'''\n",
    "    cursor.execute(comando)     \n",
    "    con.commit()\n"
   ]
  },
  {
   "cell_type": "code",
   "execution_count": 82,
   "id": "4c531d18",
   "metadata": {},
   "outputs": [],
   "source": [
    "### inicializa instancia spark \n",
    "spark = pyspark.sql.SparkSession \\\n",
    "          .builder \\\n",
    "          .appName(\"APP\") \\\n",
    "          .getOrCreate()\n"
   ]
  },
  {
   "cell_type": "code",
   "execution_count": null,
   "id": "5d0b02a3",
   "metadata": {},
   "outputs": [],
   "source": [
    "### inicializa streaming e chama insert no mysql \n",
    "TOPIC_NAME = 'saulo-teste'\n",
    "consumer = KafkaConsumer(TOPIC_NAME)\n",
    "\n",
    "for message in consumer:\n",
    "    ProcessaLinha(message)\n",
    "\n"
   ]
  },
  {
   "cell_type": "code",
   "execution_count": null,
   "id": "0693dd49",
   "metadata": {},
   "outputs": [],
   "source": []
  }
 ],
 "metadata": {
  "kernelspec": {
   "display_name": "Python 3 (ipykernel)",
   "language": "python",
   "name": "python3"
  },
  "language_info": {
   "codemirror_mode": {
    "name": "ipython",
    "version": 3
   },
   "file_extension": ".py",
   "mimetype": "text/x-python",
   "name": "python",
   "nbconvert_exporter": "python",
   "pygments_lexer": "ipython3",
   "version": "3.9.7"
  }
 },
 "nbformat": 4,
 "nbformat_minor": 5
}
