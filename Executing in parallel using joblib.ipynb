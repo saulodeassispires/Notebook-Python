{
 "cells": [
  {
   "cell_type": "code",
   "execution_count": 6,
   "metadata": {},
   "outputs": [
    {
     "name": "stdout",
     "output_type": "stream",
     "text": [
      "[Parallel(n_jobs=2)]: Using backend ThreadingBackend with 2 concurrent workers.\n",
      "[Parallel(n_jobs=2)]: Done   1 tasks      | elapsed:    5.9s\n",
      "[Parallel(n_jobs=2)]: Done   2 tasks      | elapsed:    7.3s\n",
      "[Parallel(n_jobs=2)]: Done   3 tasks      | elapsed:   11.7s\n",
      "[Parallel(n_jobs=2)]: Done   4 tasks      | elapsed:   13.1s\n",
      "[Parallel(n_jobs=2)]: Done   5 tasks      | elapsed:   17.4s\n",
      "[Parallel(n_jobs=2)]: Done   6 tasks      | elapsed:   18.8s\n",
      "[Parallel(n_jobs=2)]: Done   7 tasks      | elapsed:   23.0s\n",
      "[Parallel(n_jobs=2)]: Done   8 tasks      | elapsed:   24.5s\n",
      "[Parallel(n_jobs=2)]: Done   9 tasks      | elapsed:   28.9s\n",
      "[Parallel(n_jobs=2)]: Done  10 tasks      | elapsed:   30.6s\n",
      "[Parallel(n_jobs=2)]: Done  11 tasks      | elapsed:   34.7s\n",
      "[Parallel(n_jobs=2)]: Done  12 tasks      | elapsed:   36.3s\n",
      "[Parallel(n_jobs=2)]: Done  13 tasks      | elapsed:   40.4s\n",
      "[Parallel(n_jobs=2)]: Done  14 tasks      | elapsed:   42.1s\n",
      "[Parallel(n_jobs=2)]: Done  15 tasks      | elapsed:   46.0s\n",
      "[Parallel(n_jobs=2)]: Done  16 tasks      | elapsed:   47.8s\n",
      "[Parallel(n_jobs=2)]: Done  17 tasks      | elapsed:   51.7s\n",
      "[Parallel(n_jobs=2)]: Done  18 tasks      | elapsed:   53.5s\n",
      "[Parallel(n_jobs=2)]: Done  19 tasks      | elapsed:   57.4s\n",
      "[Parallel(n_jobs=2)]: Done  20 tasks      | elapsed:   59.2s\n",
      "[Parallel(n_jobs=2)]: Done  21 tasks      | elapsed:  1.1min\n",
      "[Parallel(n_jobs=2)]: Done  22 tasks      | elapsed:  1.1min\n",
      "[Parallel(n_jobs=2)]: Done  23 tasks      | elapsed:  1.1min\n",
      "[Parallel(n_jobs=2)]: Done  24 tasks      | elapsed:  1.2min\n",
      "[Parallel(n_jobs=2)]: Done  25 tasks      | elapsed:  1.2min\n",
      "[Parallel(n_jobs=2)]: Done  26 tasks      | elapsed:  1.3min\n",
      "[Parallel(n_jobs=2)]: Done  27 tasks      | elapsed:  1.3min\n",
      "[Parallel(n_jobs=2)]: Done  28 out of  30 | elapsed:  1.4min remaining:    5.8s\n",
      "[Parallel(n_jobs=2)]: Done  30 out of  30 | elapsed:  1.5min remaining:    0.0s\n",
      "[Parallel(n_jobs=2)]: Done  30 out of  30 | elapsed:  1.5min finished\n",
      "['~120 resultados;ok;https://www.facebook.com/ads/library/?active_status=all&ad_type=all&country=US&q=ramseysolutions.com&sort_data[direction]=desc&sort_data[mode]=relevancy_monthly_grouped&search_type=keyword_unordered&media_type=all\\n', '0 resultados;bad;https://www.facebook.com/ads/library/?active_status=all&ad_type=all&country=US&q=newscientist.com&sort_data[direction]=desc&sort_data[mode]=relevancy_monthly_grouped&search_type=keyword_unordered&media_type=all\\n', '~89 resultados;ok;https://www.facebook.com/ads/library/?active_status=all&ad_type=all&country=US&q=lifehack.org&sort_data[direction]=desc&sort_data[mode]=relevancy_monthly_grouped&search_type=keyword_unordered&media_type=all\\n', '0 resultados;bad;https://www.facebook.com/ads/library/?active_status=all&ad_type=all&country=US&q=fullscript.com&sort_data[direction]=desc&sort_data[mode]=relevancy_monthly_grouped&search_type=keyword_unordered&media_type=all\\n', '~300 resultados;ok;https://www.facebook.com/ads/library/?active_status=all&ad_type=all&country=US&q=baeldung.com&sort_data[direction]=desc&sort_data[mode]=relevancy_monthly_grouped&search_type=keyword_unordered&media_type=all\\n', '0 resultados;bad;https://www.facebook.com/ads/library/?active_status=all&ad_type=all&country=US&q=appsumo.com&sort_data[direction]=desc&sort_data[mode]=relevancy_monthly_grouped&search_type=keyword_unordered&media_type=all\\n', '0 resultados;bad;https://www.facebook.com/ads/library/?active_status=all&ad_type=all&country=US&q=mindvalley.com&sort_data[direction]=desc&sort_data[mode]=relevancy_monthly_grouped&search_type=keyword_unordered&media_type=all\\n', '0 resultados;bad;https://www.facebook.com/ads/library/?active_status=all&ad_type=all&country=US&q=positivepsychology.com&sort_data[direction]=desc&sort_data[mode]=relevancy_monthly_grouped&search_type=keyword_unordered&media_type=all\\n', '~94 resultados;ok;https://www.facebook.com/ads/library/?active_status=all&ad_type=all&country=US&q=ascensionpress.com&sort_data[direction]=desc&sort_data[mode]=relevancy_monthly_grouped&search_type=keyword_unordered&media_type=all\\n', '~8 resultados;ok;https://www.facebook.com/ads/library/?active_status=all&ad_type=all&country=US&q=tonyrobbins.com&sort_data[direction]=desc&sort_data[mode]=relevancy_monthly_grouped&search_type=keyword_unordered&media_type=all\\n', '~27 resultados;ok;https://www.facebook.com/ads/library/?active_status=all&ad_type=all&country=US&q=lightspeedvt.com&sort_data[direction]=desc&sort_data[mode]=relevancy_monthly_grouped&search_type=keyword_unordered&media_type=all\\n', '~1 resultado;ok;https://www.facebook.com/ads/library/?active_status=all&ad_type=all&country=US&q=careerkarma.com&sort_data[direction]=desc&sort_data[mode]=relevancy_monthly_grouped&search_type=keyword_unordered&media_type=all\\n', '0 resultados;bad;https://www.facebook.com/ads/library/?active_status=all&ad_type=all&country=US&q=publishinglife.com&sort_data[direction]=desc&sort_data[mode]=relevancy_monthly_grouped&search_type=keyword_unordered&media_type=all\\n', '~19 resultados;ok;https://www.facebook.com/ads/library/?active_status=all&ad_type=all&country=US&q=therealworld.ai&sort_data[direction]=desc&sort_data[mode]=relevancy_monthly_grouped&search_type=keyword_unordered&media_type=all\\n', '0 resultados;bad;https://www.facebook.com/ads/library/?active_status=all&ad_type=all&country=US&q=junglescout.com&sort_data[direction]=desc&sort_data[mode]=relevancy_monthly_grouped&search_type=keyword_unordered&media_type=all\\n', '0 resultados;bad;https://www.facebook.com/ads/library/?active_status=all&ad_type=all&country=US&q=whitecoatinvestor.com&sort_data[direction]=desc&sort_data[mode]=relevancy_monthly_grouped&search_type=keyword_unordered&media_type=all\\n', '~300 resultados;ok;https://www.facebook.com/ads/library/?active_status=all&ad_type=all&country=US&q=fortunebuilders.com&sort_data[direction]=desc&sort_data[mode]=relevancy_monthly_grouped&search_type=keyword_unordered&media_type=all\\n', '0 resultados;bad;https://www.facebook.com/ads/library/?active_status=all&ad_type=all&country=US&q=springboard.com&sort_data[direction]=desc&sort_data[mode]=relevancy_monthly_grouped&search_type=keyword_unordered&media_type=all\\n', '~20 resultados;ok;https://www.facebook.com/ads/library/?active_status=all&ad_type=all&country=US&q=collegeessayguy.com&sort_data[direction]=desc&sort_data[mode]=relevancy_monthly_grouped&search_type=keyword_unordered&media_type=all\\n', '0 resultados;bad;https://www.facebook.com/ads/library/?active_status=all&ad_type=all&country=US&q=jamesclear.com&sort_data[direction]=desc&sort_data[mode]=relevancy_monthly_grouped&search_type=keyword_unordered&media_type=all\\n', '~70 resultados;ok;https://www.facebook.com/ads/library/?active_status=all&ad_type=all&country=US&q=pilotinstitute.com&sort_data[direction]=desc&sort_data[mode]=relevancy_monthly_grouped&search_type=keyword_unordered&media_type=all\\n', '0 resultados;bad;https://www.facebook.com/ads/library/?active_status=all&ad_type=all&country=US&q=awmi.net&sort_data[direction]=desc&sort_data[mode]=relevancy_monthly_grouped&search_type=keyword_unordered&media_type=all\\n', '~99 resultados;ok;https://www.facebook.com/ads/library/?active_status=all&ad_type=all&country=US&q=jennifermaker.com&sort_data[direction]=desc&sort_data[mode]=relevancy_monthly_grouped&search_type=keyword_unordered&media_type=all\\n', '~12 resultados;ok;https://www.facebook.com/ads/library/?active_status=all&ad_type=all&country=US&q=vaclaimsinsider.com&sort_data[direction]=desc&sort_data[mode]=relevancy_monthly_grouped&search_type=keyword_unordered&media_type=all\\n', '~160 resultados;ok;https://www.facebook.com/ads/library/?active_status=all&ad_type=all&country=US&q=warriortrading.com&sort_data[direction]=desc&sort_data[mode]=relevancy_monthly_grouped&search_type=keyword_unordered&media_type=all\\n', '~93 resultados;ok;https://www.facebook.com/ads/library/?active_status=all&ad_type=all&country=US&q=darrenhardy.com&sort_data[direction]=desc&sort_data[mode]=relevancy_monthly_grouped&search_type=keyword_unordered&media_type=all\\n', '0 resultados;bad;https://www.facebook.com/ads/library/?active_status=all&ad_type=all&country=US&q=performancegolfzone.com&sort_data[direction]=desc&sort_data[mode]=relevancy_monthly_grouped&search_type=keyword_unordered&media_type=all\\n', '~2 resultados;ok;https://www.facebook.com/ads/library/?active_status=all&ad_type=all&country=US&q=fluentin3months.com&sort_data[direction]=desc&sort_data[mode]=relevancy_monthly_grouped&search_type=keyword_unordered&media_type=all\\n', '~40 resultados;ok;https://www.facebook.com/ads/library/?active_status=all&ad_type=all&country=US&q=timetothrivechallenge.com&sort_data[direction]=desc&sort_data[mode]=relevancy_monthly_grouped&search_type=keyword_unordered&media_type=all\\n', '~40 resultados;ok;https://www.facebook.com/ads/library/?active_status=all&ad_type=all&country=US&q=creditrepaircloud.com&sort_data[direction]=desc&sort_data[mode]=relevancy_monthly_grouped&search_type=keyword_unordered&media_type=all\\n']\n"
     ]
    }
   ],
   "source": [
    "import time\n",
    "from selenium import webdriver\n",
    "from selenium.webdriver.common.by import By\n",
    "from selenium.webdriver.chrome.options import Options\n",
    "from joblib import Parallel, delayed\n",
    "#import dill as pickle\n",
    "\n",
    "# set webbrowser working on backgound \n",
    "Options = Options()\n",
    "Options.headless = True\n",
    "\n",
    "# create webdriver object\n",
    "driver = webdriver.Chrome(options=Options)\n",
    "\n",
    "contador = 5\n",
    "registro = ''\n",
    "\n",
    "class A:\n",
    "\n",
    "    def __init__(self, site, contador):\n",
    "        ##time.sleep(3)\n",
    "        self.site = site\n",
    "        self.contador = contador \n",
    "\n",
    "    def square(self):\n",
    "        \n",
    "        driver.get(self.site)\n",
    "            \n",
    "        # wait for paging totally opened\n",
    "        time.sleep(self.contador)\n",
    "            \n",
    "        # extracts the element\n",
    "        texto = driver.find_element(By.XPATH, '/html/body/div[1]/div[1]/div[1]/div/div/div/div[5]/div[1]/div/div/div/div/div/div[1]/div').text\n",
    "\n",
    "        if texto == \"0 resultados\":\n",
    "            resultado = 'bad'\n",
    "        else: \n",
    "            resultado = 'ok'   \n",
    "            \n",
    "        registro = texto + ';' +  resultado + ';' +  self.site.rstrip() + \"\\n\"\n",
    "        return registro\n",
    "        #websites_validated.write(registro)\n",
    "\n",
    "\n",
    "if __name__ == \"__main__\":\n",
    "    start = time.time()\n",
    "    with open(\"c:/Saulo/to_be_checked_apagar.txt\") as websites_to_be_checked:\n",
    "        runs = [A(site,contador) for site in websites_to_be_checked]\n",
    "        with Parallel(n_jobs=2, prefer=\"threads\", verbose=50) as parallel:\n",
    "               delayed_funcs = [delayed(lambda x: x.square())(run) for run in runs]\n",
    "               output = parallel(delayed_funcs)\n",
    "               \n",
    "    \n",
    "    \n",
    "    \n",
    "# open list website to be checked \n",
    "websites_validated = open(\"c:/Saulo/website_validated.txt\", \"w\", encoding=\"UTF-8\")\n",
    "\n",
    "print(output)\n",
    "for line in output:        \n",
    "    websites_validated.write(line)   "
   ]
  },
  {
   "cell_type": "code",
   "execution_count": null,
   "metadata": {},
   "outputs": [],
   "source": []
  }
 ],
 "metadata": {
  "kernelspec": {
   "display_name": "Python 3",
   "language": "python",
   "name": "python3"
  },
  "language_info": {
   "codemirror_mode": {
    "name": "ipython",
    "version": 3
   },
   "file_extension": ".py",
   "mimetype": "text/x-python",
   "name": "python",
   "nbconvert_exporter": "python",
   "pygments_lexer": "ipython3",
   "version": "3.10.9"
  },
  "orig_nbformat": 4,
  "vscode": {
   "interpreter": {
    "hash": "3e1126f69b12426fabfff4565b96e0dd44e92144004490e8b71b048a33ded346"
   }
  }
 },
 "nbformat": 4,
 "nbformat_minor": 2
}
