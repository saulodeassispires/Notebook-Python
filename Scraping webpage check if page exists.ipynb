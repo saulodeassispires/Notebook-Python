{
 "cells": [
  {
   "cell_type": "code",
   "execution_count": 3,
   "metadata": {},
   "outputs": [],
   "source": [
    "import requests\n",
    "import html_to_json\n",
    "#pagina = 'https://www.facebook.com/ads/library/?active_status=all&ad_type=all&country=BR&q=course&sort_data[direction]=desc&sort_data[mode]=relevancy_monthly_grouped&search_type=keyword_unordered&media_type=all&content_languages[0]=pt'\n",
    "#pagina = 'https://stlouissocomo.clothesmentor.com'\n",
    "pagina = 'https://takingcarababies.com'\n",
    "html_string = requests.get(pagina).content\n",
    "#soup = BeautifulSoup(html, 'html.parser')\n",
    "\n",
    "\n",
    "#html_string = \"\"\"<head>\n",
    "#    <title>Test site</title>\n",
    "#    <meta charset=\"UTF-8\"></head>\"\"\"\n",
    "output_json = html_to_json.convert(html_string)\n",
    "#print(output_json)\n",
    "\n",
    "#print(html_string)"
   ]
  },
  {
   "cell_type": "code",
   "execution_count": null,
   "metadata": {},
   "outputs": [],
   "source": []
  }
 ],
 "metadata": {
  "kernelspec": {
   "display_name": "Python 3",
   "language": "python",
   "name": "python3"
  },
  "language_info": {
   "codemirror_mode": {
    "name": "ipython",
    "version": 3
   },
   "file_extension": ".py",
   "mimetype": "text/x-python",
   "name": "python",
   "nbconvert_exporter": "python",
   "pygments_lexer": "ipython3",
   "version": "3.10.9"
  },
  "orig_nbformat": 4,
  "vscode": {
   "interpreter": {
    "hash": "3e1126f69b12426fabfff4565b96e0dd44e92144004490e8b71b048a33ded346"
   }
  }
 },
 "nbformat": 4,
 "nbformat_minor": 2
}
