{
 "cells": [
  {
   "cell_type": "code",
   "execution_count": null,
   "metadata": {},
   "outputs": [],
   "source": [
    "import generic_connector \n",
    "import pandas as pd\n",
    "\n",
    "target_table = ''\n",
    "auto_create_table = True \n",
    "overwrite = True \n",
    "type_source = 'Database'\n",
    "table_list = ['CALL_LOG', 'CALL_LOG_WITH_NOTES']\n",
    "\n",
    "conn_origin = generic_connector.framework.snowflake_connection(\n",
    "                        account = 'irsopih-uyb98241',\n",
    "                        user = 'SPIRES',\n",
    "                        password = 'Olivetti@5!',\n",
    "                        database = 'PRD_PYTHON_SOURCE',\n",
    "                        schema = 'FIVE9',\n",
    "                        warehouse = 'COMPUTE_WH',\n",
    "                        role ='SYSADMIN'\n",
    "                        )\n",
    "\n",
    "conn_target = generic_connector.framework.snowflake_connection(\n",
    "                        account = 'irsopih-uyb98241',\n",
    "                        user = 'SPIRES',\n",
    "                        password = 'Olivetti@5!',\n",
    "                        database = 'DEV_DW',\n",
    "                        schema = 'PRODUCT',\n",
    "                        warehouse = 'COMPUTE_WH',\n",
    "                        role ='SYSADMIN'\n",
    "                        )\n",
    "\n",
    "if  type_source == 'Database':\n",
    "    script_source = \"\"\"SELECT TABLE_CATALOG,TABLE_SCHEMA, TABLE_NAME  FROM PRD_PYTHON_SOURCE.INFORMATION_SCHEMA.\"TABLES\" WHERE TABLE_SCHEMA = 'FIVE9'\"\"\"\n",
    "    \n",
    "    df = generic_connector.framework.pandas_run_query(conn_origin, script_source)\n",
    "\n",
    "    for ind in df.index :\n",
    "        script_origin = \"SELECT * FROM \" +  df['TABLE_CATALOG'][ind] + \".\" +  df['TABLE_SCHEMA'][ind] + \".\" +  df['TABLE_NAME'][ind]\n",
    "        print(script_origin)   \n",
    "        target_table =  'APAGAR_' + df['TABLE_NAME'][ind] \n",
    "        df_origin = generic_connector.framework.pandas_run_query(conn_origin, script_origin) \n",
    "        df_target = generic_connector.framework.pandas_write_snowflake(conn_target, df_origin, target_table)  \n",
    "        df_origin = ''\n",
    "        df_target = ''\n",
    "else:\n",
    "\n",
    "    for line in table_list:\n",
    "        script_origin = \"SELECT * FROM \" +  line\n",
    "        print(script_origin)   \n",
    "        target_table =  'LISTA_' + line\n",
    "        df_origin = generic_connector.framework.pandas_run_query(conn_origin, script_origin) \n",
    "        df_target = generic_connector.framework.pandas_write_snowflake(conn_target, df_origin, target_table)  \n",
    "        df_origin = ''\n",
    "        df_target = ''\n",
    "\n",
    "\n",
    " "
   ]
  },
  {
   "cell_type": "code",
   "execution_count": 3,
   "metadata": {},
   "outputs": [
    {
     "name": "stdout",
     "output_type": "stream",
     "text": [
      "Connected in Snowflake  irsopih-uyb98241 at 2024-04-11 12:52:41.151782\n",
      "Connected in Snowflake  irsopih-uyb98241 at 2024-04-11 12:52:42.370358\n",
      "SELECT * FROM CALL_LOG_TALK_TIME\n"
     ]
    },
    {
     "name": "stderr",
     "output_type": "stream",
     "text": [
      "C:\\Users\\SAP\\AppData\\Local\\Temp\\ipykernel_7268\\2150784953.py:55: UserWarning: pandas only supports SQLAlchemy connectable (engine/connection) or database string URI or sqlite3 DBAPI2 connection. Other DBAPI2 objects are not tested. Please consider using SQLAlchemy.\n",
      "  dfs = pd.concat(pd.read_sql(script_origin, conn_origin, chunksize=5000), ignore_index=True)\n"
     ]
    },
    {
     "name": "stdout",
     "output_type": "stream",
     "text": [
      "LISTA_CALL_LOG_TALK_TIME\n",
      "SELECT * FROM CALL_LOG_WITH_NOTES\n"
     ]
    },
    {
     "name": "stderr",
     "output_type": "stream",
     "text": [
      "C:\\Users\\SAP\\AppData\\Local\\Temp\\ipykernel_7268\\2150784953.py:55: UserWarning: pandas only supports SQLAlchemy connectable (engine/connection) or database string URI or sqlite3 DBAPI2 connection. Other DBAPI2 objects are not tested. Please consider using SQLAlchemy.\n",
      "  dfs = pd.concat(pd.read_sql(script_origin, conn_origin, chunksize=5000), ignore_index=True)\n"
     ]
    },
    {
     "name": "stdout",
     "output_type": "stream",
     "text": [
      "LISTA_CALL_LOG_WITH_NOTES\n",
      "SELECT * FROM INDIVIDUAL_VS_WHOLE_REASON_CODE_BREAKDOWN\n"
     ]
    },
    {
     "name": "stderr",
     "output_type": "stream",
     "text": [
      "C:\\Users\\SAP\\AppData\\Local\\Temp\\ipykernel_7268\\2150784953.py:55: UserWarning: pandas only supports SQLAlchemy connectable (engine/connection) or database string URI or sqlite3 DBAPI2 connection. Other DBAPI2 objects are not tested. Please consider using SQLAlchemy.\n",
      "  dfs = pd.concat(pd.read_sql(script_origin, conn_origin, chunksize=5000), ignore_index=True)\n"
     ]
    },
    {
     "name": "stdout",
     "output_type": "stream",
     "text": [
      "LISTA_INDIVIDUAL_VS_WHOLE_REASON_CODE_BREAKDOWN\n",
      "SELECT * FROM INDIVIDUAL_VS_WHOLE_ROLLING_DAILY_LOGIN_READY_ON_CALL_NOT_READY_AGENT_FIRST_NAME\n"
     ]
    },
    {
     "name": "stderr",
     "output_type": "stream",
     "text": [
      "C:\\Users\\SAP\\AppData\\Local\\Temp\\ipykernel_7268\\2150784953.py:55: UserWarning: pandas only supports SQLAlchemy connectable (engine/connection) or database string URI or sqlite3 DBAPI2 connection. Other DBAPI2 objects are not tested. Please consider using SQLAlchemy.\n",
      "  dfs = pd.concat(pd.read_sql(script_origin, conn_origin, chunksize=5000), ignore_index=True)\n"
     ]
    },
    {
     "name": "stdout",
     "output_type": "stream",
     "text": [
      "LISTA_INDIVIDUAL_VS_WHOLE_ROLLING_DAILY_LOGIN_READY_ON_CALL_NOT_READY_AGENT_FIRST_NAME\n",
      "SELECT * FROM INDIVIDUAL_VS_WHOLE_ROLLING_DAILY_LOGIN_READY_ON_CALL_NOT_READY_NONE\n"
     ]
    },
    {
     "name": "stderr",
     "output_type": "stream",
     "text": [
      "C:\\Users\\SAP\\AppData\\Local\\Temp\\ipykernel_7268\\2150784953.py:55: UserWarning: pandas only supports SQLAlchemy connectable (engine/connection) or database string URI or sqlite3 DBAPI2 connection. Other DBAPI2 objects are not tested. Please consider using SQLAlchemy.\n",
      "  dfs = pd.concat(pd.read_sql(script_origin, conn_origin, chunksize=5000), ignore_index=True)\n"
     ]
    },
    {
     "name": "stdout",
     "output_type": "stream",
     "text": [
      "LISTA_INDIVIDUAL_VS_WHOLE_ROLLING_DAILY_LOGIN_READY_ON_CALL_NOT_READY_NONE\n",
      "SELECT * FROM CALL_LOG\n"
     ]
    },
    {
     "name": "stderr",
     "output_type": "stream",
     "text": [
      "C:\\Users\\SAP\\AppData\\Local\\Temp\\ipykernel_7268\\2150784953.py:55: UserWarning: pandas only supports SQLAlchemy connectable (engine/connection) or database string URI or sqlite3 DBAPI2 connection. Other DBAPI2 objects are not tested. Please consider using SQLAlchemy.\n",
      "  dfs = pd.concat(pd.read_sql(script_origin, conn_origin, chunksize=5000), ignore_index=True)\n"
     ]
    },
    {
     "name": "stdout",
     "output_type": "stream",
     "text": [
      "LISTA_CALL_LOG\n",
      "SELECT * FROM AGENT_LOGIN_LOGOUT\n"
     ]
    },
    {
     "name": "stderr",
     "output_type": "stream",
     "text": [
      "C:\\Users\\SAP\\AppData\\Local\\Temp\\ipykernel_7268\\2150784953.py:55: UserWarning: pandas only supports SQLAlchemy connectable (engine/connection) or database string URI or sqlite3 DBAPI2 connection. Other DBAPI2 objects are not tested. Please consider using SQLAlchemy.\n",
      "  dfs = pd.concat(pd.read_sql(script_origin, conn_origin, chunksize=5000), ignore_index=True)\n"
     ]
    },
    {
     "name": "stdout",
     "output_type": "stream",
     "text": [
      "LISTA_AGENT_LOGIN_LOGOUT\n",
      "SELECT * FROM AGENT_STATE_DETAILS\n"
     ]
    },
    {
     "name": "stderr",
     "output_type": "stream",
     "text": [
      "C:\\Users\\SAP\\AppData\\Local\\Temp\\ipykernel_7268\\2150784953.py:55: UserWarning: pandas only supports SQLAlchemy connectable (engine/connection) or database string URI or sqlite3 DBAPI2 connection. Other DBAPI2 objects are not tested. Please consider using SQLAlchemy.\n",
      "  dfs = pd.concat(pd.read_sql(script_origin, conn_origin, chunksize=5000), ignore_index=True)\n"
     ]
    },
    {
     "name": "stdout",
     "output_type": "stream",
     "text": [
      "LISTA_AGENT_STATE_DETAILS\n"
     ]
    }
   ],
   "source": [
    "import generic_connector_original as generic_connector\n",
    "import pandas as pd\n",
    "import gc\n",
    "\n",
    "conn_origin = generic_connector.framework.snowflake_connection(\n",
    "                    account = 'irsopih-uyb98241',\n",
    "                    user = 'SPIRES',\n",
    "                    password = 'Olivetti@5!',\n",
    "                    database = 'PRD_PYTHON_SOURCE',\n",
    "                    schema = 'FIVE9',\n",
    "                    warehouse = 'COMPUTE_WH',\n",
    "                    role ='SYSADMIN'\n",
    "                    )\n",
    "\n",
    "conn_target = generic_connector.framework.snowflake_connection(\n",
    "                    account = 'irsopih-uyb98241',\n",
    "                    user = 'SPIRES',\n",
    "                    password = 'Olivetti@5!',\n",
    "                    database = 'DEV_DW',\n",
    "                    schema = 'PRODUCT',\n",
    "                    warehouse = 'COMPUTE_WH',\n",
    "                    role ='SYSADMIN'\n",
    "                    )\n",
    "# Create empty dataframe\n",
    "#dfs = pd.DataFrame()  \n",
    "#dfl = []  \n",
    "\n",
    "# Create empty \n",
    "target_table = ''\n",
    "auto_create_table = True \n",
    "overwrite = True \n",
    "type_source = 'Database'\n",
    "table_list = ['CALL_LOG_TALK_TIME','CALL_LOG_WITH_NOTES','INDIVIDUAL_VS_WHOLE_REASON_CODE_BREAKDOWN','INDIVIDUAL_VS_WHOLE_ROLLING_DAILY_LOGIN_READY_ON_CALL_NOT_READY_AGENT_FIRST_NAME','INDIVIDUAL_VS_WHOLE_ROLLING_DAILY_LOGIN_READY_ON_CALL_NOT_READY_NONE','CALL_LOG','AGENT_LOGIN_LOGOUT','AGENT_STATE_DETAILS']\n",
    "\n",
    "\n",
    "for line in table_list:\n",
    "    \n",
    "    dfs = pd.DataFrame()  \n",
    "    dfl = []  \n",
    "    script_origin = \"SELECT * FROM \" +  line\n",
    "    print(script_origin)   \n",
    "    target_table =  'LISTA_' + line\n",
    "    \n",
    "\n",
    "    # Start Chunking\n",
    "    #for chunk in pd.read_sql(script_origin, con=conn_origin, chunksize=10000):\n",
    "\n",
    "        # Start Appending Data Chunks from SQL Result set into List\n",
    "    #    dfl.append(chunk)\n",
    "\n",
    "    # Start appending data from list to dataframe\n",
    "    #dfs = pd.concat(dfl, ignore_index=True)  \n",
    "\n",
    "    #dfs.count()\n",
    "    dfs = pd.concat(pd.read_sql(script_origin, conn_origin, chunksize=5000), ignore_index=True)\n",
    "    print(target_table)\n",
    "\n",
    "    gravar = generic_connector.framework.pandas_write_snowflake(conn_target, dfs, target_table) \n",
    "    del dfs \n",
    "    gc.collect()\n",
    "    \n",
    "    \n",
    "conn_origin.close()\n",
    "conn_target.close()\n",
    "\n"
   ]
  },
  {
   "cell_type": "code",
   "execution_count": null,
   "metadata": {},
   "outputs": [],
   "source": [
    "\n",
    "\n",
    "\n",
    "def teste_parametros(*parametros):\n",
    "    print(param1)\n",
    "\n",
    "\n",
    "param1 = 'parametro11'\n",
    "param2 = 'parametro12'\n",
    "param3 = 'parametro13'\n",
    "\n",
    "chama = teste_parametros(source_database, param1,param2,param3)\n",
    "\n"
   ]
  },
  {
   "cell_type": "code",
   "execution_count": null,
   "metadata": {},
   "outputs": [],
   "source": [
    "import generic_original_test as connector \n",
    "import pandas as pd\n",
    "\n",
    "account = 'irsopih-uyb98241'\n",
    "user = 'SPIRES'\n",
    "password = 'Olivetti@5!'\n",
    "database = 'PRD_PYTHON_SOURCE'\n",
    "schema = 'FIVE9'\n",
    "warehouse = 'COMPUTE_WH'\n",
    "role ='SYSADMIN'\n",
    "query = ''\n",
    "target_table = 'LISTA_AGENT_LOGIN_LOGOUT'\n",
    "table_list = ['CALL_LOG','CALL_LOG_TALK_TIME','CALL_LOG_WITH_NOTES','INDIVIDUAL_VS_WHOLE_REASON_CODE_BREAKDOWN','INDIVIDUAL_VS_WHOLE_ROLLING_DAILY_LOGIN_READY_ON_CALL_NOT_READY_AGENT_FIRST_NAME','INDIVIDUAL_VS_WHOLE_ROLLING_DAILY_LOGIN_READY_ON_CALL_NOT_READY_NONE','AGENT_LOGIN_LOGOUT','AGENT_STATE_DETAILS']\n",
    "\n",
    "for line in table_list:\n",
    "    query = 'SELECT * FROM ' + line\n",
    "    target_table = 'LISTA_' + line\n",
    "    extraction = connector.framework.main(account, user ,password, database, schema, warehouse, role, query, target_table)\n",
    "    print(f'tabela criada {target_table} ')\n",
    "\n",
    "\n"
   ]
  },
  {
   "cell_type": "code",
   "execution_count": null,
   "metadata": {},
   "outputs": [],
   "source": []
  }
 ],
 "metadata": {
  "kernelspec": {
   "display_name": "Python 3",
   "language": "python",
   "name": "python3"
  },
  "language_info": {
   "codemirror_mode": {
    "name": "ipython",
    "version": 3
   },
   "file_extension": ".py",
   "mimetype": "text/x-python",
   "name": "python",
   "nbconvert_exporter": "python",
   "pygments_lexer": "ipython3",
   "version": "3.10.11"
  }
 },
 "nbformat": 4,
 "nbformat_minor": 2
}
