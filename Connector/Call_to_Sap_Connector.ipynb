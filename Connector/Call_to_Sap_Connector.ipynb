{
 "cells": [
  {
   "cell_type": "code",
   "execution_count": 1,
   "metadata": {},
   "outputs": [
    {
     "name": "stderr",
     "output_type": "stream",
     "text": [
      "C:\\Users\\SAP\\AppData\\Local\\Packages\\PythonSoftwareFoundation.Python.3.10_qbz5n2kfra8p0\\LocalCache\\local-packages\\Python310\\site-packages\\snowflake\\connector\\options.py:96: UserWarning: You have an incompatible version of 'pyarrow' installed (13.0.0), please install a version that adheres to: 'pyarrow<10.1.0,>=10.0.1; extra == \"pandas\"'\n",
      "  warn_incompatible_dep(\n",
      "Failed to import ArrowResult. No Apache Arrow result set format can be used. ImportError: DLL load failed while importing arrow_iterator: Não foi possível encontrar o procedimento especificado.\n"
     ]
    },
    {
     "name": "stdout",
     "output_type": "stream",
     "text": [
      "Generic Connector called by another python program \n",
      "connected in Snowflake irsopih-uyb98241\n",
      "i am going to run SELECT * FROM PRD_PYTHON_SOURCE.FIVE9.AGENT_LOGIN_LOGOUT WHERE \"AGENT LAST NAME\"  = 'tlganthea'\n"
     ]
    },
    {
     "name": "stderr",
     "output_type": "stream",
     "text": [
      "c:\\Saulo\\GitHub\\Notebook-Python\\Connector\\generic_connector.py:89: UserWarning: pandas only supports SQLAlchemy connectable (engine/connection) or database string URI or sqlite3 DBAPI2 connection. Other DBAPI2 objects are not tested. Please consider using SQLAlchemy.\n",
      "  cs = pandas.read_sql_query(script,conn_snowflake)\n"
     ]
    }
   ],
   "source": [
    "import generic_connector \n",
    "\n",
    "# Set connection to Snowflake \n",
    "snow = generic_connector.framework.snowflake_connection(\n",
    "                account = 'irsopih-uyb98241',\n",
    "                user = 'SPIRES',\n",
    "                password = 'Olivetti@5!',\n",
    "                database = 'PRD_PYTHON_SOURCE',\n",
    "                schema = 'FIVE9',\n",
    "                warehouse = 'COMPUTE_WH',\n",
    "                role='SYSADMIN'\n",
    ")\n",
    "\n",
    "# Define query to be executed \n",
    "script = \"\"\"SELECT * FROM PRD_PYTHON_SOURCE.FIVE9.AGENT_LOGIN_LOGOUT WHERE \"AGENT LAST NAME\"  = 'tlganthea'\"\"\"\n",
    "\n",
    "# Run query and returns dataframe\n",
    "df = generic_connector.framework.pandas_run_query(snow, script)\n",
    "\n",
    "# Set table to be created\n",
    "target_table = 'TT'\n",
    "auto_create_table = True \n",
    "overwrite = True \n",
    "\n",
    "# Creates table in Snowflake \n",
    "create_table = generic_connector.framework.pandas_write_snowflake(snow, df, target_table)\n",
    "\n"
   ]
  },
  {
   "cell_type": "code",
   "execution_count": null,
   "metadata": {},
   "outputs": [],
   "source": []
  }
 ],
 "metadata": {
  "kernelspec": {
   "display_name": "Python 3",
   "language": "python",
   "name": "python3"
  },
  "language_info": {
   "codemirror_mode": {
    "name": "ipython",
    "version": 3
   },
   "file_extension": ".py",
   "mimetype": "text/x-python",
   "name": "python",
   "nbconvert_exporter": "python",
   "pygments_lexer": "ipython3",
   "version": "3.10.11"
  }
 },
 "nbformat": 4,
 "nbformat_minor": 2
}
