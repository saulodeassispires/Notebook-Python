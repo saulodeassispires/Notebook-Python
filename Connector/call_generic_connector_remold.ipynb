{
 "cells": [
  {
   "cell_type": "code",
   "execution_count": 1,
   "metadata": {},
   "outputs": [
    {
     "name": "stderr",
     "output_type": "stream",
     "text": [
      "C:\\Users\\SAP\\AppData\\Local\\Packages\\PythonSoftwareFoundation.Python.3.10_qbz5n2kfra8p0\\LocalCache\\local-packages\\Python310\\site-packages\\snowflake\\connector\\options.py:96: UserWarning: You have an incompatible version of 'pyarrow' installed (13.0.0), please install a version that adheres to: 'pyarrow<10.1.0,>=10.0.1; extra == \"pandas\"'\n",
      "  warn_incompatible_dep(\n",
      "Failed to import ArrowResult. No Apache Arrow result set format can be used. ImportError: DLL load failed while importing arrow_iterator: Não foi possível encontrar o procedimento especificado.\n"
     ]
    },
    {
     "name": "stdout",
     "output_type": "stream",
     "text": [
      "Generic Connector called by another python program \n",
      "SELECT \"CALL TYPE\"::VARCHAR AS \"CALL TYPE\",\"PARK TIME\"::VARCHAR AS \"PARK TIME\",\"CAMPAIGN\"::VARCHAR AS \"CAMPAIGN\",\"AFTER CALL WORK TIME\"::VARCHAR AS \"AFTER CALL WORK TIME\",\"AGENT NAME\"::VARCHAR AS \"AGENT NAME\",\"ABANDONED\"::VARCHAR AS \"ABANDONED\",\"HOLD TIME\"::VARCHAR AS \"HOLD TIME\",\"DNIS\"::VARCHAR AS \"DNIS\",\"CONFERENCES\"::VARCHAR AS \"CONFERENCES\",\"TRANSFERS\"::VARCHAR AS \"TRANSFERS\",\"START_EXTRACTION_DATE\"::VARCHAR AS \"START_EXTRACTION_DATE\",\"HOLDS\"::VARCHAR AS \"HOLDS\",\"CALL ID\"::VARCHAR AS \"CALL ID\",\"END_EXTRACTION_DATE\"::VARCHAR AS \"END_EXTRACTION_DATE\",\"ANI\"::VARCHAR AS \"ANI\",\"CUSTOMER NAME\"::VARCHAR AS \"CUSTOMER NAME\",\"CALL TIME\"::VARCHAR AS \"CALL TIME\",\"QUEUE WAIT TIME\"::VARCHAR AS \"QUEUE WAIT TIME\",\"AGENT\"::VARCHAR AS \"AGENT\",\"IVR TIME\"::VARCHAR AS \"IVR TIME\",\"TIMESTAMP\"::VARCHAR AS \"TIMESTAMP\",\"TALK TIME\"::VARCHAR AS \"TALK TIME\",\"DISPOSITION\"::VARCHAR AS \"DISPOSITION\",\"RING TIME\"::VARCHAR AS \"RING TIME\",\"COST\"::VARCHAR AS \"COST\",\"BILL TIME (ROUNDED)\"::VARCHAR AS \"BILL TIME (ROUNDED)\",\"RECORDINGS\"::VARCHAR AS \"RECORDINGS\" FROM PRD_PYTHON_SOURCE.FIVE9.CALL_LOG\n",
      "Connected in Snowflake  irsopih-uyb98241 at 2024-04-17 14:04:10.276572\n",
      " \n",
      "i am going to run SELECT \"CALL TYPE\"::VARCHAR AS \"CALL TYPE\",\"PARK TIME\"::VARCHAR AS \"PARK TIME\",\"CAMPAIGN\"::VARCHAR AS \"CAMPAIGN\",\"AFTER CALL WORK TIME\"::VARCHAR AS \"AFTER CALL WORK TIME\",\"AGENT NAME\"::VARCHAR AS \"AGENT NAME\",\"ABANDONED\"::VARCHAR AS \"ABANDONED\",\"HOLD TIME\"::VARCHAR AS \"HOLD TIME\",\"DNIS\"::VARCHAR AS \"DNIS\",\"CONFERENCES\"::VARCHAR AS \"CONFERENCES\",\"TRANSFERS\"::VARCHAR AS \"TRANSFERS\",\"START_EXTRACTION_DATE\"::VARCHAR AS \"START_EXTRACTION_DATE\",\"HOLDS\"::VARCHAR AS \"HOLDS\",\"CALL ID\"::VARCHAR AS \"CALL ID\",\"END_EXTRACTION_DATE\"::VARCHAR AS \"END_EXTRACTION_DATE\",\"ANI\"::VARCHAR AS \"ANI\",\"CUSTOMER NAME\"::VARCHAR AS \"CUSTOMER NAME\",\"CALL TIME\"::VARCHAR AS \"CALL TIME\",\"QUEUE WAIT TIME\"::VARCHAR AS \"QUEUE WAIT TIME\",\"AGENT\"::VARCHAR AS \"AGENT\",\"IVR TIME\"::VARCHAR AS \"IVR TIME\",\"TIMESTAMP\"::VARCHAR AS \"TIMESTAMP\",\"TALK TIME\"::VARCHAR AS \"TALK TIME\",\"DISPOSITION\"::VARCHAR AS \"DISPOSITION\",\"RING TIME\"::VARCHAR AS \"RING TIME\",\"COST\"::VARCHAR AS \"COST\",\"BILL TIME (ROUNDED)\"::VARCHAR AS \"BILL TIME (ROUNDED)\",\"RECORDINGS\"::VARCHAR AS \"RECORDINGS\" FROM PRD_PYTHON_SOURCE.FIVE9.CALL_LOG\n"
     ]
    },
    {
     "name": "stderr",
     "output_type": "stream",
     "text": [
      "c:\\Saulo\\GitHub\\Notebook-Python\\Connector\\generic_connector_remold.py:55: UserWarning: pandas only supports SQLAlchemy connectable (engine/connection) or database string URI or sqlite3 DBAPI2 connection. Other DBAPI2 objects are not tested. Please consider using SQLAlchemy.\n",
      "  for chunk in pd.read_sql(script, con=conn_snowflake, chunksize=1):\n",
      "Exception ignored in: <generator object result_set_iterator at 0x0000021FEB8470D0>\n",
      "Traceback (most recent call last):\n",
      "  File \"C:\\Users\\SAP\\AppData\\Local\\Packages\\PythonSoftwareFoundation.Python.3.10_qbz5n2kfra8p0\\LocalCache\\local-packages\\Python310\\site-packages\\snowflake\\connector\\result_set.py\", line 55, in result_set_iterator\n",
      "    with ThreadPoolExecutor(prefetch_thread_num) as pool:\n",
      "  File \"C:\\Program Files\\WindowsApps\\PythonSoftwareFoundation.Python.3.10_3.10.3056.0_x64__qbz5n2kfra8p0\\lib\\concurrent\\futures\\_base.py\", line 649, in __exit__\n",
      "    self.shutdown(wait=True)\n",
      "  File \"C:\\Program Files\\WindowsApps\\PythonSoftwareFoundation.Python.3.10_3.10.3056.0_x64__qbz5n2kfra8p0\\lib\\concurrent\\futures\\thread.py\", line 235, in shutdown\n",
      "    t.join()\n",
      "  File \"C:\\Program Files\\WindowsApps\\PythonSoftwareFoundation.Python.3.10_3.10.3056.0_x64__qbz5n2kfra8p0\\lib\\threading.py\", line 1093, in join\n",
      "    raise RuntimeError(\"cannot join current thread\")\n",
      "RuntimeError: cannot join current thread\n"
     ]
    },
    {
     "name": "stdout",
     "output_type": "stream",
     "text": [
      " \n",
      "table LISTA_CALL_LOG written !\n"
     ]
    }
   ],
   "source": [
    "import generic_connector_remold as generic_connector  \n",
    "#import pandas as pd\n",
    "\n",
    "target_table = ''\n",
    "auto_create_table = True \n",
    "overwrite = True \n",
    "type_source = 'nDatabase'\n",
    "table_list = ['CALL_LOG']\n",
    "\n",
    "if  type_source == 'Database':\n",
    "    pass\n",
    "#    script_source = \"\"\"SELECT TABLE_CATALOG,TABLE_SCHEMA, TABLE_NAME  FROM PRD_PYTHON_SOURCE.INFORMATION_SCHEMA.\"TABLES\" WHERE TABLE_SCHEMA = 'FIVE9'\"\"\"\n",
    "    \n",
    "#    df = generic_connector.framework.pandas_run_query(conn_origin, script_source)\n",
    "\n",
    "#    for ind in df.index :\n",
    "#        script_origin = \"SELECT * FROM \" +  df['TABLE_CATALOG'][ind] + \".\" +  df['TABLE_SCHEMA'][ind] + \".\" +  df['TABLE_NAME'][ind]\n",
    "#        print(script_origin)   \n",
    "#        target_table =  'APAGAR_' + df['TABLE_NAME'][ind] \n",
    "#        df_origin = generic_connector.framework.pandas_run_query(conn_origin, script_origin) \n",
    "#        df_target = generic_connector.framework.pandas_write_snowflake(conn_target, df_origin, target_table)  \n",
    "#        df_origin = ''\n",
    "#        df_target = ''\n",
    "else:\n",
    "\n",
    "    for line in table_list:\n",
    "        #script_origin = \"SELECT * FROM \" +  line\n",
    "        script_origin = 'SELECT \"CALL TYPE\"::VARCHAR AS \"CALL TYPE\",\"PARK TIME\"::VARCHAR AS \"PARK TIME\",\"CAMPAIGN\"::VARCHAR AS \"CAMPAIGN\",\"AFTER CALL WORK TIME\"::VARCHAR AS \"AFTER CALL WORK TIME\",\"AGENT NAME\"::VARCHAR AS \"AGENT NAME\",\"ABANDONED\"::VARCHAR AS \"ABANDONED\",\"HOLD TIME\"::VARCHAR AS \"HOLD TIME\",\"DNIS\"::VARCHAR AS \"DNIS\",\"CONFERENCES\"::VARCHAR AS \"CONFERENCES\",\"TRANSFERS\"::VARCHAR AS \"TRANSFERS\",\"START_EXTRACTION_DATE\"::VARCHAR AS \"START_EXTRACTION_DATE\",\"HOLDS\"::VARCHAR AS \"HOLDS\",\"CALL ID\"::VARCHAR AS \"CALL ID\",\"END_EXTRACTION_DATE\"::VARCHAR AS \"END_EXTRACTION_DATE\",\"ANI\"::VARCHAR AS \"ANI\",\"CUSTOMER NAME\"::VARCHAR AS \"CUSTOMER NAME\",\"CALL TIME\"::VARCHAR AS \"CALL TIME\",\"QUEUE WAIT TIME\"::VARCHAR AS \"QUEUE WAIT TIME\",\"AGENT\"::VARCHAR AS \"AGENT\",\"IVR TIME\"::VARCHAR AS \"IVR TIME\",\"TIMESTAMP\"::VARCHAR AS \"TIMESTAMP\",\"TALK TIME\"::VARCHAR AS \"TALK TIME\",\"DISPOSITION\"::VARCHAR AS \"DISPOSITION\",\"RING TIME\"::VARCHAR AS \"RING TIME\",\"COST\"::VARCHAR AS \"COST\",\"BILL TIME (ROUNDED)\"::VARCHAR AS \"BILL TIME (ROUNDED)\",\"RECORDINGS\"::VARCHAR AS \"RECORDINGS\" FROM PRD_PYTHON_SOURCE.FIVE9.CALL_LOG'\n",
    "        print(script_origin)   \n",
    "        target_table =  'LISTA_' + line\n",
    "        #df_origin = generic_connector.framework.pandas_run_query(conn_origin, script_origin) \n",
    "        df_origin = generic_connector.framework.snowflake_connection(\n",
    "                        account = 'irsopih-uyb98241',\n",
    "                        user = 'SPIRES',\n",
    "                        password = 'Olivetti@5!',\n",
    "                        database = 'PRD_PYTHON_SOURCE',\n",
    "                        schema = 'FIVE9',\n",
    "                        warehouse = 'COMPUTE_WH',\n",
    "                        role ='SYSADMIN',\n",
    "                        script=script_origin, \n",
    "                        target_table = target_table\n",
    "                        )\n",
    "        \n",
    "\n",
    "\n",
    " "
   ]
  }
 ],
 "metadata": {
  "kernelspec": {
   "display_name": "Python 3",
   "language": "python",
   "name": "python3"
  },
  "language_info": {
   "codemirror_mode": {
    "name": "ipython",
    "version": 3
   },
   "file_extension": ".py",
   "mimetype": "text/x-python",
   "name": "python",
   "nbconvert_exporter": "python",
   "pygments_lexer": "ipython3",
   "version": "3.10.11"
  }
 },
 "nbformat": 4,
 "nbformat_minor": 2
}
