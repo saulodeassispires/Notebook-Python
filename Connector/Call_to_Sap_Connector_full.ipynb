{
 "cells": [
  {
   "cell_type": "code",
   "execution_count": 2,
   "metadata": {},
   "outputs": [
    {
     "name": "stdout",
     "output_type": "stream",
     "text": [
      "connected in Snowflake irsopih-uyb98241\n",
      "connected in Snowflake irsopih-uyb98241\n",
      "i am going to run SELECT TABLE_CATALOG,TABLE_SCHEMA, TABLE_NAME  FROM PRD_PYTHON_SOURCE.INFORMATION_SCHEMA.\"TABLES\" WHERE TABLE_SCHEMA = 'FIVE9'\n"
     ]
    },
    {
     "name": "stderr",
     "output_type": "stream",
     "text": [
      "c:\\Saulo\\GitHub\\Notebook-Python\\Connector\\generic_connector.py:89: UserWarning: pandas only supports SQLAlchemy connectable (engine/connection) or database string URI or sqlite3 DBAPI2 connection. Other DBAPI2 objects are not tested. Please consider using SQLAlchemy.\n",
      "  cs = pandas.read_sql_query(script,conn_snowflake)\n"
     ]
    },
    {
     "name": "stdout",
     "output_type": "stream",
     "text": [
      "SELECT * FROM PRD_PYTHON_SOURCE.FIVE9.AGENT_STATE_DETAILS\n",
      "i am going to run SELECT * FROM PRD_PYTHON_SOURCE.FIVE9.AGENT_STATE_DETAILS\n"
     ]
    },
    {
     "name": "stderr",
     "output_type": "stream",
     "text": [
      "c:\\Saulo\\GitHub\\Notebook-Python\\Connector\\generic_connector.py:89: UserWarning: pandas only supports SQLAlchemy connectable (engine/connection) or database string URI or sqlite3 DBAPI2 connection. Other DBAPI2 objects are not tested. Please consider using SQLAlchemy.\n",
      "  cs = pandas.read_sql_query(script,conn_snowflake)\n"
     ]
    },
    {
     "name": "stdout",
     "output_type": "stream",
     "text": [
      "SELECT * FROM PRD_PYTHON_SOURCE.FIVE9.CALL_LOG_TALK_TIME\n",
      "i am going to run SELECT * FROM PRD_PYTHON_SOURCE.FIVE9.CALL_LOG_TALK_TIME\n"
     ]
    },
    {
     "name": "stderr",
     "output_type": "stream",
     "text": [
      "c:\\Saulo\\GitHub\\Notebook-Python\\Connector\\generic_connector.py:89: UserWarning: pandas only supports SQLAlchemy connectable (engine/connection) or database string URI or sqlite3 DBAPI2 connection. Other DBAPI2 objects are not tested. Please consider using SQLAlchemy.\n",
      "  cs = pandas.read_sql_query(script,conn_snowflake)\n"
     ]
    },
    {
     "name": "stdout",
     "output_type": "stream",
     "text": [
      "SELECT * FROM PRD_PYTHON_SOURCE.FIVE9.CALL_LOG_WITH_NOTES\n",
      "i am going to run SELECT * FROM PRD_PYTHON_SOURCE.FIVE9.CALL_LOG_WITH_NOTES\n"
     ]
    },
    {
     "name": "stderr",
     "output_type": "stream",
     "text": [
      "c:\\Saulo\\GitHub\\Notebook-Python\\Connector\\generic_connector.py:89: UserWarning: pandas only supports SQLAlchemy connectable (engine/connection) or database string URI or sqlite3 DBAPI2 connection. Other DBAPI2 objects are not tested. Please consider using SQLAlchemy.\n",
      "  cs = pandas.read_sql_query(script,conn_snowflake)\n"
     ]
    },
    {
     "name": "stdout",
     "output_type": "stream",
     "text": [
      "SELECT * FROM PRD_PYTHON_SOURCE.FIVE9.INDIVIDUAL_VS_WHOLE_REASON_CODE_BREAKDOWN\n",
      "i am going to run SELECT * FROM PRD_PYTHON_SOURCE.FIVE9.INDIVIDUAL_VS_WHOLE_REASON_CODE_BREAKDOWN\n"
     ]
    },
    {
     "name": "stderr",
     "output_type": "stream",
     "text": [
      "c:\\Saulo\\GitHub\\Notebook-Python\\Connector\\generic_connector.py:89: UserWarning: pandas only supports SQLAlchemy connectable (engine/connection) or database string URI or sqlite3 DBAPI2 connection. Other DBAPI2 objects are not tested. Please consider using SQLAlchemy.\n",
      "  cs = pandas.read_sql_query(script,conn_snowflake)\n"
     ]
    },
    {
     "name": "stdout",
     "output_type": "stream",
     "text": [
      "SELECT * FROM PRD_PYTHON_SOURCE.FIVE9.INDIVIDUAL_VS_WHOLE_ROLLING_DAILY_LOGIN_READY_ON_CALL_NOT_READY_AGENT_FIRST_NAME\n",
      "i am going to run SELECT * FROM PRD_PYTHON_SOURCE.FIVE9.INDIVIDUAL_VS_WHOLE_ROLLING_DAILY_LOGIN_READY_ON_CALL_NOT_READY_AGENT_FIRST_NAME\n"
     ]
    },
    {
     "name": "stderr",
     "output_type": "stream",
     "text": [
      "c:\\Saulo\\GitHub\\Notebook-Python\\Connector\\generic_connector.py:89: UserWarning: pandas only supports SQLAlchemy connectable (engine/connection) or database string URI or sqlite3 DBAPI2 connection. Other DBAPI2 objects are not tested. Please consider using SQLAlchemy.\n",
      "  cs = pandas.read_sql_query(script,conn_snowflake)\n"
     ]
    },
    {
     "name": "stdout",
     "output_type": "stream",
     "text": [
      "SELECT * FROM PRD_PYTHON_SOURCE.FIVE9.INDIVIDUAL_VS_WHOLE_ROLLING_DAILY_LOGIN_READY_ON_CALL_NOT_READY_NONE\n",
      "i am going to run SELECT * FROM PRD_PYTHON_SOURCE.FIVE9.INDIVIDUAL_VS_WHOLE_ROLLING_DAILY_LOGIN_READY_ON_CALL_NOT_READY_NONE\n"
     ]
    },
    {
     "name": "stderr",
     "output_type": "stream",
     "text": [
      "c:\\Saulo\\GitHub\\Notebook-Python\\Connector\\generic_connector.py:89: UserWarning: pandas only supports SQLAlchemy connectable (engine/connection) or database string URI or sqlite3 DBAPI2 connection. Other DBAPI2 objects are not tested. Please consider using SQLAlchemy.\n",
      "  cs = pandas.read_sql_query(script,conn_snowflake)\n"
     ]
    },
    {
     "name": "stdout",
     "output_type": "stream",
     "text": [
      "SELECT * FROM PRD_PYTHON_SOURCE.FIVE9.AGENT_LOGIN_LOGOUT\n",
      "i am going to run SELECT * FROM PRD_PYTHON_SOURCE.FIVE9.AGENT_LOGIN_LOGOUT\n"
     ]
    },
    {
     "name": "stderr",
     "output_type": "stream",
     "text": [
      "c:\\Saulo\\GitHub\\Notebook-Python\\Connector\\generic_connector.py:89: UserWarning: pandas only supports SQLAlchemy connectable (engine/connection) or database string URI or sqlite3 DBAPI2 connection. Other DBAPI2 objects are not tested. Please consider using SQLAlchemy.\n",
      "  cs = pandas.read_sql_query(script,conn_snowflake)\n"
     ]
    },
    {
     "name": "stdout",
     "output_type": "stream",
     "text": [
      "SELECT * FROM PRD_PYTHON_SOURCE.FIVE9.CALL_LOG\n",
      "i am going to run SELECT * FROM PRD_PYTHON_SOURCE.FIVE9.CALL_LOG\n"
     ]
    },
    {
     "name": "stderr",
     "output_type": "stream",
     "text": [
      "c:\\Saulo\\GitHub\\Notebook-Python\\Connector\\generic_connector.py:89: UserWarning: pandas only supports SQLAlchemy connectable (engine/connection) or database string URI or sqlite3 DBAPI2 connection. Other DBAPI2 objects are not tested. Please consider using SQLAlchemy.\n",
      "  cs = pandas.read_sql_query(script,conn_snowflake)\n"
     ]
    }
   ],
   "source": [
    "import generic_connector \n",
    "\n",
    "target_table = ''\n",
    "auto_create_table = True \n",
    "overwrite = True \n",
    "type_source = 'Database'\n",
    "table_list = ['CALL_LOG', 'CALL_LOG_WITH_NOTES']\n",
    "\n",
    "conn_origin = generic_connector.framework.snowflake_connection(\n",
    "                        account = 'irsopih-uyb98241',\n",
    "                        user = 'SPIRES',\n",
    "                        password = 'Olivetti@5!',\n",
    "                        database = 'PRD_PYTHON_SOURCE',\n",
    "                        schema = 'FIVE9',\n",
    "                        warehouse = 'COMPUTE_WH',\n",
    "                        role ='SYSADMIN'\n",
    "                        )\n",
    "\n",
    "conn_target = generic_connector.framework.snowflake_connection(\n",
    "                        account = 'irsopih-uyb98241',\n",
    "                        user = 'SPIRES',\n",
    "                        password = 'Olivetti@5!',\n",
    "                        database = 'DEV_DW',\n",
    "                        schema = 'PRODUCT',\n",
    "                        warehouse = 'COMPUTE_WH',\n",
    "                        role ='SYSADMIN'\n",
    "                        )\n",
    "\n",
    "if  type_source == 'Database':\n",
    "    script_source = \"\"\"SELECT TABLE_CATALOG,TABLE_SCHEMA, TABLE_NAME  FROM PRD_PYTHON_SOURCE.INFORMATION_SCHEMA.\"TABLES\" WHERE TABLE_SCHEMA = 'FIVE9'\"\"\"\n",
    "    \n",
    "    df = generic_connector.framework.pandas_run_query(conn_origin, script_source)\n",
    "\n",
    "    for ind in df.index :\n",
    "        script_origin = \"SELECT * FROM \" +  df['TABLE_CATALOG'][ind] + \".\" +  df['TABLE_SCHEMA'][ind] + \".\" +  df['TABLE_NAME'][ind]\n",
    "        print(script_origin)   \n",
    "        target_table =  'APAGAR_' + df['TABLE_NAME'][ind] \n",
    "        df_origin = generic_connector.framework.pandas_run_query(conn_origin, script_origin) \n",
    "        df_target = generic_connector.framework.pandas_write_snowflake(conn_target, df_origin, target_table)  \n",
    "else:\n",
    "\n",
    "    for line in table_list:\n",
    "        script_origin = \"SELECT * FROM \" +  line\n",
    "        print(script_origin)   \n",
    "        target_table =  'LISTA_' + line\n",
    "        df_origin = generic_connector.framework.pandas_run_query(conn_origin, script_origin) \n",
    "        df_target = generic_connector.framework.pandas_write_snowflake(conn_target, df_origin, target_table)  \n",
    "\n",
    "\n"
   ]
  },
  {
   "cell_type": "code",
   "execution_count": null,
   "metadata": {},
   "outputs": [],
   "source": []
  }
 ],
 "metadata": {
  "kernelspec": {
   "display_name": "Python 3",
   "language": "python",
   "name": "python3"
  },
  "language_info": {
   "codemirror_mode": {
    "name": "ipython",
    "version": 3
   },
   "file_extension": ".py",
   "mimetype": "text/x-python",
   "name": "python",
   "nbconvert_exporter": "python",
   "pygments_lexer": "ipython3",
   "version": "3.10.11"
  }
 },
 "nbformat": 4,
 "nbformat_minor": 2
}
