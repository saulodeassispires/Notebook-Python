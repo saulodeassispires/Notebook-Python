{
 "cells": [
  {
   "cell_type": "code",
   "execution_count": null,
   "metadata": {},
   "outputs": [],
   "source": [
    "import generic_original_test as connector \n",
    "import pandas as pd\n",
    "\n",
    "account = 'irsopih-uyb98241'\n",
    "user = 'SPIRES'\n",
    "password = 'Olivetti@5!'\n",
    "database = 'PRD_PYTHON_SOURCE'\n",
    "schema = 'FIVE9'\n",
    "warehouse = 'COMPUTE_WH'\n",
    "role ='SYSADMIN'\n",
    "query = ''\n",
    "target_table = 'LISTA_AGENT_LOGIN_LOGOUT'\n",
    "table_list = ['CALL_LOG','CALL_LOG_TALK_TIME','CALL_LOG_WITH_NOTES','INDIVIDUAL_VS_WHOLE_REASON_CODE_BREAKDOWN','INDIVIDUAL_VS_WHOLE_ROLLING_DAILY_LOGIN_READY_ON_CALL_NOT_READY_AGENT_FIRST_NAME','INDIVIDUAL_VS_WHOLE_ROLLING_DAILY_LOGIN_READY_ON_CALL_NOT_READY_NONE','AGENT_LOGIN_LOGOUT','AGENT_STATE_DETAILS']\n",
    "\n",
    "for line in table_list:\n",
    "    query = 'SELECT * FROM ' + line\n",
    "    target_table = 'LISTA_' + line\n",
    "    extraction = connector.framework.main(account, user ,password, database, schema, warehouse, role, query, target_table)\n",
    "    print(f'tabela criada {target_table} ')\n",
    "\n"
   ]
  }
 ],
 "metadata": {
  "kernelspec": {
   "display_name": "Python 3",
   "language": "python",
   "name": "python3"
  },
  "language_info": {
   "codemirror_mode": {
    "name": "ipython",
    "version": 3
   },
   "file_extension": ".py",
   "mimetype": "text/x-python",
   "name": "python",
   "nbconvert_exporter": "python",
   "pygments_lexer": "ipython3",
   "version": "3.10.11"
  }
 },
 "nbformat": 4,
 "nbformat_minor": 2
}
