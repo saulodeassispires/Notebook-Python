{
 "cells": [
  {
   "cell_type": "code",
   "execution_count": 1,
   "metadata": {},
   "outputs": [
    {
     "name": "stderr",
     "output_type": "stream",
     "text": [
      "C:\\Users\\SAP\\AppData\\Local\\Packages\\PythonSoftwareFoundation.Python.3.10_qbz5n2kfra8p0\\LocalCache\\local-packages\\Python310\\site-packages\\snowflake\\connector\\options.py:96: UserWarning: You have an incompatible version of 'pyarrow' installed (13.0.0), please install a version that adheres to: 'pyarrow<10.1.0,>=10.0.1; extra == \"pandas\"'\n",
      "  warn_incompatible_dep(\n",
      "Failed to import ArrowResult. No Apache Arrow result set format can be used. ImportError: DLL load failed while importing arrow_iterator: Não foi possível encontrar o procedimento especificado.\n"
     ]
    },
    {
     "name": "stdout",
     "output_type": "stream",
     "text": [
      "55\n"
     ]
    }
   ],
   "source": [
    "import snowflake.connector\n",
    "import pandas as pd\n",
    "\n",
    "#create connection\n",
    "conn=snowflake.connector.connect(\n",
    "      user=\"SPIRES\",\n",
    "                password=\"Olivetti@5!\",\n",
    "                account=\"irsopih-uyb98241\",\n",
    "                warehouse=\"COMPUTE_WH\",\n",
    "                database=\"DEV_DW\",\n",
    "                schema=\"PRODUCT\",\n",
    "                role='SYSADMIN'\n",
    "                )\n",
    "#create cursor\n",
    "curs=conn.cursor()\n",
    "\n",
    "#execute SQL statement\n",
    "curs.execute('SELECT * FROM DIM_AGENTS;')\n",
    "\n",
    "#fetch result\n",
    "rows = 0\n",
    "while True:\n",
    "        dat = curs.fetchmany(50000)\n",
    "        if not dat:\n",
    "            break\n",
    "        df = pd.DataFrame(dat, columns=curs.description)\n",
    "        rows += df.shape[0]\n",
    "        print(rows)\n",
    "\n",
    "#display(df)        "
   ]
  },
  {
   "cell_type": "code",
   "execution_count": 8,
   "metadata": {},
   "outputs": [
    {
     "name": "stderr",
     "output_type": "stream",
     "text": [
      "C:\\Users\\SAP\\AppData\\Local\\Temp\\ipykernel_4144\\32340396.py:20: UserWarning: pandas only supports SQLAlchemy connectable (engine/connection) or database string URI or sqlite3 DBAPI2 connection. Other DBAPI2 objects are not tested. Please consider using SQLAlchemy.\n",
      "  df = pd.read_sql(query, conn)\n"
     ]
    },
    {
     "ename": "ProgrammingError",
     "evalue": "001757 (42601): SQL compilation error:\nTable 'CAMPAIGN_APAGAR' does not exist",
     "output_type": "error",
     "traceback": [
      "\u001b[1;31m---------------------------------------------------------------------------\u001b[0m",
      "\u001b[1;31mProgrammingError\u001b[0m                          Traceback (most recent call last)",
      "Cell \u001b[1;32mIn[8], line 25\u001b[0m\n\u001b[0;32m     22\u001b[0m \u001b[39m#display(df)\u001b[39;00m\n\u001b[0;32m     24\u001b[0m table_target \u001b[39m=\u001b[39m \u001b[39m'\u001b[39m\u001b[39mCAMPAIGN_APAGAR\u001b[39m\u001b[39m'\u001b[39m\n\u001b[1;32m---> 25\u001b[0m write_pandas(conn, df, table_target)\n\u001b[0;32m     28\u001b[0m conn\u001b[39m.\u001b[39mclose()\n",
      "File \u001b[1;32m~\\AppData\\Local\\Packages\\PythonSoftwareFoundation.Python.3.10_qbz5n2kfra8p0\\LocalCache\\local-packages\\Python310\\site-packages\\snowflake\\connector\\pandas_tools.py:277\u001b[0m, in \u001b[0;36mwrite_pandas\u001b[1;34m(conn, df, table_name, database, schema, chunk_size, compression, on_error, parallel, quote_identifiers, auto_create_table, create_temp_table, overwrite, table_type, **kwargs)\u001b[0m\n\u001b[0;32m    269\u001b[0m copy_into_sql \u001b[39m=\u001b[39m (\n\u001b[0;32m    270\u001b[0m     \u001b[39mf\u001b[39m\u001b[39m\"\u001b[39m\u001b[39mCOPY INTO \u001b[39m\u001b[39m{\u001b[39;00mtarget_table_location\u001b[39m}\u001b[39;00m\u001b[39m /* Python:snowflake.connector.pandas_tools.write_pandas() */ \u001b[39m\u001b[39m\"\u001b[39m\n\u001b[0;32m    271\u001b[0m     \u001b[39mf\u001b[39m\u001b[39m\"\u001b[39m\u001b[39m(\u001b[39m\u001b[39m{\u001b[39;00mcolumns\u001b[39m}\u001b[39;00m\u001b[39m) \u001b[39m\u001b[39m\"\u001b[39m\n\u001b[1;32m   (...)\u001b[0m\n\u001b[0;32m    274\u001b[0m     \u001b[39mf\u001b[39m\u001b[39m\"\u001b[39m\u001b[39mPURGE=TRUE ON_ERROR=\u001b[39m\u001b[39m{\u001b[39;00mon_error\u001b[39m}\u001b[39;00m\u001b[39m\"\u001b[39m\n\u001b[0;32m    275\u001b[0m )\n\u001b[0;32m    276\u001b[0m logger\u001b[39m.\u001b[39mdebug(\u001b[39mf\u001b[39m\u001b[39m\"\u001b[39m\u001b[39mcopying into with \u001b[39m\u001b[39m'\u001b[39m\u001b[39m{\u001b[39;00mcopy_into_sql\u001b[39m}\u001b[39;00m\u001b[39m'\u001b[39m\u001b[39m\"\u001b[39m)\n\u001b[1;32m--> 277\u001b[0m copy_results \u001b[39m=\u001b[39m cursor\u001b[39m.\u001b[39;49mexecute(copy_into_sql, _is_internal\u001b[39m=\u001b[39;49m\u001b[39mTrue\u001b[39;49;00m)\u001b[39m.\u001b[39mfetchall()\n\u001b[0;32m    279\u001b[0m \u001b[39mif\u001b[39;00m overwrite:\n\u001b[0;32m    280\u001b[0m     original_table_location \u001b[39m=\u001b[39m build_location_helper(\n\u001b[0;32m    281\u001b[0m         database\u001b[39m=\u001b[39mdatabase,\n\u001b[0;32m    282\u001b[0m         schema\u001b[39m=\u001b[39mschema,\n\u001b[0;32m    283\u001b[0m         name\u001b[39m=\u001b[39mtable_name,\n\u001b[0;32m    284\u001b[0m         quote_identifiers\u001b[39m=\u001b[39mquote_identifiers,\n\u001b[0;32m    285\u001b[0m     )\n",
      "File \u001b[1;32m~\\AppData\\Local\\Packages\\PythonSoftwareFoundation.Python.3.10_qbz5n2kfra8p0\\LocalCache\\local-packages\\Python310\\site-packages\\snowflake\\connector\\cursor.py:827\u001b[0m, in \u001b[0;36mSnowflakeCursor.execute\u001b[1;34m(self, command, params, _bind_stage, timeout, _exec_async, _no_retry, _do_reset, _put_callback, _put_azure_callback, _put_callback_output_stream, _get_callback, _get_azure_callback, _get_callback_output_stream, _show_progress_bar, _statement_params, _is_internal, _describe_only, _no_results, _is_put_get, _raise_put_get_error, _force_put_overwrite, file_stream, num_statements)\u001b[0m\n\u001b[0;32m    823\u001b[0m     is_integrity_error \u001b[39m=\u001b[39m (\n\u001b[0;32m    824\u001b[0m         code \u001b[39m==\u001b[39m \u001b[39m\"\u001b[39m\u001b[39m100072\u001b[39m\u001b[39m\"\u001b[39m\n\u001b[0;32m    825\u001b[0m     )  \u001b[39m# NULL result in a non-nullable column\u001b[39;00m\n\u001b[0;32m    826\u001b[0m     error_class \u001b[39m=\u001b[39m IntegrityError \u001b[39mif\u001b[39;00m is_integrity_error \u001b[39melse\u001b[39;00m ProgrammingError\n\u001b[1;32m--> 827\u001b[0m     Error\u001b[39m.\u001b[39;49merrorhandler_wrapper(\u001b[39mself\u001b[39;49m\u001b[39m.\u001b[39;49mconnection, \u001b[39mself\u001b[39;49m, error_class, errvalue)\n\u001b[0;32m    828\u001b[0m \u001b[39mreturn\u001b[39;00m \u001b[39mself\u001b[39m\n",
      "File \u001b[1;32m~\\AppData\\Local\\Packages\\PythonSoftwareFoundation.Python.3.10_qbz5n2kfra8p0\\LocalCache\\local-packages\\Python310\\site-packages\\snowflake\\connector\\errors.py:275\u001b[0m, in \u001b[0;36mError.errorhandler_wrapper\u001b[1;34m(connection, cursor, error_class, error_value)\u001b[0m\n\u001b[0;32m    252\u001b[0m \u001b[39m@staticmethod\u001b[39m\n\u001b[0;32m    253\u001b[0m \u001b[39mdef\u001b[39;00m \u001b[39merrorhandler_wrapper\u001b[39m(\n\u001b[0;32m    254\u001b[0m     connection: SnowflakeConnection \u001b[39m|\u001b[39m \u001b[39mNone\u001b[39;00m,\n\u001b[1;32m   (...)\u001b[0m\n\u001b[0;32m    257\u001b[0m     error_value: \u001b[39mdict\u001b[39m[\u001b[39mstr\u001b[39m, \u001b[39mstr\u001b[39m \u001b[39m|\u001b[39m \u001b[39mbool\u001b[39m \u001b[39m|\u001b[39m \u001b[39mint\u001b[39m],\n\u001b[0;32m    258\u001b[0m ) \u001b[39m-\u001b[39m\u001b[39m>\u001b[39m \u001b[39mNone\u001b[39;00m:\n\u001b[0;32m    259\u001b[0m \u001b[39m    \u001b[39m\u001b[39m\"\"\"Error handler wrapper that calls the errorhandler method.\u001b[39;00m\n\u001b[0;32m    260\u001b[0m \n\u001b[0;32m    261\u001b[0m \u001b[39m    Args:\u001b[39;00m\n\u001b[1;32m   (...)\u001b[0m\n\u001b[0;32m    272\u001b[0m \u001b[39m        exception to the first handler in that order.\u001b[39;00m\n\u001b[0;32m    273\u001b[0m \u001b[39m    \"\"\"\u001b[39;00m\n\u001b[1;32m--> 275\u001b[0m     handed_over \u001b[39m=\u001b[39m Error\u001b[39m.\u001b[39;49mhand_to_other_handler(\n\u001b[0;32m    276\u001b[0m         connection,\n\u001b[0;32m    277\u001b[0m         cursor,\n\u001b[0;32m    278\u001b[0m         error_class,\n\u001b[0;32m    279\u001b[0m         error_value,\n\u001b[0;32m    280\u001b[0m     )\n\u001b[0;32m    281\u001b[0m     \u001b[39mif\u001b[39;00m \u001b[39mnot\u001b[39;00m handed_over:\n\u001b[0;32m    282\u001b[0m         \u001b[39mraise\u001b[39;00m Error\u001b[39m.\u001b[39merrorhandler_make_exception(\n\u001b[0;32m    283\u001b[0m             error_class,\n\u001b[0;32m    284\u001b[0m             error_value,\n\u001b[0;32m    285\u001b[0m         )\n",
      "File \u001b[1;32m~\\AppData\\Local\\Packages\\PythonSoftwareFoundation.Python.3.10_qbz5n2kfra8p0\\LocalCache\\local-packages\\Python310\\site-packages\\snowflake\\connector\\errors.py:330\u001b[0m, in \u001b[0;36mError.hand_to_other_handler\u001b[1;34m(connection, cursor, error_class, error_value)\u001b[0m\n\u001b[0;32m    328\u001b[0m \u001b[39mif\u001b[39;00m cursor \u001b[39mis\u001b[39;00m \u001b[39mnot\u001b[39;00m \u001b[39mNone\u001b[39;00m:\n\u001b[0;32m    329\u001b[0m     cursor\u001b[39m.\u001b[39mmessages\u001b[39m.\u001b[39mappend((error_class, error_value))\n\u001b[1;32m--> 330\u001b[0m     cursor\u001b[39m.\u001b[39;49merrorhandler(connection, cursor, error_class, error_value)\n\u001b[0;32m    331\u001b[0m     \u001b[39mreturn\u001b[39;00m \u001b[39mTrue\u001b[39;00m\n\u001b[0;32m    332\u001b[0m \u001b[39melif\u001b[39;00m connection \u001b[39mis\u001b[39;00m \u001b[39mnot\u001b[39;00m \u001b[39mNone\u001b[39;00m:\n",
      "File \u001b[1;32m~\\AppData\\Local\\Packages\\PythonSoftwareFoundation.Python.3.10_qbz5n2kfra8p0\\LocalCache\\local-packages\\Python310\\site-packages\\snowflake\\connector\\errors.py:209\u001b[0m, in \u001b[0;36mError.default_errorhandler\u001b[1;34m(connection, cursor, error_class, error_value)\u001b[0m\n\u001b[0;32m    191\u001b[0m \u001b[39m@staticmethod\u001b[39m\n\u001b[0;32m    192\u001b[0m \u001b[39mdef\u001b[39;00m \u001b[39mdefault_errorhandler\u001b[39m(\n\u001b[0;32m    193\u001b[0m     connection: SnowflakeConnection,\n\u001b[1;32m   (...)\u001b[0m\n\u001b[0;32m    196\u001b[0m     error_value: \u001b[39mdict\u001b[39m[\u001b[39mstr\u001b[39m, \u001b[39mstr\u001b[39m],\n\u001b[0;32m    197\u001b[0m ) \u001b[39m-\u001b[39m\u001b[39m>\u001b[39m \u001b[39mNone\u001b[39;00m:\n\u001b[0;32m    198\u001b[0m \u001b[39m    \u001b[39m\u001b[39m\"\"\"Default error handler that raises an error.\u001b[39;00m\n\u001b[0;32m    199\u001b[0m \n\u001b[0;32m    200\u001b[0m \u001b[39m    Args:\u001b[39;00m\n\u001b[1;32m   (...)\u001b[0m\n\u001b[0;32m    207\u001b[0m \u001b[39m        A Snowflake error.\u001b[39;00m\n\u001b[0;32m    208\u001b[0m \u001b[39m    \"\"\"\u001b[39;00m\n\u001b[1;32m--> 209\u001b[0m     \u001b[39mraise\u001b[39;00m error_class(\n\u001b[0;32m    210\u001b[0m         msg\u001b[39m=\u001b[39merror_value\u001b[39m.\u001b[39mget(\u001b[39m\"\u001b[39m\u001b[39mmsg\u001b[39m\u001b[39m\"\u001b[39m),\n\u001b[0;32m    211\u001b[0m         errno\u001b[39m=\u001b[39merror_value\u001b[39m.\u001b[39mget(\u001b[39m\"\u001b[39m\u001b[39merrno\u001b[39m\u001b[39m\"\u001b[39m),\n\u001b[0;32m    212\u001b[0m         sqlstate\u001b[39m=\u001b[39merror_value\u001b[39m.\u001b[39mget(\u001b[39m\"\u001b[39m\u001b[39msqlstate\u001b[39m\u001b[39m\"\u001b[39m),\n\u001b[0;32m    213\u001b[0m         sfqid\u001b[39m=\u001b[39merror_value\u001b[39m.\u001b[39mget(\u001b[39m\"\u001b[39m\u001b[39msfqid\u001b[39m\u001b[39m\"\u001b[39m),\n\u001b[0;32m    214\u001b[0m         done_format_msg\u001b[39m=\u001b[39merror_value\u001b[39m.\u001b[39mget(\u001b[39m\"\u001b[39m\u001b[39mdone_format_msg\u001b[39m\u001b[39m\"\u001b[39m),\n\u001b[0;32m    215\u001b[0m         connection\u001b[39m=\u001b[39mconnection,\n\u001b[0;32m    216\u001b[0m         cursor\u001b[39m=\u001b[39mcursor,\n\u001b[0;32m    217\u001b[0m     )\n",
      "\u001b[1;31mProgrammingError\u001b[0m: 001757 (42601): SQL compilation error:\nTable 'CAMPAIGN_APAGAR' does not exist"
     ]
    }
   ],
   "source": [
    "import snowflake.connector\n",
    "import pandas as pd\n",
    "from snowflake.connector.pandas_tools import write_pandas\n",
    "\n",
    "#create connection\n",
    "conn=snowflake.connector.connect(\n",
    "      user=\"SPIRES\",\n",
    "                password=\"Olivetti@5!\",\n",
    "                account=\"irsopih-uyb98241\",\n",
    "                warehouse=\"COMPUTE_WH\",\n",
    "                database=\"PRD_KEBOOLA_SOURCES\",\n",
    "                schema=\"FIVE9\"\n",
    "                )\n",
    "#create cursor\n",
    "curs=conn.cursor()\n",
    "\n",
    "#query \n",
    "query = 'SELECT * FROM CAMPAIGN where ID <> 198;'\n",
    "\n",
    "df = pd.read_sql(query, conn)\n",
    "\n",
    "#display(df)\n",
    "\n",
    "table_target = 'CAMPAIGN_APAGAR'\n",
    "write_pandas(conn, df, table_target)\n",
    "\n",
    "\n",
    "conn.close()\n"
   ]
  },
  {
   "cell_type": "code",
   "execution_count": null,
   "metadata": {},
   "outputs": [],
   "source": []
  }
 ],
 "metadata": {
  "kernelspec": {
   "display_name": "Python 3",
   "language": "python",
   "name": "python3"
  },
  "language_info": {
   "codemirror_mode": {
    "name": "ipython",
    "version": 3
   },
   "file_extension": ".py",
   "mimetype": "text/x-python",
   "name": "python",
   "nbconvert_exporter": "python",
   "pygments_lexer": "ipython3",
   "version": "3.10.11"
  },
  "orig_nbformat": 4
 },
 "nbformat": 4,
 "nbformat_minor": 2
}
