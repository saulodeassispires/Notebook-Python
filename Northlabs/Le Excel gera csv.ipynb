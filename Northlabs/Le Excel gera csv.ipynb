{
 "cells": [
  {
   "cell_type": "code",
   "execution_count": 36,
   "metadata": {},
   "outputs": [],
   "source": [
    "import pandas\n",
    "import openpyxl\n",
    "import csv"
   ]
  },
  {
   "cell_type": "code",
   "execution_count": 40,
   "metadata": {},
   "outputs": [],
   "source": [
    "source = 'C://Saulo/Andelyn/JDT1 - Journal Entry Line.xlsx'\n",
    "destination = 'C://Saulo/Andelyn/JDT1 - Journal Entry Line.csv'"
   ]
  },
  {
   "cell_type": "code",
   "execution_count": 42,
   "metadata": {},
   "outputs": [
    {
     "data": {
      "text/plain": [
       "Transaction Key         150258\n",
       "Row Number               96418\n",
       "Account Code            150258\n",
       "Debit Amount            150258\n",
       "Credit Amount           150258\n",
       "                         ...  \n",
       "Message Type              4561\n",
       "Reference                  124\n",
       "Analysis1                   61\n",
       "Analysis2                   65\n",
       "Fixed Asset Relation         7\n",
       "Length: 151, dtype: int64"
      ]
     },
     "execution_count": 42,
     "metadata": {},
     "output_type": "execute_result"
    }
   ],
   "source": [
    "\n",
    "df = pandas.read_excel(source)\n",
    "\n",
    "df.count()"
   ]
  },
  {
   "cell_type": "code",
   "execution_count": 39,
   "metadata": {},
   "outputs": [],
   "source": [
    "generate_csv = df.to_csv(\n",
    "                        destination,\n",
    "                         sep='|',\n",
    "                         index=False,\n",
    "                         quoting=csv.QUOTE_ALL\n",
    "                         )"
   ]
  },
  {
   "cell_type": "code",
   "execution_count": null,
   "metadata": {},
   "outputs": [],
   "source": []
  }
 ],
 "metadata": {
  "kernelspec": {
   "display_name": "Python 3",
   "language": "python",
   "name": "python3"
  },
  "language_info": {
   "codemirror_mode": {
    "name": "ipython",
    "version": 3
   },
   "file_extension": ".py",
   "mimetype": "text/x-python",
   "name": "python",
   "nbconvert_exporter": "python",
   "pygments_lexer": "ipython3",
   "version": "3.10.11"
  },
  "orig_nbformat": 4
 },
 "nbformat": 4,
 "nbformat_minor": 2
}
