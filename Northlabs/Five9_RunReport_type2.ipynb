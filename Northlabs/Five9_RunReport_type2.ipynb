{
 "cells": [
  {
   "cell_type": "code",
   "execution_count": 2,
   "metadata": {},
   "outputs": [],
   "source": [
    "from five9 import Five9\n",
    "from io import StringIO\n",
    "\n",
    "def authenticate(username, pwd):\n",
    "    auth = Five9('tlgjustin', 'WyzwZMa41s42CXuBu2a8bFGbDKzzJGAi')\n",
    "    config = auth.configuration\n",
    "    return (auth, config)\n",
    "  \n",
    "f9, config = authenticate(\"username\", \"password\")\n",
    "\n",
    "start = \"2023-09-05T00:00:00.000\"\n",
    "end =   \"2023-09-07T00:00:00.000\"\n",
    "criteria = {'time': {'start': start, 'end': end} }\n",
    "\n",
    "folder = \"Report_Testing\"\n",
    "report = \"AgentReportCustom_Testing\"\n",
    "\n",
    "identifier = config.runReport(folderName = folder,\n",
    "                              reportName = report,\n",
    "                              criteria = criteria)\n",
    "\n",
    "# Wait if the report is running \n",
    "while(config.isReportRunning(identifier, 5)):\n",
    "  time.sleep(3)\n",
    "  \n",
    "result = config.getReportResult(identifier)\n",
    "\n",
    "#display(result)"
   ]
  },
  {
   "cell_type": "code",
   "execution_count": null,
   "metadata": {},
   "outputs": [],
   "source": []
  }
 ],
 "metadata": {
  "kernelspec": {
   "display_name": "Python 3",
   "language": "python",
   "name": "python3"
  },
  "language_info": {
   "codemirror_mode": {
    "name": "ipython",
    "version": 3
   },
   "file_extension": ".py",
   "mimetype": "text/x-python",
   "name": "python",
   "nbconvert_exporter": "python",
   "pygments_lexer": "ipython3",
   "version": "3.10.11"
  },
  "orig_nbformat": 4
 },
 "nbformat": 4,
 "nbformat_minor": 2
}
