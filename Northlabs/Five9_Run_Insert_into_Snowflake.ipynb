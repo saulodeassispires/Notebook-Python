{
 "cells": [
  {
   "cell_type": "code",
   "execution_count": 45,
   "metadata": {},
   "outputs": [
    {
     "name": "stdout",
     "output_type": "stream",
     "text": [
      "2023-06-07T00:00:00.000\n",
      "2023-09-04T23:59:59.999\n"
     ]
    },
    {
     "name": "stderr",
     "output_type": "stream",
     "text": [
      "C:\\Users\\SAP\\AppData\\Local\\Temp\\ipykernel_12672\\253842876.py:61: DtypeWarning: Columns (24) have mixed types. Specify dtype option on import or set low_memory=False.\n",
      "  df = pd.read_csv(data, sep=\",\")\n"
     ]
    },
    {
     "name": "stdout",
     "output_type": "stream",
     "text": [
      "The number of rows is 59052\n"
     ]
    }
   ],
   "source": [
    "from five9 import Five9\n",
    "from io import StringIO\n",
    "import pandas as pd\n",
    "import datetime\n",
    "from datetime import datetime, timedelta\n",
    "import time\n",
    "from pytz import timezone\n",
    "import snowflake.connector\n",
    "from snowflake.sqlalchemy import URL\n",
    "from sqlalchemy import create_engine\n",
    "from snowflake.connector.pandas_tools import write_pandas\n",
    "\n",
    "#Connect in FIVE9\n",
    "def authenticate(username, pwd):\n",
    "    auth = Five9('tlgjustin', 'WyzwZMa41s42CXuBu2a8bFGbDKzzJGAi')\n",
    "    config = auth.configuration\n",
    "    return (auth, config)\n",
    "\n",
    "f9, config = authenticate(\"username\", \"password\")\n",
    "\n",
    "#Set timezone\n",
    "now_utc = datetime.now(timezone('UTC'))\n",
    "now_eastern = now_utc.astimezone(timezone('US/Eastern'))\n",
    "\n",
    "#Change days from current time\n",
    "startreportime = now_eastern - timedelta(days=120)\n",
    "endreportime = now_eastern - timedelta(days=31)\n",
    "\n",
    "#Set start and end time for report criteria\n",
    "starttime = f\"{(startreportime):%Y-%m-%d}\" + 'T00:00:00.000'\n",
    "endtime = f\"{(endreportime):%Y-%m-%d}\" + 'T23:59:59.999'\n",
    "\n",
    "#Set variables as start and end\n",
    "start = starttime\n",
    "end = endtime\n",
    "print(start)\n",
    "print(end)\n",
    "\n",
    "#set criteria using variables\n",
    "criteria = {'time':{'end':end, 'start':start}}\n",
    "\n",
    "#set folder, report and target table\n",
    "folder = \"Agent Reports\"\n",
    "report = \"Agent Login-Logout\"\n",
    "target_table = 'AGENT_LOGIN_LOGOUT'\n",
    "\n",
    "#Run the report \n",
    "identifier = config.runReport(folderName = folder,\n",
    "                              reportName = report,\n",
    "                              criteria = criteria)\n",
    "\n",
    "#Wait if the report is running \n",
    "while(config.isReportRunning(identifier, 5)):\n",
    "  time.sleep(3)\n",
    "  \n",
    "#Retrieve data from execution \n",
    "result = config.getReportResultCsv(identifier)\n",
    "\n",
    "#Convert string to DataFrame \n",
    "data = StringIO(result)\n",
    "df = pd.read_csv(data, sep=\",\")\n",
    "\n",
    "#Count Number of records pulled\n",
    "num_of_rows = len(df)\n",
    "print(f\"The number of rows is {num_of_rows}\")\n",
    "\n",
    "#Set dates used for extraction\n",
    "df['START_EXTRACTION_DATE'] = start\n",
    "df['END_EXTRACTION_DATE'] = end\n",
    "\n",
    "#Connect Snowflake & Insert data into it. \n",
    "engine2 = snowflake.connector.connect(\n",
    "        account = 'irsopih-uyb98241',\n",
    "        user = 'SPIRES',\n",
    "        password = 'Olivetti@5!',\n",
    "        database = 'PRD_PYTHON_SOURCE',\n",
    "        schema = 'FIVE9',\n",
    "        warehouse = 'COMPUTE_WH',\n",
    "        role='SYSADMIN',) \n",
    "\n",
    "cs = engine2.cursor()\n",
    "\n",
    "write_pandas(engine2, df, target_table, auto_create_table=True, overwrite = False)\n",
    "\n",
    "engine2.close()"
   ]
  },
  {
   "cell_type": "code",
   "execution_count": null,
   "metadata": {},
   "outputs": [],
   "source": []
  }
 ],
 "metadata": {
  "kernelspec": {
   "display_name": "Python 3",
   "language": "python",
   "name": "python3"
  },
  "language_info": {
   "codemirror_mode": {
    "name": "ipython",
    "version": 3
   },
   "file_extension": ".py",
   "mimetype": "text/x-python",
   "name": "python",
   "nbconvert_exporter": "python",
   "pygments_lexer": "ipython3",
   "version": "3.10.11"
  },
  "orig_nbformat": 4
 },
 "nbformat": 4,
 "nbformat_minor": 2
}
