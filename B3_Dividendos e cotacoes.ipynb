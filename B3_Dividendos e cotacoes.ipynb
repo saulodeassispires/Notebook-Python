{
 "cells": [
  {
   "cell_type": "code",
   "execution_count": 4,
   "metadata": {},
   "outputs": [
    {
     "name": "stdout",
     "output_type": "stream",
     "text": [
      "2014-01-01 2023-12-31\n",
      "[*********************100%%**********************]  1 of 1 completed\n",
      "Ano\n",
      "2014-ITUB4    0.54\n",
      "2015-ITUB4    0.90\n",
      "2016-ITUB4    1.06\n",
      "2017-ITUB4    1.00\n",
      "2018-ITUB4    1.96\n",
      "2019-ITUB4    1.82\n",
      "2020-ITUB4    0.78\n",
      "2021-ITUB4    0.91\n",
      "2022-ITUB4    1.04\n",
      "2023-ITUB4    1.26\n",
      "Name: Dividends, dtype: float64\n",
      "\n",
      "\n",
      "Valor Teto  18.78\n"
     ]
    }
   ],
   "source": [
    "import yfinance as yf\n",
    "import pandas as pd \n",
    "from dateutil.relativedelta import relativedelta\n",
    "from datetime import datetime, timezone,timedelta\n",
    "\n",
    "\n",
    "papel = 'ITUB4'\n",
    "anos  = 10\n",
    "\n",
    "now_utc = datetime.now()\n",
    "\n",
    "#Change days from current time\n",
    "startreportime = now_utc - timedelta(days=365*anos)\n",
    "endreportime   = now_utc - timedelta(days=365)\n",
    "\n",
    "year_start = startreportime.strftime(\"%Y\") + '-01-01'\n",
    "year_end   = endreportime.strftime(\"%Y\")   + '-12-31'\n",
    "\n",
    "print(year_start, year_end)\n",
    "\n",
    "dados = yf.download(papel+'.SA', start=year_start, end=year_end, actions = True)\n",
    "\n",
    "dados.reset_index(inplace=True)\n",
    "\n",
    "dados['ConvertedDate']=dados['Date'].astype(str) \n",
    "\n",
    "dados['Ano'] = dados['ConvertedDate'].str.slice(0, 4) + '-' + papel\n",
    "\n",
    "subtotal = round(dados.groupby(['Ano'])['Dividends'].agg('sum'),2)\n",
    "\n",
    "total = subtotal.sum()\n",
    "\n",
    "print(subtotal)\n",
    "\n",
    "total = total / anos / 0.06\n",
    "print()\n",
    "print()\n",
    "print('Valor Teto ',round(total,2))\n",
    "\n",
    "#total.to_excel('c:\\Saulo\\cotacao.xlsx', index=False)\n",
    "  \n"
   ]
  },
  {
   "cell_type": "code",
   "execution_count": null,
   "metadata": {},
   "outputs": [],
   "source": []
  }
 ],
 "metadata": {
  "kernelspec": {
   "display_name": "Python 3",
   "language": "python",
   "name": "python3"
  },
  "language_info": {
   "codemirror_mode": {
    "name": "ipython",
    "version": 3
   },
   "file_extension": ".py",
   "mimetype": "text/x-python",
   "name": "python",
   "nbconvert_exporter": "python",
   "pygments_lexer": "ipython3",
   "version": "3.10.11"
  }
 },
 "nbformat": 4,
 "nbformat_minor": 2
}
