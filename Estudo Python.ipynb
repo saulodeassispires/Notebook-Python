{
 "cells": [
  {
   "cell_type": "code",
   "execution_count": null,
   "metadata": {},
   "outputs": [],
   "source": [
    "class Gato:\n",
    "\n",
    "    # aqui é classe do gato \n",
    "    def __init__(self, nome):\n",
    "        # aqui inicializa a primeira parte do codigo \n",
    "        self.tipo_animal = 'Felino'\n",
    "        self.nome = nome\n",
    "        print('Um gato é um animal', self.tipo_animal, ' ', self.nome)\n",
    "\n",
    "\n",
    "nome_do_gato = input('Digite o nome de seu gato: ')\n",
    "\n",
    "gato1 = Gato(nome_do_gato)"
   ]
  }
 ],
 "metadata": {
  "language_info": {
   "name": "python"
  },
  "orig_nbformat": 4
 },
 "nbformat": 4,
 "nbformat_minor": 2
}
