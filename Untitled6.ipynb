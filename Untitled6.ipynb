{
 "cells": [
  {
   "cell_type": "code",
   "execution_count": 1,
   "id": "12a2c3b7",
   "metadata": {},
   "outputs": [
    {
     "name": "stdout",
     "output_type": "stream",
     "text": [
      ":: loading settings :: url = jar:file:/home/saulos_pires/.local/lib/python3.9/site-packages/pyspark/jars/ivy-2.5.0.jar!/org/apache/ivy/core/settings/ivysettings.xml\n"
     ]
    },
    {
     "name": "stderr",
     "output_type": "stream",
     "text": [
      "Ivy Default Cache set to: /home/saulos_pires/.ivy2/cache\n",
      "The jars for the packages stored in: /home/saulos_pires/.ivy2/jars\n",
      "org.apache.spark#spark-sql-kafka-0-10_2.12 added as a dependency\n",
      ":: resolving dependencies :: org.apache.spark#spark-submit-parent-4cfd7640-b923-40b7-8f9a-590636e0d5a6;1.0\n",
      "\tconfs: [default]\n",
      "\tfound org.apache.spark#spark-sql-kafka-0-10_2.12;3.1.2 in central\n",
      "\tfound org.apache.spark#spark-token-provider-kafka-0-10_2.12;3.1.2 in central\n",
      "\tfound org.apache.kafka#kafka-clients;2.6.0 in central\n",
      "\tfound com.github.luben#zstd-jni;1.4.8-1 in central\n",
      "\tfound org.lz4#lz4-java;1.7.1 in central\n",
      "\tfound org.xerial.snappy#snappy-java;1.1.8.2 in central\n",
      "\tfound org.slf4j#slf4j-api;1.7.30 in central\n",
      "\tfound org.spark-project.spark#unused;1.0.0 in central\n",
      "\tfound org.apache.commons#commons-pool2;2.6.2 in central\n",
      ":: resolution report :: resolve 469ms :: artifacts dl 18ms\n",
      "\t:: modules in use:\n",
      "\tcom.github.luben#zstd-jni;1.4.8-1 from central in [default]\n",
      "\torg.apache.commons#commons-pool2;2.6.2 from central in [default]\n",
      "\torg.apache.kafka#kafka-clients;2.6.0 from central in [default]\n",
      "\torg.apache.spark#spark-sql-kafka-0-10_2.12;3.1.2 from central in [default]\n",
      "\torg.apache.spark#spark-token-provider-kafka-0-10_2.12;3.1.2 from central in [default]\n",
      "\torg.lz4#lz4-java;1.7.1 from central in [default]\n",
      "\torg.slf4j#slf4j-api;1.7.30 from central in [default]\n",
      "\torg.spark-project.spark#unused;1.0.0 from central in [default]\n",
      "\torg.xerial.snappy#snappy-java;1.1.8.2 from central in [default]\n",
      "\t---------------------------------------------------------------------\n",
      "\t|                  |            modules            ||   artifacts   |\n",
      "\t|       conf       | number| search|dwnlded|evicted|| number|dwnlded|\n",
      "\t---------------------------------------------------------------------\n",
      "\t|      default     |   9   |   0   |   0   |   0   ||   9   |   0   |\n",
      "\t---------------------------------------------------------------------\n",
      ":: retrieving :: org.apache.spark#spark-submit-parent-4cfd7640-b923-40b7-8f9a-590636e0d5a6\n",
      "\tconfs: [default]\n",
      "\t0 artifacts copied, 9 already retrieved (0kB/49ms)\n",
      "22/08/14 21:07:41 WARN NativeCodeLoader: Unable to load native-hadoop library for your platform... using builtin-java classes where applicable\n",
      "Using Spark's default log4j profile: org/apache/spark/log4j-defaults.properties\n",
      "Setting default log level to \"WARN\".\n",
      "To adjust logging level use sc.setLogLevel(newLevel). For SparkR, use setLogLevel(newLevel).\n",
      "22/08/14 21:07:42 WARN Utils: Service 'SparkUI' could not bind on port 4040. Attempting port 4041.\n"
     ]
    }
   ],
   "source": [
    "import pyspark\n",
    "SPARK_VERSION = '3.1.2'\n",
    "SCALA_VERSION = '2.12'\n",
    "\n",
    "### adiciona package adicional\n",
    "import findspark\n",
    "findspark.add_packages(['org.apache.spark:spark-sql-kafka-0-10_' + SCALA_VERSION + ':' + SPARK_VERSION ])\n",
    "findspark.init()\n",
    "\n",
    "### Opções válidas para serem utilizadas \n",
    "####.option(\"startingOffsets\", \"earliest\") \\\n",
    "####.option(\"startingOffsets\", \"latest\") \\\n",
    "\n",
    "spark = pyspark.sql.SparkSession \\\n",
    "          .builder \\\n",
    "          .appName(\"APP\") \\\n",
    "          .getOrCreate()"
   ]
  },
  {
   "cell_type": "code",
   "execution_count": 24,
   "id": "0e02c7b2",
   "metadata": {},
   "outputs": [
    {
     "name": "stdout",
     "output_type": "stream",
     "text": [
      "Saulo de Assis Pires\n",
      "Claudia Regina Pires\n",
      "Saulo de Assis Pires\n",
      "['Ambev', 'Fiserv', 'Capco', 'KPI Partners']\n",
      "['NorthLabs', 'Fcamara']\n"
     ]
    }
   ],
   "source": [
    "import random \n",
    "\n",
    "name_list = ['Saulo de Assis Pires',\n",
    "            'Claudia Regina Pires'\n",
    "            ]\n",
    "\n",
    "class TesteSaulo:\n",
    "    \n",
    "    _companies_list = ['Ambev',\n",
    "                    'Fiserv',\n",
    "                    'Capco',\n",
    "                    'KPI Partners'\n",
    "                   ]\n",
    "    \n",
    "    def __init__(self, name):\n",
    "        \n",
    "        self._name = name\n",
    "    \n",
    "    @property\n",
    "    def name(self):\n",
    "        \n",
    "        return self._name\n",
    "    \n",
    "    \n",
    "    @classmethod\n",
    "    def le_arquivo(cls, path):\n",
    "        df = spark.read.format(\"csv\").option('header',True).load(path)\n",
    "        return df \n",
    "    \n",
    "    @name.setter\n",
    "    def name(self, name):\n",
    "        \n",
    "        if name not in name_list:\n",
    "            raise ValueError('%s is not a name valid' % name)\n",
    "        self._name = name\n",
    "        \n",
    "    @staticmethod\n",
    "    def random_name_list():\n",
    "        \n",
    "        return TesteSaulo(random.choice(name_list))\n",
    "    \n",
    "    @classmethod\n",
    "    def companies(cls):\n",
    "        \n",
    "        return cls._companies_list\n",
    "\n",
    "chamada = TesteSaulo('Saulo de Assis Pires')\n",
    "print(chamada.name)\n",
    "\n",
    "chamada.name = 'Claudia Regina Pires'\n",
    "print(chamada.name)\n",
    "\n",
    "randomico = TesteSaulo.random_name_list()\n",
    "print(randomico.name)\n",
    "\n",
    "### instancia a lista que esta dentro da classe \n",
    "print(randomico.companies())\n",
    "\n",
    "### efetua alteração na lista que esta dentro da classe \n",
    "randomico.__class__._companies_list = ['NorthLabs', 'Fcamara']\n",
    "print(randomico.companies())"
   ]
  },
  {
   "cell_type": "code",
   "execution_count": 16,
   "id": "ae0117a0",
   "metadata": {},
   "outputs": [
    {
     "name": "stdout",
     "output_type": "stream",
     "text": [
      "+-----+\n",
      "| name|\n",
      "+-----+\n",
      "|Saulo|\n",
      "|Maria|\n",
      "| Joao|\n",
      "+-----+\n",
      "\n"
     ]
    }
   ],
   "source": [
    "df = teste_saulo\n",
    "path = '/tmp/arquivo.txt'\n",
    "df = teste_saulo.le_arquivo(path)\n",
    "df.show()"
   ]
  },
  {
   "cell_type": "code",
   "execution_count": 27,
   "id": "f217380b",
   "metadata": {},
   "outputs": [],
   "source": [
    "class casa:\n",
    "    \n",
    "    cor = 'amarelo'\n",
    "    \n",
    "    @classmethod\n",
    "    def abrir(cls):\n",
    "        print('porta aberta')\n",
    "    \n",
    "    @classmethod\n",
    "    def mudar_cor(cls, cor):\n",
    "        cls.cor = cor\n",
    "        return cls.cor\n",
    "        \n",
    "minha_casa = casa()"
   ]
  },
  {
   "cell_type": "code",
   "execution_count": 28,
   "id": "ebc1e5cc",
   "metadata": {},
   "outputs": [
    {
     "name": "stdout",
     "output_type": "stream",
     "text": [
      "porta aberta\n"
     ]
    }
   ],
   "source": [
    "minha_casa.abrir()"
   ]
  },
  {
   "cell_type": "markdown",
   "id": "aa19a94b",
   "metadata": {},
   "source": [
    "minha_casa.cor('azul')"
   ]
  },
  {
   "cell_type": "code",
   "execution_count": 29,
   "id": "dde0c866",
   "metadata": {},
   "outputs": [],
   "source": [
    "minha_casa.cor = 'azul'"
   ]
  },
  {
   "cell_type": "markdown",
   "id": "8fecfc83",
   "metadata": {},
   "source": [
    "minha_casa.cor()"
   ]
  },
  {
   "cell_type": "code",
   "execution_count": 30,
   "id": "02fd01b9",
   "metadata": {},
   "outputs": [
    {
     "data": {
      "text/plain": [
       "'azul'"
      ]
     },
     "execution_count": 30,
     "metadata": {},
     "output_type": "execute_result"
    }
   ],
   "source": [
    "minha_casa.cor "
   ]
  },
  {
   "cell_type": "code",
   "execution_count": 31,
   "id": "d358e699",
   "metadata": {},
   "outputs": [],
   "source": [
    "padrao = casa()"
   ]
  },
  {
   "cell_type": "code",
   "execution_count": 32,
   "id": "204dcf6d",
   "metadata": {},
   "outputs": [
    {
     "data": {
      "text/plain": [
       "'amarelo'"
      ]
     },
     "execution_count": 32,
     "metadata": {},
     "output_type": "execute_result"
    }
   ],
   "source": [
    "padrao.cor"
   ]
  },
  {
   "cell_type": "code",
   "execution_count": 33,
   "id": "47d02ae2",
   "metadata": {},
   "outputs": [],
   "source": [
    "casa.cor = 'laranja'"
   ]
  },
  {
   "cell_type": "code",
   "execution_count": 34,
   "id": "75578772",
   "metadata": {},
   "outputs": [
    {
     "data": {
      "text/plain": [
       "'azul'"
      ]
     },
     "execution_count": 34,
     "metadata": {},
     "output_type": "execute_result"
    }
   ],
   "source": [
    "minha_casa.cor "
   ]
  },
  {
   "cell_type": "code",
   "execution_count": null,
   "id": "2ae6d490",
   "metadata": {},
   "outputs": [],
   "source": []
  }
 ],
 "metadata": {
  "kernelspec": {
   "display_name": "Python 3 (ipykernel)",
   "language": "python",
   "name": "python3"
  },
  "language_info": {
   "codemirror_mode": {
    "name": "ipython",
    "version": 3
   },
   "file_extension": ".py",
   "mimetype": "text/x-python",
   "name": "python",
   "nbconvert_exporter": "python",
   "pygments_lexer": "ipython3",
   "version": "3.9.7"
  }
 },
 "nbformat": 4,
 "nbformat_minor": 5
}
