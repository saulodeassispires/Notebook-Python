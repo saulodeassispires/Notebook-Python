{
 "cells": [
  {
   "cell_type": "code",
   "execution_count": 0,
   "metadata": {
    "application/vnd.databricks.v1+cell": {
     "inputWidgets": {},
     "nuid": "2168ab4c-a633-493d-a691-c8147cbb97bd",
     "showTitle": false,
     "title": ""
    }
   },
   "outputs": [],
   "source": [
    "%run  /brewdat-global-sales-bees/framework-bees/library_v1.0.0/main"
   ]
  },
  {
   "cell_type": "code",
   "execution_count": 0,
   "metadata": {
    "application/vnd.databricks.v1+cell": {
     "inputWidgets": {},
     "nuid": "5ad08008-09f4-4489-bace-5ce84179d317",
     "showTitle": false,
     "title": ""
    }
   },
   "outputs": [],
   "source": [
    "dbutils.widgets.text(\"watermark_start_datetime\", \"2022-01-14 00:00:00\")\n",
    "watermark_start_datetime = dbutils.widgets.get(\"watermark_start_datetime\")\n",
    "print(f\"watermark_start_datetime: {watermark_start_datetime}\")\n",
    "\n",
    "dbutils.widgets.text(\"watermark_end_datetime\", \"2022-01-14 23:59:59\")\n",
    "watermark_end_datetime = dbutils.widgets.get(\"watermark_end_datetime\")\n",
    "print(f\"watermark_end_datetime: {watermark_end_datetime}\")"
   ]
  },
  {
   "cell_type": "code",
   "execution_count": 0,
   "metadata": {
    "application/vnd.databricks.v1+cell": {
     "inputWidgets": {},
     "nuid": "c6b46391-9901-42b1-b32c-e19f79aa8860",
     "showTitle": false,
     "title": ""
    }
   },
   "outputs": [],
   "source": [
    "df = Framework.read_landing_zone_dataframe(\n",
    "    file_format=Framework.RawFileFormat.PARQUET,\n",
    "    location=f\"{Framework.LAKEHOUSE_LANDING_ROOT}/maz-co-teste/customer/\"\n",
    ")\n",
    "\n",
    "#display(df)"
   ]
  },
  {
   "cell_type": "code",
   "execution_count": 0,
   "metadata": {
    "application/vnd.databricks.v1+cell": {
     "inputWidgets": {},
     "nuid": "e7b1a089-7f39-4775-8b5a-650bd1fd6d3f",
     "showTitle": false,
     "title": ""
    }
   },
   "outputs": [],
   "source": [
    "df = Framework.clean_column_names(df)\n",
    "\n",
    "#display(df)"
   ]
  },
  {
   "cell_type": "code",
   "execution_count": 0,
   "metadata": {
    "application/vnd.databricks.v1+cell": {
     "inputWidgets": {},
     "nuid": "f301b68a-5a5d-42cf-87e7-b552904e9725",
     "showTitle": false,
     "title": ""
    }
   },
   "outputs": [],
   "source": [
    "try:\n",
    "    from pyspark.sql import functions as F\n",
    "\n",
    "    partition_columns = [\"extract_yr\",\"extract_mth\",\"extract_day\"]\n",
    "\n",
    "    df = (\n",
    "        df\n",
    "        .filter(F.col(\"extract_dt\").between(\n",
    "            F.date_format(F.lit(watermark_start_datetime), \"yyyyMMdd\"),\n",
    "            F.date_format(F.lit(watermark_end_datetime), \"yyyyMMdd\"),\n",
    "        ))\n",
    "    )\n",
    "\n",
    "except:\n",
    "    Framework.exit_with_last_exception()\n",
    "\n",
    "#display(df)"
   ]
  },
  {
   "cell_type": "code",
   "execution_count": 0,
   "metadata": {
    "application/vnd.databricks.v1+cell": {
     "inputWidgets": {},
     "nuid": "7740b427-8874-4f61-b2e4-b9f30bfcdad7",
     "showTitle": false,
     "title": ""
    }
   },
   "outputs": [],
   "source": [
    "df = Framework.create_or_replace_audit_columns(df)\n",
    "\n",
    "#display(df)"
   ]
  },
  {
   "cell_type": "code",
   "execution_count": 0,
   "metadata": {
    "application/vnd.databricks.v1+cell": {
     "inputWidgets": {},
     "nuid": "455095ec-be02-40ee-a721-520cd47f7d65",
     "showTitle": false,
     "title": ""
    }
   },
   "outputs": [],
   "source": [
    "df = df.withColumn(\"extract_yr\", F.substring(\"extract_dt\",1,4))\n",
    "df = df.withColumn(\"extract_mth\", F.substring(\"extract_dt\",1,6))\n",
    "df = df.withColumnRenamed (\"extract_dt\", \"extract_day\")\n",
    "#display(df)"
   ]
  },
  {
   "cell_type": "code",
   "execution_count": 0,
   "metadata": {
    "application/vnd.databricks.v1+cell": {
     "inputWidgets": {},
     "nuid": "ddebd10f-d1ab-492b-b36b-0f37f58c300b",
     "showTitle": false,
     "title": ""
    }
   },
   "outputs": [],
   "source": [
    "schema_name = \"abi_sales_maz_co_lz\"\n",
    "table_name = \"co_customer_lz\"\n",
    "\n",
    "location = Framework.generate_bronze_table_location(\n",
    "    source_zone=\"maz-co\",\n",
    "    source_sys_name=\"file_bees\",\n",
    "    source_business_domain=\"sales\",\n",
    "    table_name=table_name,\n",
    ")\n",
    "\n",
    "results = Framework.write_delta_table(\n",
    "    df=df,\n",
    "    location=location,\n",
    "    schema_name=schema_name,\n",
    "    table_name=table_name,\n",
    "    load_type=Framework.LoadType.APPEND_ALL,\n",
    "    partition_columns=partition_columns,\n",
    "    schema_evolution_mode=Framework.SchemaEvolutionMode.ADD_NEW_COLUMNS,\n",
    ")\n",
    "\n",
    "print(results)"
   ]
  },
  {
   "cell_type": "code",
   "execution_count": 0,
   "metadata": {
    "application/vnd.databricks.v1+cell": {
     "inputWidgets": {},
     "nuid": "134cd090-34b1-420c-8a60-511f05657896",
     "showTitle": false,
     "title": ""
    }
   },
   "outputs": [],
   "source": [
    "Framework.exit_with_object(results)\n"
   ]
  }
 ],
 "metadata": {
  "application/vnd.databricks.v1+notebook": {
   "dashboards": [],
   "language": "python",
   "notebookMetadata": {},
   "notebookName": "job_abi_sales_maz_co_lz_co_customer_lz",
   "notebookOrigID": 3853202254117407,
   "widgets": {}
  },
  "kernelspec": {
   "display_name": "Python 3 (ipykernel)",
   "language": "python",
   "name": "python3"
  },
  "language_info": {
   "codemirror_mode": {
    "name": "ipython",
    "version": 3
   },
   "file_extension": ".py",
   "mimetype": "text/x-python",
   "name": "python",
   "nbconvert_exporter": "python",
   "pygments_lexer": "ipython3",
   "version": "3.9.7"
  }
 },
 "nbformat": 4,
 "nbformat_minor": 1
}
