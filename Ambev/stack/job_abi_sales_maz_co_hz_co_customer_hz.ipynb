{
 "cells": [
  {
   "cell_type": "code",
   "execution_count": 0,
   "metadata": {
    "application/vnd.databricks.v1+cell": {
     "inputWidgets": {},
     "nuid": "ef16d92a-c35c-4886-8643-0214e2969e24",
     "showTitle": false,
     "title": ""
    }
   },
   "outputs": [],
   "source": [
    "%run  /brewdat-global-sales-bees/framework-bees/library_v1.0.0/main"
   ]
  },
  {
   "cell_type": "code",
   "execution_count": 0,
   "metadata": {
    "application/vnd.databricks.v1+cell": {
     "inputWidgets": {},
     "nuid": "1953c141-0766-414e-86d7-9e73eb141f13",
     "showTitle": false,
     "title": ""
    }
   },
   "outputs": [],
   "source": [
    "dbutils.widgets.text(\"watermark_start_datetime\", \"2022-01-14 00:00:00\")\n",
    "watermark_start_datetime = dbutils.widgets.get(\"watermark_start_datetime\")\n",
    "print(f\"watermark_start_datetime: {watermark_start_datetime}\")\n",
    "\n",
    "dbutils.widgets.text(\"watermark_end_datetime\", \"2022-01-14 23:59:59\")\n",
    "watermark_end_datetime = dbutils.widgets.get(\"watermark_end_datetime\")\n",
    "print(f\"watermark_end_datetime: {watermark_end_datetime}\")"
   ]
  },
  {
   "cell_type": "code",
   "execution_count": 0,
   "metadata": {
    "application/vnd.databricks.v1+cell": {
     "inputWidgets": {},
     "nuid": "cb0bffc2-7140-4f72-9286-1e1427870d87",
     "showTitle": false,
     "title": ""
    }
   },
   "outputs": [],
   "source": [
    "try:\n",
    "    from pyspark.sql import functions as F\n",
    "\n",
    "    key_columns = [\"customer_bk\"]\n",
    "    partition_columns = [\"extract_yr\",\"extract_mth\",\"extract_day\"]\n",
    "\n",
    "    df = spark.sql(f\"\"\"\n",
    "        SELECT\n",
    "            CAST(UNIX_TIMESTAMP(dt_reference_ts, 'yyyyMMddHHmmss') AS TIMESTAMP) AS dt_reference_ts,\n",
    "            srs_country_cd,\n",
    "            src_region_nm,\n",
    "            src_sys_nm,\n",
    "            channel_cd,\n",
    "            channel_ds,\n",
    "            channel_typ,\n",
    "            city_nm,\n",
    "            address_ds,\n",
    "            CAST(coordinate_lat AS DECIMAL(15,2)) AS coordinate_lat,\n",
    "            CAST(coordinate_log AS DECIMAL(15,2)) AS coordinate_log,\n",
    "            country_cd,\n",
    "            CAST(credit_limit_val AS DECIMAL(15,2)) AS credit_limit_val,\n",
    "            credit_payment_terms_typ,\n",
    "            customer_bees_cd,\n",
    "            customer_bk,\n",
    "            customer_erp_cd,\n",
    "            customer_nm,\n",
    "            customer_socioeconomic_cls,\n",
    "            customer_potential_cls,\n",
    "            customer_stt,\n",
    "            customer_updated_dtm,\n",
    "            segment_cd,\n",
    "            payment_methods_cls,\n",
    "            poc_size_cls,\n",
    "            segment_nm,\n",
    "            state_nm,\n",
    "            subchannel_cd,\n",
    "            subchannel_nm,\n",
    "            zipcode_cd,\n",
    "            extract_version_cd,\n",
    "            extract_day,\n",
    "            extract_yr,\n",
    "            extract_mth\n",
    "        FROM\n",
    "            abi_sales_maz_co_lz.co_customer_lz\n",
    "        WHERE 1 = 1\n",
    "            AND extract_yr BETWEEN DATE_FORMAT('{watermark_start_datetime}', 'yyyy')\n",
    "                AND DATE_FORMAT('{watermark_end_datetime}', 'yyyy')\n",
    "            AND extract_mth BETWEEN DATE_FORMAT('{watermark_start_datetime}', 'yyyyMM')\n",
    "                AND DATE_FORMAT('{watermark_end_datetime}', 'yyyyMM')\n",
    "            AND extract_day BETWEEN DATE_FORMAT('{watermark_start_datetime}', 'yyyyMMdd')\n",
    "                AND DATE_FORMAT('{watermark_end_datetime}', 'yyyyMMdd')\n",
    "    \"\"\")\n",
    "\n",
    "except:\n",
    "    Framework.exit_with_last_exception()\n",
    "\n",
    "#display(df)testehistorico"
   ]
  },
  {
   "cell_type": "code",
   "execution_count": 0,
   "metadata": {
    "application/vnd.databricks.v1+cell": {
     "inputWidgets": {},
     "nuid": "915e29ad-8c65-45b2-8605-6df54ea04b6c",
     "showTitle": false,
     "title": ""
    }
   },
   "outputs": [],
   "source": [
    "df = Framework.deduplicate_records(\n",
    "    df=df,\n",
    "    key_columns=key_columns,\n",
    "    watermark_column=\"dt_reference_ts\",\n",
    ")\n",
    "\n",
    "#display(df)"
   ]
  },
  {
   "cell_type": "code",
   "execution_count": 0,
   "metadata": {
    "application/vnd.databricks.v1+cell": {
     "inputWidgets": {},
     "nuid": "0762f482-de18-41e1-8352-ff6742029e9d",
     "showTitle": false,
     "title": ""
    }
   },
   "outputs": [],
   "source": [
    "df = Framework.create_or_replace_audit_columns(df)\n",
    "\n",
    "#display(df)"
   ]
  },
  {
   "cell_type": "code",
   "execution_count": 0,
   "metadata": {
    "application/vnd.databricks.v1+cell": {
     "inputWidgets": {},
     "nuid": "82278861-60e0-4342-bf80-c16c9c7a5f10",
     "showTitle": false,
     "title": ""
    }
   },
   "outputs": [],
   "source": [
    "schema_name = \"abi_sales_maz_co_hz\"\n",
    "table_name = \"co_customer_hz\"\n",
    "\n",
    "location = Framework.generate_silver_table_location(\n",
    "    source_zone=\"maz-co\",\n",
    "    source_sys_name=\"file_bees\",\n",
    "    source_business_domain=\"sales\",\n",
    "    table_name=table_name,\n",
    ")\n",
    "\n",
    "results = Framework.write_delta_table(\n",
    "    df=df,\n",
    "    location=location,\n",
    "    schema_name=schema_name,\n",
    "    table_name=table_name,\n",
    "    load_type=Framework.LoadType.UPSERT,\n",
    "    key_columns=key_columns,\n",
    "    partition_columns=partition_columns,\n",
    "    schema_evolution_mode=Framework.SchemaEvolutionMode.ADD_NEW_COLUMNS,\n",
    ")\n",
    "\n",
    "print(results)"
   ]
  },
  {
   "cell_type": "code",
   "execution_count": 0,
   "metadata": {
    "application/vnd.databricks.v1+cell": {
     "inputWidgets": {},
     "nuid": "e5ad0068-3461-4287-a054-155e83eb029a",
     "showTitle": false,
     "title": ""
    }
   },
   "outputs": [],
   "source": [
    "Framework.exit_with_object(results)\n"
   ]
  }
 ],
 "metadata": {
  "application/vnd.databricks.v1+notebook": {
   "dashboards": [],
   "language": "python",
   "notebookMetadata": {},
   "notebookName": "job_abi_sales_maz_co_hz_co_customer_hz",
   "notebookOrigID": 2493438774059013,
   "widgets": {}
  },
  "kernelspec": {
   "display_name": "Python 3 (ipykernel)",
   "language": "python",
   "name": "python3"
  },
  "language_info": {
   "codemirror_mode": {
    "name": "ipython",
    "version": 3
   },
   "file_extension": ".py",
   "mimetype": "text/x-python",
   "name": "python",
   "nbconvert_exporter": "python",
   "pygments_lexer": "ipython3",
   "version": "3.9.7"
  }
 },
 "nbformat": 4,
 "nbformat_minor": 1
}
