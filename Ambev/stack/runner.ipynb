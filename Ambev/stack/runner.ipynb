{
 "cells": [
  {
   "cell_type": "code",
   "execution_count": 3,
   "metadata": {
    "application/vnd.databricks.v1+cell": {
     "inputWidgets": {},
     "nuid": "cc4a27bc-3c56-416c-87b8-849471350736",
     "showTitle": false,
     "title": ""
    }
   },
   "outputs": [],
   "source": [
    "import base64\n",
    "import json\n",
    "import requests\n",
    "import traceback\n",
    "from os import path\n",
    "from requests.exceptions import HTTPError"
   ]
  },
  {
   "cell_type": "code",
   "execution_count": 2,
   "metadata": {
    "application/vnd.databricks.v1+cell": {
     "inputWidgets": {},
     "nuid": "ffee5ccd-247a-4936-b020-bcbe1d884f3c",
     "showTitle": false,
     "title": ""
    }
   },
   "outputs": [
    {
     "ename": "NameError",
     "evalue": "name 'dbutils' is not defined",
     "output_type": "error",
     "traceback": [
      "\u001b[0;31m---------------------------------------------------------------------------\u001b[0m",
      "\u001b[0;31mNameError\u001b[0m                                 Traceback (most recent call last)",
      "\u001b[0;32m/tmp/ipykernel_105674/375781847.py\u001b[0m in \u001b[0;36m<module>\u001b[0;34m\u001b[0m\n\u001b[0;32m----> 1\u001b[0;31m \u001b[0mdbutils\u001b[0m\u001b[0;34m.\u001b[0m\u001b[0mwidgets\u001b[0m\u001b[0;34m.\u001b[0m\u001b[0mremoveAll\u001b[0m\u001b[0;34m(\u001b[0m\u001b[0;34m)\u001b[0m\u001b[0;34m\u001b[0m\u001b[0;34m\u001b[0m\u001b[0m\n\u001b[0m",
      "\u001b[0;31mNameError\u001b[0m: name 'dbutils' is not defined"
     ]
    }
   ],
   "source": [
    "dbutils.widgets.removeAll()"
   ]
  },
  {
   "cell_type": "code",
   "execution_count": 0,
   "metadata": {
    "application/vnd.databricks.v1+cell": {
     "inputWidgets": {},
     "nuid": "8561040e-5103-446f-b182-abfc9b0c3d0d",
     "showTitle": false,
     "title": ""
    }
   },
   "outputs": [
    {
     "data": {
      "text/html": [
       "<style scoped>\n",
       "  .ansiout {\n",
       "    display: block;\n",
       "    unicode-bidi: embed;\n",
       "    white-space: pre-wrap;\n",
       "    word-wrap: break-word;\n",
       "    word-break: break-all;\n",
       "    font-family: \"Source Code Pro\", \"Menlo\", monospace;;\n",
       "    font-size: 13px;\n",
       "    color: #555;\n",
       "    margin-left: 4px;\n",
       "    line-height: 19px;\n",
       "  }\n",
       "</style>\n",
       "<div class=\"ansiout\">job_unique_name: job_silver_sales_global_nielsen_per\n",
       "notebook_language: PYTHON\n",
       "notebook_code: print(&#39;Hello, World&#39;)\n",
       "start_datetime: 2021-12-31 00:00:00\n",
       "end_datetime: 2021-12-31 23:59:59\n",
       "</div>"
      ]
     },
     "metadata": {
      "application/vnd.databricks.v1+output": {
       "addedWidgets": {},
       "arguments": {},
       "data": "<div class=\"ansiout\">job_unique_name: job_silver_sales_global_nielsen_per\nnotebook_language: PYTHON\nnotebook_code: print(&#39;Hello, World&#39;)\nstart_datetime: 2021-12-31 00:00:00\nend_datetime: 2021-12-31 23:59:59\n</div>",
       "datasetInfos": [],
       "metadata": {},
       "removedWidgets": [],
       "type": "html"
      }
     },
     "output_type": "display_data"
    }
   ],
   "source": [
    "dbutils.widgets.text(\"job_unique_name\", \"job_silver_sales_global_nielsen_per\")\n",
    "job_unique_name = dbutils.widgets.get(\"job_unique_name\")\n",
    "print(f\"job_unique_name: {job_unique_name}\")\n",
    "\n",
    "dbutils.widgets.text(\"notebook_language\", \"PYTHON\")\n",
    "notebook_language = dbutils.widgets.get(\"notebook_language\").upper()\n",
    "print(f\"notebook_language: {notebook_language}\")\n",
    "\n",
    "dbutils.widgets.text(\"notebook_code\", \"print('Hello, World')\")\n",
    "notebook_code = dbutils.widgets.get(\"notebook_code\")\n",
    "print(f\"notebook_code: {notebook_code}\")\n",
    "\n",
    "dbutils.widgets.text(\"watermark_start_datetime\", \"2021-12-31 00:00:00\")\n",
    "watermark_start_datetime = dbutils.widgets.get(\"watermark_start_datetime\")\n",
    "print(f\"watermark_start_datetime: {watermark_start_datetime}\")\n",
    "\n",
    "dbutils.widgets.text(\"watermark_end_datetime\", \"2021-12-31 23:59:59\")\n",
    "watermark_end_datetime = dbutils.widgets.get(\"watermark_end_datetime\")\n",
    "print(f\"watermark_end_datetime: {watermark_end_datetime}\")"
   ]
  },
  {
   "cell_type": "code",
   "execution_count": 0,
   "metadata": {
    "application/vnd.databricks.v1+cell": {
     "inputWidgets": {},
     "nuid": "e70c038d-2745-42ab-8fcc-f11754cb3fab",
     "showTitle": false,
     "title": ""
    }
   },
   "outputs": [
    {
     "data": {
      "text/html": [
       "<style scoped>\n",
       "  .ansiout {\n",
       "    display: block;\n",
       "    unicode-bidi: embed;\n",
       "    white-space: pre-wrap;\n",
       "    word-wrap: break-word;\n",
       "    word-break: break-all;\n",
       "    font-family: \"Source Code Pro\", \"Menlo\", monospace;;\n",
       "    font-size: 13px;\n",
       "    color: #555;\n",
       "    margin-left: 4px;\n",
       "    line-height: 19px;\n",
       "  }\n",
       "</style>\n",
       "<div class=\"ansiout\">{&#39;status&#39;: &#39;FAILED&#39;, &#39;error_message&#39;: &#34;Child notebook has not returned any result. Did you forget to call the framework&#39;s exit function?&#34;, &#39;detailed_error_message&#39;: &#39;Traceback (most recent call last):\\n  File &#34;&lt;command-3198563744359297&gt;&#34;, line 40, in &lt;module&gt;\\n    raise ValueError(&#34;Child notebook has not returned any result. Did you forget to call the framework\\&#39;s exit function?&#34;)\\nValueError: Child notebook has not returned any result. Did you forget to call the framework\\&#39;s exit function?\\n&#39;}\n",
       "</div>"
      ]
     },
     "metadata": {
      "application/vnd.databricks.v1+output": {
       "addedWidgets": {},
       "arguments": {},
       "data": "<div class=\"ansiout\">{&#39;status&#39;: &#39;FAILED&#39;, &#39;error_message&#39;: &#34;Child notebook has not returned any result. Did you forget to call the framework&#39;s exit function?&#34;, &#39;detailed_error_message&#39;: &#39;Traceback (most recent call last):\\n  File &#34;&lt;command-3198563744359297&gt;&#34;, line 40, in &lt;module&gt;\\n    raise ValueError(&#34;Child notebook has not returned any result. Did you forget to call the framework\\&#39;s exit function?&#34;)\\nValueError: Child notebook has not returned any result. Did you forget to call the framework\\&#39;s exit function?\\n&#39;}\n</div>",
       "datasetInfos": [],
       "metadata": {},
       "removedWidgets": [],
       "type": "html"
      }
     },
     "output_type": "display_data"
    }
   ],
   "source": [
    "try:\n",
    "    # Get API details\n",
    "    context = json.loads(dbutils.notebook.entry_point.getDbutils().notebook().getContext().toJson())\n",
    "    api_url = context[\"extraContext\"][\"api_url\"]\n",
    "    api_token = context[\"extraContext\"][\"api_token\"]\n",
    "    notebook_path = context[\"extraContext\"][\"notebook_path\"]\n",
    "    new_notebook_path = path.join(path.dirname(notebook_path), \"job_notebooks\", job_unique_name)\n",
    "    notebook_content_base64 = base64.b64encode(notebook_code.encode(\"ascii\")).decode(\"ascii\")\n",
    "\n",
    "    payload = {\n",
    "        \"path\": new_notebook_path,\n",
    "        \"format\": \"SOURCE\",\n",
    "        \"language\": notebook_language,\n",
    "        \"content\": notebook_content_base64,\n",
    "        \"overwrite\": True,\n",
    "    }\n",
    "\n",
    "    headers = {\n",
    "        \"Authorization\": f\"Bearer {api_token}\",\n",
    "        \"Content-Type\": \"application/json\",\n",
    "    }\n",
    "\n",
    "    # Deploy notebook using REST API\n",
    "    response = requests.post(\n",
    "        f\"{api_url}/api/2.0/workspace/import\",\n",
    "        json=payload,\n",
    "        headers=headers,\n",
    "    )\n",
    "\n",
    "    # Throw error if status was not OK\n",
    "    if not response:\n",
    "        raise HTTPError(response.status_code, response.json())\n",
    "\n",
    "    # Run notebook\n",
    "    timeout_seconds = 3*60*60  # 3 hours\n",
    "    params = {\n",
    "        \"watermark_start_datetime\": watermark_start_datetime,\n",
    "        \"watermark_end_datetime\": watermark_end_datetime,\n",
    "    }\n",
    "    resultsJson = dbutils.notebook.run(new_notebook_path, timeout_seconds, params)\n",
    "\n",
    "    # Throw error if result was not provided\n",
    "    if not resultsJson:\n",
    "        raise ValueError(\"Child notebook has not returned any result. Did you forget to call the framework's exit function?\")\n",
    "\n",
    "    results = json.loads(resultsJson)\n",
    "\n",
    "except Exception as e:\n",
    "    results = {\n",
    "        \"status\": \"FAILED\",\n",
    "        \"target_object\": None,\n",
    "        \"num_records_read\": None,\n",
    "        \"num_records_loaded\": None,\n",
    "        \"num_records_errored_out\": None,\n",
    "        \"error_message\": str(e)[:8000],\n",
    "        \"error_details\": traceback.format_exc()\n",
    "    }\n",
    "\n",
    "print(results)"
   ]
  },
  {
   "cell_type": "code",
   "execution_count": 0,
   "metadata": {
    "application/vnd.databricks.v1+cell": {
     "inputWidgets": {},
     "nuid": "78817e45-276b-41b1-8204-c4a4cbbb8d5a",
     "showTitle": false,
     "title": ""
    }
   },
   "outputs": [
    {
     "data": {
      "text/plain": [
       "{\"status\": \"FAILED\", \"error_message\": \"Child notebook has not returned any result. Did you forget to call the framework's exit function?\", \"detailed_error_message\": \"Traceback (most recent call last):\\n  File \\\"<command-3198563744359297>\\\", line 40, in <module>\\n    raise ValueError(\\\"Child notebook has not returned any result. Did you forget to call the framework's exit function?\\\")\\nValueError: Child notebook has not returned any result. Did you forget to call the framework's exit function?\\n\"}"
      ]
     },
     "metadata": {
      "application/vnd.databricks.v1+output": {
       "arguments": {},
       "data": "{\"status\": \"FAILED\", \"error_message\": \"Child notebook has not returned any result. Did you forget to call the framework's exit function?\", \"detailed_error_message\": \"Traceback (most recent call last):\\n  File \\\"<command-3198563744359297>\\\", line 40, in <module>\\n    raise ValueError(\\\"Child notebook has not returned any result. Did you forget to call the framework's exit function?\\\")\\nValueError: Child notebook has not returned any result. Did you forget to call the framework's exit function?\\n\"}",
       "metadata": {},
       "type": "exit"
      }
     },
     "output_type": "display_data"
    }
   ],
   "source": [
    "dbutils.notebook.exit(json.dumps(results))"
   ]
  }
 ],
 "metadata": {
  "application/vnd.databricks.v1+notebook": {
   "dashboards": [],
   "language": "python",
   "notebookMetadata": {
    "pythonIndentUnit": 4
   },
   "notebookName": "runner",
   "notebookOrigID": 3080266927601628,
   "widgets": {}
  },
  "kernelspec": {
   "display_name": "Python 3 (ipykernel)",
   "language": "python",
   "name": "python3"
  },
  "language_info": {
   "codemirror_mode": {
    "name": "ipython",
    "version": 3
   },
   "file_extension": ".py",
   "mimetype": "text/x-python",
   "name": "python",
   "nbconvert_exporter": "python",
   "pygments_lexer": "ipython3",
   "version": "3.9.7"
  }
 },
 "nbformat": 4,
 "nbformat_minor": 1
}
