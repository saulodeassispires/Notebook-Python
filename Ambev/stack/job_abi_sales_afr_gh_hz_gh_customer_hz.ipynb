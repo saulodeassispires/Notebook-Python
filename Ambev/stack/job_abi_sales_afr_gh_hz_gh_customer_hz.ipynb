{
 "cells": [
  {
   "cell_type": "code",
   "execution_count": 0,
   "metadata": {
    "application/vnd.databricks.v1+cell": {
     "inputWidgets": {},
     "nuid": "f558deae-5ad2-438a-8cfd-17c7ddc0a6eb",
     "showTitle": false,
     "title": ""
    }
   },
   "outputs": [],
   "source": [
    "%run  /brewdat-global-sales-bees/framework-bees/library_v1.0.0/main"
   ]
  },
  {
   "cell_type": "code",
   "execution_count": 0,
   "metadata": {
    "application/vnd.databricks.v1+cell": {
     "inputWidgets": {},
     "nuid": "28cd165e-5ebb-442a-9a67-bce4ea0fe346",
     "showTitle": false,
     "title": ""
    }
   },
   "outputs": [],
   "source": [
    "dbutils.widgets.text(\"watermark_start_datetime\", \"2022-01-14 00:00:00\")\n",
    "watermark_start_datetime = dbutils.widgets.get(\"watermark_start_datetime\")\n",
    "print(f\"watermark_start_datetime: {watermark_start_datetime}\")\n",
    "\n",
    "dbutils.widgets.text(\"watermark_end_datetime\", \"2022-01-14 23:59:59\")\n",
    "watermark_end_datetime = dbutils.widgets.get(\"watermark_end_datetime\")\n",
    "print(f\"watermark_end_datetime: {watermark_end_datetime}\")"
   ]
  },
  {
   "cell_type": "code",
   "execution_count": 0,
   "metadata": {
    "application/vnd.databricks.v1+cell": {
     "inputWidgets": {},
     "nuid": "8beeefa8-3d19-4b97-9936-e6c34c1a3b32",
     "showTitle": false,
     "title": ""
    }
   },
   "outputs": [],
   "source": [
    "try:\n",
    "    from pyspark.sql import functions as F\n",
    "\n",
    "    key_columns = [\"customer_bk\"]\n",
    "    partition_columns = [\"extract_yr\",\"extract_mth\",\"extract_day\"]\n",
    "\n",
    "    df = spark.sql(f\"\"\"\n",
    "        SELECT\n",
    "            CAST(dt_reference_ts AS TIMESTAMP) AS dt_reference_ts,\n",
    "            srs_country_cd,\n",
    "            src_region_nm,\n",
    "            src_sys_nm,\n",
    "            channel_cd,\n",
    "            channel_ds,\n",
    "            channel_typ,\n",
    "            city_nm,\n",
    "            address_ds,\n",
    "            CAST(coordinate_lat AS DECIMAL(15,2)) AS coordinate_lat,\n",
    "            CAST(coordinate_log AS DECIMAL(15,2)) AS coordinate_log,\n",
    "            country_cd,\n",
    "            CAST(credit_limit_val AS DECIMAL(15,2)) AS credit_limit_val,\n",
    "            credit_payment_terms_typ,\n",
    "            customer_bees_cd,\n",
    "            customer_bk,\n",
    "            customer_erp_cd,\n",
    "            customer_nm,\n",
    "            customer_socioeconomic_cls,\n",
    "            customer_potential_cls,\n",
    "            customer_stt,\n",
    "            customer_updated_dtm,\n",
    "            segment_cd,\n",
    "            payment_methods_cls,\n",
    "            poc_size_cls,\n",
    "            segment_nm,\n",
    "            state_nm,\n",
    "            subchannel_cd,\n",
    "            subchannel_nm,\n",
    "            zipcode_cd,\n",
    "            extract_version_cd,\n",
    "            extract_day,\n",
    "            extract_yr,\n",
    "            extract_mth\n",
    "        FROM\n",
    "            abi_sales_afr_gh_lz.gh_customer_lz\n",
    "        WHERE 1 = 1\n",
    "            AND extract_yr BETWEEN DATE_FORMAT('{watermark_start_datetime}', 'yyyy')\n",
    "                AND DATE_FORMAT('{watermark_end_datetime}', 'yyyy')\n",
    "            AND extract_mth BETWEEN DATE_FORMAT('{watermark_start_datetime}', 'yyyyMM')\n",
    "                AND DATE_FORMAT('{watermark_end_datetime}', 'yyyyMM')\n",
    "            AND extract_day BETWEEN DATE_FORMAT('{watermark_start_datetime}', 'yyyyMMdd')\n",
    "                AND DATE_FORMAT('{watermark_end_datetime}', 'yyyyMMdd')\n",
    "    \"\"\")\n",
    "\n",
    "except:\n",
    "    Framework.exit_with_last_exception()\n",
    "\n",
    "#display(df)"
   ]
  },
  {
   "cell_type": "code",
   "execution_count": 0,
   "metadata": {
    "application/vnd.databricks.v1+cell": {
     "inputWidgets": {},
     "nuid": "cdabb023-63a7-4f8c-b11d-98b5c08c169e",
     "showTitle": false,
     "title": ""
    }
   },
   "outputs": [],
   "source": [
    "df = Framework.deduplicate_records(\n",
    "    df=df,\n",
    "    key_columns=key_columns,\n",
    "    watermark_column=\"dt_reference_ts\",\n",
    ")\n",
    "\n",
    "#display(df)"
   ]
  },
  {
   "cell_type": "code",
   "execution_count": 0,
   "metadata": {
    "application/vnd.databricks.v1+cell": {
     "inputWidgets": {},
     "nuid": "98417faa-d526-43d7-9210-be334550f742",
     "showTitle": false,
     "title": ""
    }
   },
   "outputs": [],
   "source": [
    "df = Framework.create_or_replace_audit_columns(df)\n",
    "\n",
    "#display(df)"
   ]
  },
  {
   "cell_type": "code",
   "execution_count": 0,
   "metadata": {
    "application/vnd.databricks.v1+cell": {
     "inputWidgets": {},
     "nuid": "1dae5206-0518-4fb7-a14b-df585dcf593e",
     "showTitle": false,
     "title": ""
    }
   },
   "outputs": [],
   "source": [
    "schema_name = \"abi_sales_afr_gh_hz\"\n",
    "table_name = \"gh_customer_hz\"\n",
    "\n",
    "location = Framework.generate_silver_table_location(\n",
    "    source_zone=\"afr\",\n",
    "    source_sys_name=\"file_bees\",\n",
    "    source_business_domain=\"sales\",\n",
    "    table_name=table_name,\n",
    ")\n",
    "\n",
    "results = Framework.write_delta_table(\n",
    "    df=df,\n",
    "    location=location,\n",
    "    schema_name=schema_name,\n",
    "    table_name=table_name,\n",
    "    load_type=Framework.LoadType.UPSERT,\n",
    "    key_columns=key_columns,\n",
    "    partition_columns=partition_columns,\n",
    "    schema_evolution_mode=Framework.SchemaEvolutionMode.ADD_NEW_COLUMNS,\n",
    ")\n",
    "\n",
    "print(results)"
   ]
  },
  {
   "cell_type": "code",
   "execution_count": 0,
   "metadata": {
    "application/vnd.databricks.v1+cell": {
     "inputWidgets": {},
     "nuid": "c0922142-a07d-41d8-bf3f-da83938aaf15",
     "showTitle": false,
     "title": ""
    }
   },
   "outputs": [],
   "source": [
    "Framework.exit_with_object(results)\n"
   ]
  }
 ],
 "metadata": {
  "application/vnd.databricks.v1+notebook": {
   "dashboards": [],
   "language": "python",
   "notebookMetadata": {},
   "notebookName": "job_abi_sales_afr_gh_hz_gh_customer_hz",
   "notebookOrigID": 749372420480510,
   "widgets": {}
  },
  "kernelspec": {
   "display_name": "Python 3 (ipykernel)",
   "language": "python",
   "name": "python3"
  },
  "language_info": {
   "codemirror_mode": {
    "name": "ipython",
    "version": 3
   },
   "file_extension": ".py",
   "mimetype": "text/x-python",
   "name": "python",
   "nbconvert_exporter": "python",
   "pygments_lexer": "ipython3",
   "version": "3.9.7"
  }
 },
 "nbformat": 4,
 "nbformat_minor": 1
}
