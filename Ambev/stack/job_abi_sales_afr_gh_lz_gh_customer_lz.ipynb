{
 "cells": [
  {
   "cell_type": "code",
   "execution_count": 0,
   "metadata": {
    "application/vnd.databricks.v1+cell": {
     "inputWidgets": {},
     "nuid": "387057fe-2af3-4057-bae8-ce7ff3ce1e61",
     "showTitle": false,
     "title": ""
    }
   },
   "outputs": [],
   "source": [
    "%run  /brewdat-global-sales-bees/framework-bees/library_v1.0.0/main"
   ]
  },
  {
   "cell_type": "code",
   "execution_count": 0,
   "metadata": {
    "application/vnd.databricks.v1+cell": {
     "inputWidgets": {},
     "nuid": "1b739e23-a27e-449e-81d2-efe2db19818e",
     "showTitle": false,
     "title": ""
    }
   },
   "outputs": [],
   "source": [
    "dbutils.widgets.text(\"watermark_start_datetime\", \"2022-03-01 00:00:00\")\n",
    "watermark_start_datetime = dbutils.widgets.get(\"watermark_start_datetime\")\n",
    "print(f\"watermark_start_datetime: {watermark_start_datetime}\")\n",
    "\n",
    "dbutils.widgets.text(\"watermark_end_datetime\", \"2022-03-30 23:59:59\")\n",
    "watermark_end_datetime = dbutils.widgets.get(\"watermark_end_datetime\")\n",
    "print(f\"watermark_end_datetime: {watermark_end_datetime}\")"
   ]
  },
  {
   "cell_type": "code",
   "execution_count": 0,
   "metadata": {
    "application/vnd.databricks.v1+cell": {
     "inputWidgets": {},
     "nuid": "54bb7683-d6cd-402f-b062-6695229bc778",
     "showTitle": false,
     "title": ""
    }
   },
   "outputs": [],
   "source": [
    "df = Framework.read_landing_zone_dataframe(\n",
    "    file_format=Framework.RawFileFormat.CSV,\n",
    "    location=f\"{Framework.LAKEHOUSE_LANDING_ROOT}/afr/customer/\"\n",
    ")\n",
    "\n",
    "#display(df)"
   ]
  },
  {
   "cell_type": "code",
   "execution_count": 0,
   "metadata": {
    "application/vnd.databricks.v1+cell": {
     "inputWidgets": {},
     "nuid": "94eecc6a-54b1-4e3c-af1d-d1b9def83a10",
     "showTitle": false,
     "title": ""
    }
   },
   "outputs": [],
   "source": [
    "df = Framework.clean_column_names(df)\n",
    "\n",
    "#display(df)"
   ]
  },
  {
   "cell_type": "code",
   "execution_count": 0,
   "metadata": {
    "application/vnd.databricks.v1+cell": {
     "inputWidgets": {},
     "nuid": "3fdbc796-6903-4aff-867e-cab83294fee1",
     "showTitle": false,
     "title": ""
    }
   },
   "outputs": [],
   "source": [
    "try:\n",
    "    from pyspark.sql import functions as F\n",
    "\n",
    "    partition_columns = [\"extract_yr\",\"extract_mth\",\"extract_day\"]\n",
    "\n",
    "    df = (\n",
    "        df\n",
    "        .filter(F.col(\"extract_dt\").between(\n",
    "            F.date_format(F.lit(watermark_start_datetime), \"yyyyMMdd\"),\n",
    "            F.date_format(F.lit(watermark_end_datetime), \"yyyyMMdd\"),\n",
    "        ))\n",
    "    )\n",
    "\n",
    "except:\n",
    "    Framework.exit_with_last_exception()\n",
    "\n",
    "#display(df)"
   ]
  },
  {
   "cell_type": "code",
   "execution_count": 0,
   "metadata": {
    "application/vnd.databricks.v1+cell": {
     "inputWidgets": {},
     "nuid": "8724dc97-515b-4a79-bfae-e255f2c41632",
     "showTitle": false,
     "title": ""
    }
   },
   "outputs": [],
   "source": [
    "df = Framework.create_or_replace_audit_columns(df)\n",
    "\n",
    "#display(df)"
   ]
  },
  {
   "cell_type": "code",
   "execution_count": 0,
   "metadata": {
    "application/vnd.databricks.v1+cell": {
     "inputWidgets": {},
     "nuid": "d37fcdd9-6d9f-4ffe-bab5-fc1fdc00ad7b",
     "showTitle": false,
     "title": ""
    }
   },
   "outputs": [],
   "source": [
    "df = df.withColumn(\"extract_yr\", F.substring(\"extract_dt\",1,4))\n",
    "df = df.withColumn(\"extract_mth\", F.substring(\"extract_dt\",1,6))\n",
    "df = df.withColumnRenamed (\"extract_dt\", \"extract_day\")\n",
    "\n",
    "#display(df)"
   ]
  },
  {
   "cell_type": "code",
   "execution_count": 0,
   "metadata": {
    "application/vnd.databricks.v1+cell": {
     "inputWidgets": {},
     "nuid": "ac6345e8-c878-4b84-b29e-2737a83f095f",
     "showTitle": false,
     "title": ""
    }
   },
   "outputs": [],
   "source": [
    "schema_name = \"abi_sales_afr_gh_lz\"\n",
    "table_name = \"gh_customer_lz\"\n",
    "\n",
    "location = Framework.generate_bronze_table_location(\n",
    "    source_zone=\"afr\",\n",
    "    source_sys_name=\"file_bees\",\n",
    "    source_business_domain=\"sales\",\n",
    "    table_name=table_name,\n",
    ")\n",
    "\n",
    "results = Framework.write_delta_table(\n",
    "    df=df,\n",
    "    location=location,\n",
    "    schema_name=schema_name,\n",
    "    table_name=table_name,\n",
    "    load_type=Framework.LoadType.APPEND_ALL,\n",
    "    partition_columns=partition_columns,\n",
    "    schema_evolution_mode=Framework.SchemaEvolutionMode.ADD_NEW_COLUMNS,\n",
    ")\n",
    "\n",
    "print(results)"
   ]
  },
  {
   "cell_type": "code",
   "execution_count": 0,
   "metadata": {
    "application/vnd.databricks.v1+cell": {
     "inputWidgets": {},
     "nuid": "c3fe95b4-ff5b-46b7-b10a-6225868245e2",
     "showTitle": false,
     "title": ""
    }
   },
   "outputs": [],
   "source": [
    "Framework.exit_with_object(results)\n"
   ]
  }
 ],
 "metadata": {
  "application/vnd.databricks.v1+notebook": {
   "dashboards": [],
   "language": "python",
   "notebookMetadata": {},
   "notebookName": "job_abi_sales_afr_gh_lz_gh_customer_lz",
   "notebookOrigID": 749372420480492,
   "widgets": {}
  },
  "kernelspec": {
   "display_name": "Python 3 (ipykernel)",
   "language": "python",
   "name": "python3"
  },
  "language_info": {
   "codemirror_mode": {
    "name": "ipython",
    "version": 3
   },
   "file_extension": ".py",
   "mimetype": "text/x-python",
   "name": "python",
   "nbconvert_exporter": "python",
   "pygments_lexer": "ipython3",
   "version": "3.9.7"
  }
 },
 "nbformat": 4,
 "nbformat_minor": 1
}
