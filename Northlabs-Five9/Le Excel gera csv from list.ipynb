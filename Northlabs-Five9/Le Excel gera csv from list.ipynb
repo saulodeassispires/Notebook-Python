{
 "cells": [
  {
   "cell_type": "code",
   "execution_count": 16,
   "metadata": {},
   "outputs": [],
   "source": [
    "import pandas\n",
    "import openpyxl\n",
    "import csv\n",
    "from enum import Enum, unique"
   ]
  },
  {
   "cell_type": "code",
   "execution_count": 17,
   "metadata": {},
   "outputs": [],
   "source": [
    "xlsx_list = [\"C://Saulo/Andelyn/OITM - Item Master.xlsx\",\n",
    "          \"C://Saulo/Andelyn/OJDT - Journal Entry Header.xlsx\",\n",
    "          \"C://Saulo/Andelyn/JDT1 - Journal Entry Line.xlsx\"]\n",
    "\n",
    "csv_list = [\"C://Saulo/Andelyn/CSV/OITM - Item Master.csv\",\n",
    "          \"C://Saulo/Andelyn/CSV/OJDT - Journal Entry Header.csv\", \n",
    "          \"C://Saulo/Andelyn/CSV/JDT1 - Journal Entry Line.csv\"]\n",
    "\n",
    "counter = 0 \n",
    " "
   ]
  },
  {
   "cell_type": "code",
   "execution_count": 18,
   "metadata": {},
   "outputs": [
    {
     "name": "stdout",
     "output_type": "stream",
     "text": [
      "source :  C://Saulo/Andelyn/OITM - Item Master.xlsx\n",
      "destination gerado :  C://Saulo/Andelyn/CSV/OITM - Item Master.csv\n",
      "source :  C://Saulo/Andelyn/OJDT - Journal Entry Header.xlsx\n",
      "destination gerado :  C://Saulo/Andelyn/CSV/OJDT - Journal Entry Header.csv\n",
      "source :  C://Saulo/Andelyn/JDT1 - Journal Entry Line.xlsx\n",
      "destination gerado :  C://Saulo/Andelyn/CSV/JDT1 - Journal Entry Line.csv\n"
     ]
    }
   ],
   "source": [
    "\n",
    "for xls in xlsx_list:\n",
    "    source = xlsx_list[counter]\n",
    "    \n",
    "    for csv_ in csv_list:\n",
    "        destination = csv_\n",
    "        index = csv_list.index(csv_)\n",
    "        if index == counter:\n",
    "            df = pandas.read_excel(source)\n",
    "            print('source : ', source )\n",
    "            generate_csv = df.to_csv(\n",
    "                        destination,\n",
    "                         sep='|',\n",
    "                         index=False,\n",
    "                         quoting=csv.QUOTE_ALL \n",
    "                         )\n",
    "\n",
    "            print('destination gerado : ', destination)\n",
    "\n",
    "\n",
    "    counter += 1\n",
    "\n",
    "\n"
   ]
  },
  {
   "cell_type": "code",
   "execution_count": null,
   "metadata": {},
   "outputs": [],
   "source": []
  }
 ],
 "metadata": {
  "kernelspec": {
   "display_name": "Python 3",
   "language": "python",
   "name": "python3"
  },
  "language_info": {
   "codemirror_mode": {
    "name": "ipython",
    "version": 3
   },
   "file_extension": ".py",
   "mimetype": "text/x-python",
   "name": "python",
   "nbconvert_exporter": "python",
   "pygments_lexer": "ipython3",
   "version": "3.10.11"
  },
  "orig_nbformat": 4
 },
 "nbformat": 4,
 "nbformat_minor": 2
}
