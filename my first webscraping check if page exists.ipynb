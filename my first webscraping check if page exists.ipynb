{
 "cells": [
  {
   "cell_type": "code",
   "execution_count": 7,
   "metadata": {},
   "outputs": [
    {
     "name": "stdout",
     "output_type": "stream",
     "text": [
      "None\n"
     ]
    }
   ],
   "source": [
    "import requests\n",
    "from bs4 import BeautifulSoup\n",
    "\n",
    "pagina = 'https://www.facebook.com/ads/library/?active_status=all&ad_type=all&country=US&q=floyd&sort_data[direction]=desc&sort_data[mode]=relevancy_monthly_grouped&search_type=keyword_unordered&media_type=all'\n",
    "response = requests.get(pagina)\n",
    "webpage = response.content\n",
    "soup = BeautifulSoup(response.content, 'html.parser')\n",
    "html_string = requests.get(pagina).content\n",
    "\n",
    "localiza_class = soup.find(class_=\"uol-notifications-widget\")\n",
    "print(localiza_class)\n",
    "\n",
    "f = open(\"c:/Saulo/apagar2.txt\", \"w\")\n",
    "f.write(str(html_string))\n",
    "f.close()\n",
    "\n",
    "#open and read the file after the overwriting:\n",
    "#f = open(\"demofile3.txt\", \"r\")\n",
    "#print(f.read())\n"
   ]
  },
  {
   "cell_type": "code",
   "execution_count": null,
   "metadata": {},
   "outputs": [],
   "source": []
  }
 ],
 "metadata": {
  "kernelspec": {
   "display_name": "Python 3",
   "language": "python",
   "name": "python3"
  },
  "language_info": {
   "codemirror_mode": {
    "name": "ipython",
    "version": 3
   },
   "file_extension": ".py",
   "mimetype": "text/x-python",
   "name": "python",
   "nbconvert_exporter": "python",
   "pygments_lexer": "ipython3",
   "version": "3.10.9"
  },
  "orig_nbformat": 4,
  "vscode": {
   "interpreter": {
    "hash": "3e1126f69b12426fabfff4565b96e0dd44e92144004490e8b71b048a33ded346"
   }
  }
 },
 "nbformat": 4,
 "nbformat_minor": 2
}
