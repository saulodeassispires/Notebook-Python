{
 "cells": [
  {
   "cell_type": "code",
   "execution_count": 9,
   "metadata": {},
   "outputs": [
    {
     "data": {
      "text/plain": [
       "result        50\n",
       "nextPageId    50\n",
       "request_id    50\n",
       "dtype: int64"
      ]
     },
     "metadata": {},
     "output_type": "display_data"
    }
   ],
   "source": [
    "import pandas as pd\n",
    "import requests\n",
    "\n",
    "url = \"https://api.hyros.com/v1/api/v1.0/leads\"\n",
    "#url = \"https://api.hyros.com/v1/api/v1.0/leads?fromDate=2021-04-16T20:35:00-05:00&toDate=2021-12-31T20:35:00-05:00&nextPageId&limit=50\"\n",
    "\n",
    "payload={}\n",
    "headers = {\n",
    "  'API-Key': 'c116bfaecf627297e791fb12714829801f5c7da03799656c4a6cfd6a29a9c134'\n",
    "}\n",
    "\n",
    "response = requests.request(\"GET\", url, headers=headers, data=payload)\n",
    "\n",
    "df = pd.read_json(response.text)\n",
    "#print(response.text)\n",
    "\n",
    "contador = df.count()\n",
    "display(contador)\n",
    "#display(df)"
   ]
  },
  {
   "cell_type": "code",
   "execution_count": null,
   "metadata": {},
   "outputs": [],
   "source": []
  }
 ],
 "metadata": {
  "kernelspec": {
   "display_name": "Python 3",
   "language": "python",
   "name": "python3"
  },
  "language_info": {
   "codemirror_mode": {
    "name": "ipython",
    "version": 3
   },
   "file_extension": ".py",
   "mimetype": "text/x-python",
   "name": "python",
   "nbconvert_exporter": "python",
   "pygments_lexer": "ipython3",
   "version": "3.10.10"
  },
  "orig_nbformat": 4
 },
 "nbformat": 4,
 "nbformat_minor": 2
}
